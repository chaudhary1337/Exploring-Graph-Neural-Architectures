{
  "nbformat": 4,
  "nbformat_minor": 0,
  "metadata": {
    "colab": {
      "name": "GAT.ipynb",
      "provenance": [],
      "collapsed_sections": []
    },
    "kernelspec": {
      "name": "python3",
      "display_name": "Python 3"
    },
    "language_info": {
      "name": "python"
    },
    "widgets": {
      "application/vnd.jupyter.widget-state+json": {
        "404490d45166400f85bd25090a819898": {
          "model_module": "@jupyter-widgets/controls",
          "model_name": "HBoxModel",
          "model_module_version": "1.5.0",
          "state": {
            "_view_name": "HBoxView",
            "_dom_classes": [],
            "_model_name": "HBoxModel",
            "_view_module": "@jupyter-widgets/controls",
            "_model_module_version": "1.5.0",
            "_view_count": null,
            "_view_module_version": "1.5.0",
            "box_style": "",
            "layout": "IPY_MODEL_0dffb5818e3e463281ff36ea958e866f",
            "_model_module": "@jupyter-widgets/controls",
            "children": [
              "IPY_MODEL_d1fdf4970f904840b9e2a3d9ba5a460a",
              "IPY_MODEL_76ee6da398f6438abc9eaac266f09551",
              "IPY_MODEL_e225cf1129384308853a688d42fc9fb3"
            ]
          }
        },
        "0dffb5818e3e463281ff36ea958e866f": {
          "model_module": "@jupyter-widgets/base",
          "model_name": "LayoutModel",
          "model_module_version": "1.2.0",
          "state": {
            "_view_name": "LayoutView",
            "grid_template_rows": null,
            "right": null,
            "justify_content": null,
            "_view_module": "@jupyter-widgets/base",
            "overflow": null,
            "_model_module_version": "1.2.0",
            "_view_count": null,
            "flex_flow": null,
            "width": null,
            "min_width": null,
            "border": null,
            "align_items": null,
            "bottom": null,
            "_model_module": "@jupyter-widgets/base",
            "top": null,
            "grid_column": null,
            "overflow_y": null,
            "overflow_x": null,
            "grid_auto_flow": null,
            "grid_area": null,
            "grid_template_columns": null,
            "flex": null,
            "_model_name": "LayoutModel",
            "justify_items": null,
            "grid_row": null,
            "max_height": null,
            "align_content": null,
            "visibility": null,
            "align_self": null,
            "height": null,
            "min_height": null,
            "padding": null,
            "grid_auto_rows": null,
            "grid_gap": null,
            "max_width": null,
            "order": null,
            "_view_module_version": "1.2.0",
            "grid_template_areas": null,
            "object_position": null,
            "object_fit": null,
            "grid_auto_columns": null,
            "margin": null,
            "display": null,
            "left": null
          }
        },
        "d1fdf4970f904840b9e2a3d9ba5a460a": {
          "model_module": "@jupyter-widgets/controls",
          "model_name": "HTMLModel",
          "model_module_version": "1.5.0",
          "state": {
            "_view_name": "HTMLView",
            "style": "IPY_MODEL_adb188de048f47a2a48e46d930aec111",
            "_dom_classes": [],
            "description": "",
            "_model_name": "HTMLModel",
            "placeholder": "​",
            "_view_module": "@jupyter-widgets/controls",
            "_model_module_version": "1.5.0",
            "value": "100%",
            "_view_count": null,
            "_view_module_version": "1.5.0",
            "description_tooltip": null,
            "_model_module": "@jupyter-widgets/controls",
            "layout": "IPY_MODEL_581093e73fd740a3864a095099a52687"
          }
        },
        "76ee6da398f6438abc9eaac266f09551": {
          "model_module": "@jupyter-widgets/controls",
          "model_name": "FloatProgressModel",
          "model_module_version": "1.5.0",
          "state": {
            "_view_name": "ProgressView",
            "style": "IPY_MODEL_ed2e9b1153884a958a7fd1e6d482647f",
            "_dom_classes": [],
            "description": "",
            "_model_name": "FloatProgressModel",
            "bar_style": "success",
            "max": 10,
            "_view_module": "@jupyter-widgets/controls",
            "_model_module_version": "1.5.0",
            "value": 10,
            "_view_count": null,
            "_view_module_version": "1.5.0",
            "orientation": "horizontal",
            "min": 0,
            "description_tooltip": null,
            "_model_module": "@jupyter-widgets/controls",
            "layout": "IPY_MODEL_dfb0d2c719c4476591568151b859b6ad"
          }
        },
        "e225cf1129384308853a688d42fc9fb3": {
          "model_module": "@jupyter-widgets/controls",
          "model_name": "HTMLModel",
          "model_module_version": "1.5.0",
          "state": {
            "_view_name": "HTMLView",
            "style": "IPY_MODEL_4c39159fb8bf42ceaad10d54c5bed6d3",
            "_dom_classes": [],
            "description": "",
            "_model_name": "HTMLModel",
            "placeholder": "​",
            "_view_module": "@jupyter-widgets/controls",
            "_model_module_version": "1.5.0",
            "value": " 10/10 [00:59&lt;00:00,  5.94s/it]",
            "_view_count": null,
            "_view_module_version": "1.5.0",
            "description_tooltip": null,
            "_model_module": "@jupyter-widgets/controls",
            "layout": "IPY_MODEL_0612ce3640b34ae9acef9ec132b9395a"
          }
        },
        "adb188de048f47a2a48e46d930aec111": {
          "model_module": "@jupyter-widgets/controls",
          "model_name": "DescriptionStyleModel",
          "model_module_version": "1.5.0",
          "state": {
            "_view_name": "StyleView",
            "_model_name": "DescriptionStyleModel",
            "description_width": "",
            "_view_module": "@jupyter-widgets/base",
            "_model_module_version": "1.5.0",
            "_view_count": null,
            "_view_module_version": "1.2.0",
            "_model_module": "@jupyter-widgets/controls"
          }
        },
        "581093e73fd740a3864a095099a52687": {
          "model_module": "@jupyter-widgets/base",
          "model_name": "LayoutModel",
          "model_module_version": "1.2.0",
          "state": {
            "_view_name": "LayoutView",
            "grid_template_rows": null,
            "right": null,
            "justify_content": null,
            "_view_module": "@jupyter-widgets/base",
            "overflow": null,
            "_model_module_version": "1.2.0",
            "_view_count": null,
            "flex_flow": null,
            "width": null,
            "min_width": null,
            "border": null,
            "align_items": null,
            "bottom": null,
            "_model_module": "@jupyter-widgets/base",
            "top": null,
            "grid_column": null,
            "overflow_y": null,
            "overflow_x": null,
            "grid_auto_flow": null,
            "grid_area": null,
            "grid_template_columns": null,
            "flex": null,
            "_model_name": "LayoutModel",
            "justify_items": null,
            "grid_row": null,
            "max_height": null,
            "align_content": null,
            "visibility": null,
            "align_self": null,
            "height": null,
            "min_height": null,
            "padding": null,
            "grid_auto_rows": null,
            "grid_gap": null,
            "max_width": null,
            "order": null,
            "_view_module_version": "1.2.0",
            "grid_template_areas": null,
            "object_position": null,
            "object_fit": null,
            "grid_auto_columns": null,
            "margin": null,
            "display": null,
            "left": null
          }
        },
        "ed2e9b1153884a958a7fd1e6d482647f": {
          "model_module": "@jupyter-widgets/controls",
          "model_name": "ProgressStyleModel",
          "model_module_version": "1.5.0",
          "state": {
            "_view_name": "StyleView",
            "_model_name": "ProgressStyleModel",
            "description_width": "",
            "_view_module": "@jupyter-widgets/base",
            "_model_module_version": "1.5.0",
            "_view_count": null,
            "_view_module_version": "1.2.0",
            "bar_color": null,
            "_model_module": "@jupyter-widgets/controls"
          }
        },
        "dfb0d2c719c4476591568151b859b6ad": {
          "model_module": "@jupyter-widgets/base",
          "model_name": "LayoutModel",
          "model_module_version": "1.2.0",
          "state": {
            "_view_name": "LayoutView",
            "grid_template_rows": null,
            "right": null,
            "justify_content": null,
            "_view_module": "@jupyter-widgets/base",
            "overflow": null,
            "_model_module_version": "1.2.0",
            "_view_count": null,
            "flex_flow": null,
            "width": null,
            "min_width": null,
            "border": null,
            "align_items": null,
            "bottom": null,
            "_model_module": "@jupyter-widgets/base",
            "top": null,
            "grid_column": null,
            "overflow_y": null,
            "overflow_x": null,
            "grid_auto_flow": null,
            "grid_area": null,
            "grid_template_columns": null,
            "flex": null,
            "_model_name": "LayoutModel",
            "justify_items": null,
            "grid_row": null,
            "max_height": null,
            "align_content": null,
            "visibility": null,
            "align_self": null,
            "height": null,
            "min_height": null,
            "padding": null,
            "grid_auto_rows": null,
            "grid_gap": null,
            "max_width": null,
            "order": null,
            "_view_module_version": "1.2.0",
            "grid_template_areas": null,
            "object_position": null,
            "object_fit": null,
            "grid_auto_columns": null,
            "margin": null,
            "display": null,
            "left": null
          }
        },
        "4c39159fb8bf42ceaad10d54c5bed6d3": {
          "model_module": "@jupyter-widgets/controls",
          "model_name": "DescriptionStyleModel",
          "model_module_version": "1.5.0",
          "state": {
            "_view_name": "StyleView",
            "_model_name": "DescriptionStyleModel",
            "description_width": "",
            "_view_module": "@jupyter-widgets/base",
            "_model_module_version": "1.5.0",
            "_view_count": null,
            "_view_module_version": "1.2.0",
            "_model_module": "@jupyter-widgets/controls"
          }
        },
        "0612ce3640b34ae9acef9ec132b9395a": {
          "model_module": "@jupyter-widgets/base",
          "model_name": "LayoutModel",
          "model_module_version": "1.2.0",
          "state": {
            "_view_name": "LayoutView",
            "grid_template_rows": null,
            "right": null,
            "justify_content": null,
            "_view_module": "@jupyter-widgets/base",
            "overflow": null,
            "_model_module_version": "1.2.0",
            "_view_count": null,
            "flex_flow": null,
            "width": null,
            "min_width": null,
            "border": null,
            "align_items": null,
            "bottom": null,
            "_model_module": "@jupyter-widgets/base",
            "top": null,
            "grid_column": null,
            "overflow_y": null,
            "overflow_x": null,
            "grid_auto_flow": null,
            "grid_area": null,
            "grid_template_columns": null,
            "flex": null,
            "_model_name": "LayoutModel",
            "justify_items": null,
            "grid_row": null,
            "max_height": null,
            "align_content": null,
            "visibility": null,
            "align_self": null,
            "height": null,
            "min_height": null,
            "padding": null,
            "grid_auto_rows": null,
            "grid_gap": null,
            "max_width": null,
            "order": null,
            "_view_module_version": "1.2.0",
            "grid_template_areas": null,
            "object_position": null,
            "object_fit": null,
            "grid_auto_columns": null,
            "margin": null,
            "display": null,
            "left": null
          }
        }
      }
    }
  },
  "cells": [
    {
      "cell_type": "code",
      "metadata": {
        "colab": {
          "base_uri": "https://localhost:8080/"
        },
        "id": "zj_NycyMMBgd",
        "outputId": "0875b8bb-41f3-4cf4-d6db-ebe0972a7071"
      },
      "source": [
        "%%shell\n",
        "\n",
        "wget \"https://web.archive.org/web/20150918182409/http://www.cs.umd.edu/~sen/lbc-proj/data/cora.tgz\"\n",
        "tar -xzvf cora.tgz\n",
        "\n",
        "pip install torch-scatter -f https://data.pyg.org/whl/torch-1.10.0+cpu.html\n",
        "pip install torch-sparse -f https://data.pyg.org/whl/torch-1.10.0+cpu.html\n",
        "pip install torch-geometric\n",
        "\n",
        "pip install networkx\n",
        "\n",
        "pip install icecream\n",
        "pip install tqdm"
      ],
      "execution_count": null,
      "outputs": [
        {
          "output_type": "stream",
          "name": "stdout",
          "text": [
            "--2021-11-19 15:39:07--  https://web.archive.org/web/20150918182409/http://www.cs.umd.edu/~sen/lbc-proj/data/cora.tgz\n",
            "Resolving web.archive.org (web.archive.org)... 207.241.237.3\n",
            "Connecting to web.archive.org (web.archive.org)|207.241.237.3|:443... connected.\n",
            "HTTP request sent, awaiting response... 200 OK\n",
            "Length: unspecified [application/x-gzip]\n",
            "Saving to: ‘cora.tgz.2’\n",
            "\n",
            "cora.tgz.2              [  <=>               ] 163.15K   360KB/s    in 0.5s    \n",
            "\n",
            "2021-11-19 15:39:08 (360 KB/s) - ‘cora.tgz.2’ saved [167063]\n",
            "\n",
            "cora/\n",
            "cora/README\n",
            "cora/cora.content\n",
            "cora/cora.cites\n",
            "Looking in links: https://data.pyg.org/whl/torch-1.10.0+cpu.html\n",
            "Requirement already satisfied: torch-scatter in /usr/local/lib/python3.7/dist-packages (2.0.9)\n",
            "Looking in links: https://data.pyg.org/whl/torch-1.10.0+cpu.html\n",
            "Requirement already satisfied: torch-sparse in /usr/local/lib/python3.7/dist-packages (0.6.12)\n",
            "Requirement already satisfied: scipy in /usr/local/lib/python3.7/dist-packages (from torch-sparse) (1.4.1)\n",
            "Requirement already satisfied: numpy>=1.13.3 in /usr/local/lib/python3.7/dist-packages (from scipy->torch-sparse) (1.19.5)\n",
            "Requirement already satisfied: torch-geometric in /usr/local/lib/python3.7/dist-packages (2.0.2)\n",
            "Requirement already satisfied: pandas in /usr/local/lib/python3.7/dist-packages (from torch-geometric) (1.1.5)\n",
            "Requirement already satisfied: yacs in /usr/local/lib/python3.7/dist-packages (from torch-geometric) (0.1.8)\n",
            "Requirement already satisfied: numpy in /usr/local/lib/python3.7/dist-packages (from torch-geometric) (1.19.5)\n",
            "Requirement already satisfied: rdflib in /usr/local/lib/python3.7/dist-packages (from torch-geometric) (6.0.2)\n",
            "Requirement already satisfied: tqdm in /usr/local/lib/python3.7/dist-packages (from torch-geometric) (4.62.3)\n",
            "Requirement already satisfied: requests in /usr/local/lib/python3.7/dist-packages (from torch-geometric) (2.23.0)\n",
            "Requirement already satisfied: googledrivedownloader in /usr/local/lib/python3.7/dist-packages (from torch-geometric) (0.4)\n",
            "Requirement already satisfied: PyYAML in /usr/local/lib/python3.7/dist-packages (from torch-geometric) (3.13)\n",
            "Requirement already satisfied: jinja2 in /usr/local/lib/python3.7/dist-packages (from torch-geometric) (2.11.3)\n",
            "Requirement already satisfied: networkx in /usr/local/lib/python3.7/dist-packages (from torch-geometric) (2.6.3)\n",
            "Requirement already satisfied: pyparsing in /usr/local/lib/python3.7/dist-packages (from torch-geometric) (2.4.7)\n",
            "Requirement already satisfied: scipy in /usr/local/lib/python3.7/dist-packages (from torch-geometric) (1.4.1)\n",
            "Requirement already satisfied: scikit-learn in /usr/local/lib/python3.7/dist-packages (from torch-geometric) (1.0.1)\n",
            "Requirement already satisfied: MarkupSafe>=0.23 in /usr/local/lib/python3.7/dist-packages (from jinja2->torch-geometric) (2.0.1)\n",
            "Requirement already satisfied: pytz>=2017.2 in /usr/local/lib/python3.7/dist-packages (from pandas->torch-geometric) (2018.9)\n",
            "Requirement already satisfied: python-dateutil>=2.7.3 in /usr/local/lib/python3.7/dist-packages (from pandas->torch-geometric) (2.8.2)\n",
            "Requirement already satisfied: six>=1.5 in /usr/local/lib/python3.7/dist-packages (from python-dateutil>=2.7.3->pandas->torch-geometric) (1.15.0)\n",
            "Requirement already satisfied: setuptools in /usr/local/lib/python3.7/dist-packages (from rdflib->torch-geometric) (57.4.0)\n",
            "Requirement already satisfied: isodate in /usr/local/lib/python3.7/dist-packages (from rdflib->torch-geometric) (0.6.0)\n",
            "Requirement already satisfied: idna<3,>=2.5 in /usr/local/lib/python3.7/dist-packages (from requests->torch-geometric) (2.10)\n",
            "Requirement already satisfied: certifi>=2017.4.17 in /usr/local/lib/python3.7/dist-packages (from requests->torch-geometric) (2021.10.8)\n",
            "Requirement already satisfied: chardet<4,>=3.0.2 in /usr/local/lib/python3.7/dist-packages (from requests->torch-geometric) (3.0.4)\n",
            "Requirement already satisfied: urllib3!=1.25.0,!=1.25.1,<1.26,>=1.21.1 in /usr/local/lib/python3.7/dist-packages (from requests->torch-geometric) (1.24.3)\n",
            "Requirement already satisfied: threadpoolctl>=2.0.0 in /usr/local/lib/python3.7/dist-packages (from scikit-learn->torch-geometric) (3.0.0)\n",
            "Requirement already satisfied: joblib>=0.11 in /usr/local/lib/python3.7/dist-packages (from scikit-learn->torch-geometric) (1.1.0)\n",
            "Requirement already satisfied: networkx in /usr/local/lib/python3.7/dist-packages (2.6.3)\n",
            "Requirement already satisfied: icecream in /usr/local/lib/python3.7/dist-packages (2.1.1)\n",
            "Requirement already satisfied: asttokens>=2.0.1 in /usr/local/lib/python3.7/dist-packages (from icecream) (2.0.5)\n",
            "Requirement already satisfied: executing>=0.3.1 in /usr/local/lib/python3.7/dist-packages (from icecream) (0.8.2)\n",
            "Requirement already satisfied: pygments>=2.2.0 in /usr/local/lib/python3.7/dist-packages (from icecream) (2.6.1)\n",
            "Requirement already satisfied: colorama>=0.3.9 in /usr/local/lib/python3.7/dist-packages (from icecream) (0.4.4)\n",
            "Requirement already satisfied: six in /usr/local/lib/python3.7/dist-packages (from asttokens>=2.0.1->icecream) (1.15.0)\n",
            "Requirement already satisfied: tqdm in /usr/local/lib/python3.7/dist-packages (4.62.3)\n"
          ]
        },
        {
          "output_type": "execute_result",
          "data": {
            "text/plain": [
              ""
            ]
          },
          "metadata": {},
          "execution_count": 1
        }
      ]
    },
    {
      "cell_type": "code",
      "metadata": {
        "colab": {
          "base_uri": "https://localhost:8080/",
          "height": 84
        },
        "id": "2famb6qVMD4o",
        "outputId": "ff7b4691-d89f-4a28-dc1d-66b626cdf7b3"
      },
      "source": [
        "import numpy as np\n",
        "import pandas as pd\n",
        "import random\n",
        "from icecream import ic\n",
        "\n",
        "import torch\n",
        "import torch.nn as nn\n",
        "import torch.nn.functional as F\n",
        "import torch.optim as optim\n",
        "import torch_geometric\n",
        "\n",
        "import scipy\n",
        "from sklearn.model_selection import train_test_split\n",
        "from sklearn.preprocessing import LabelEncoder\n",
        "from sklearn.preprocessing import normalize\n",
        "\n",
        "import networkx as nx\n",
        "\n",
        "from tqdm.notebook import tqdm   \n",
        "\n",
        "import matplotlib.pyplot as plt\n",
        "plt.figure(figsize=(20, 20), dpi=80)\n",
        "\n",
        "\n",
        "print(\"Torch version:\", torch.__version__)\n",
        "print(\"CUDA Present:\", torch.cuda.is_available())\n",
        "print(\"CUDA Version:\", torch.version.cuda)"
      ],
      "execution_count": null,
      "outputs": [
        {
          "output_type": "stream",
          "name": "stdout",
          "text": [
            "Torch version: 1.10.0+cu111\n",
            "CUDA Present: False\n",
            "CUDA Version: 11.1\n"
          ]
        },
        {
          "output_type": "display_data",
          "data": {
            "text/plain": [
              "<Figure size 1600x1600 with 0 Axes>"
            ]
          },
          "metadata": {}
        }
      ]
    },
    {
      "cell_type": "code",
      "metadata": {
        "colab": {
          "base_uri": "https://localhost:8080/"
        },
        "id": "uINhWl8yMGBu",
        "outputId": "79a81c04-79df-4ed8-bafa-7c7f8b3303cb"
      },
      "source": [
        "CONFIG = {\n",
        "    'PATH': './cora',\n",
        "    'LIMIT': 500,\n",
        "    'HIDDEN_CHANNELS': 1024,\n",
        "    'NUM_LAYERS': 2,\n",
        "    'DROPOUT_RATE': 0,\n",
        "    'EPOCHS': 10\n",
        "}\n",
        "\n",
        "print(\"Here's the configuration: \")\n",
        "for k, v in CONFIG.items():\n",
        "    print(f\"{k} = {v}\")"
      ],
      "execution_count": null,
      "outputs": [
        {
          "output_type": "stream",
          "name": "stdout",
          "text": [
            "Here's the configuration: \n",
            "PATH = ./cora\n",
            "LIMIT = 250\n",
            "HIDDEN_CHANNELS = 1024\n",
            "NUM_LAYERS = 2\n",
            "DROPOUT_RATE = 0\n",
            "EPOCHS = 10\n"
          ]
        }
      ]
    },
    {
      "cell_type": "code",
      "metadata": {
        "id": "JNMTyh9RMHcl"
      },
      "source": [
        "class Data:\n",
        "    def __init__(self, path):\n",
        "        self.path = path\n",
        "    \n",
        "    def readFile(self, path):\n",
        "        lines = []\n",
        "        with open(path) as file:\n",
        "            lines = file.readlines()\n",
        "        return lines\n",
        "\n",
        "    def readContent(self, data):\n",
        "        nodes, labels, x = [], [], []\n",
        "        for d in data:\n",
        "            words = d.split(\"\\t\")\n",
        "            nodes.append(words[0].strip())\n",
        "            labels.append(words[-1].strip())\n",
        "            x.append([ord(w) - 48 for w in words[1:-1]])\n",
        "            # x.append(words[1:-1])\n",
        "\n",
        "        # ic(x[0])\n",
        "        LE = LabelEncoder()\n",
        "        labels = LE.fit_transform(labels)\n",
        "        ic(labels)\n",
        "        x_req = torch.Tensor(x)\n",
        "        # ic(x.shape)\n",
        "        x = pd.DataFrame.from_records(x)\n",
        "        \n",
        "        return nodes, labels, LE, x_req, x\n",
        "\n",
        "    def getLabels(self, LE, data):\n",
        "        return LE.inverse_transform(data)\n",
        "\n",
        "    def readCites(self, data):\n",
        "        edges = []\n",
        "        for d in data:\n",
        "            words = d.split(\"\\t\")\n",
        "            edges.append([\n",
        "                words[0].strip(),\n",
        "                words[1].strip()\n",
        "            ])\n",
        "        return edges\n",
        "\n",
        "    def splitDataCount(self, data, labels):\n",
        "        lcounter = dict((l, 0) for l in labels)\n",
        "        indices = []\n",
        "        for i in range(len(labels)):\n",
        "            label = labels[i]\n",
        "            if lcounter[label] < CONFIG['LIMIT']:\n",
        "                indices.append(i)\n",
        "                lcounter[label] += 1\n",
        "        rest = [x for x in range(len(labels)) if x not in indices]\n",
        "        # rest = random.sample(rest, 1000)\n",
        "        indices = torch.LongTensor(indices)\n",
        "        rest = torch.LongTensor(rest)\n",
        "        return indices, rest\n",
        "\n",
        "    def normalizeMatrix(self, A):\n",
        "        return scipy.sparse.diags(np.array(A.sum(1)).flatten() ** -1).dot(A)\n",
        "\n",
        "    def toTensor(self, A):\n",
        "        A = A.tocoo()\n",
        "        i = torch.tensor(np.vstack((A.row, A.col)), dtype=torch.long)\n",
        "        v = torch.tensor(A.data, dtype=torch.float)\n",
        "        return torch.sparse_coo_tensor(i, v, torch.Size(A.shape))\n",
        "\n",
        "    def buildGraph(self):\n",
        "        nodes, edges = self.getGraph()\n",
        "        G = nx.Graph()\n",
        "        G.add_nodes_from(nodes)\n",
        "        G.add_edges_from(edges)\n",
        "        A = nx.adjacency_matrix(G)\n",
        "        I = scipy.sparse.identity(A.shape[0])\n",
        "        A = A + I\n",
        "        A = self.normalizeMatrix(A)\n",
        "        A = self.toTensor(A)\n",
        "        A = A.to_dense()\n",
        "        ic(A.shape)\n",
        "        ic(nx.info(G))\n",
        "        return A, G\n",
        "\n",
        "    def getIndices(self):\n",
        "        return self.train, self.test\n",
        "\n",
        "    def getGraph(self):\n",
        "        return self.nodes, self.edges\n",
        "\n",
        "    def getMatrix(self):\n",
        "        return self.A\n",
        "\n",
        "    def getXY(self):\n",
        "        return self.x, torch.LongTensor(self.labels)\n",
        "\n",
        "    def printData(self):\n",
        "        print(f\"Number of nodes: {len(self.nodes)}\")\n",
        "        print(f\"Number of features per node: {len(self.x[0])}\")\n",
        "        print(f\"Categories: {set(self.labels)}\")\n",
        "\n",
        "    def handle(self):\n",
        "        data = self.readFile(self.path + '/cora.content')\n",
        "        e_data = self.readFile(self.path + '/cora.cites')\n",
        "        self.nodes, self.labels, self.LE, self.x, self.split = self.readContent(data)\n",
        "        self.train, self.test = self.splitDataCount(self.split, self.labels)\n",
        "        self.edges = self.readCites(e_data)\n",
        "        self.A, self.G = self.buildGraph()"
      ],
      "execution_count": null,
      "outputs": []
    },
    {
      "cell_type": "markdown",
      "metadata": {
        "id": "3xtItylyH6BA"
      },
      "source": [
        "![Screenshot from 2021-11-17 23-48-44.png](data:image/png;base64,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)"
      ]
    },
    {
      "cell_type": "markdown",
      "metadata": {
        "id": "jmKQZdyz9A1O"
      },
      "source": [
        "![Screenshot from 2021-11-18 22-19-16.png](data:image/png;base64,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)"
      ]
    },
    {
      "cell_type": "code",
      "metadata": {
        "id": "49KCP6LeMJYT"
      },
      "source": [
        "class MyGATLayer(nn.Module):\n",
        "    def __init__(self, in_channels, out_channels):\n",
        "        \"\"\"\n",
        "        in_channels: #features in the input\n",
        "        out_channels: #features in the output\n",
        "        these layers have their *own* independent weights and biases\n",
        "        \"\"\"\n",
        "        super().__init__()\n",
        "        self.out_channels = out_channels\n",
        "        \n",
        "        # W = FxH\n",
        "        self.W = nn.Parameter(torch.empty(in_channels, out_channels))\n",
        "        nn.init.xavier_uniform_(self.W, gain=1.414)\n",
        "\n",
        "        # a = 2Hx1 (So its essentially concating features of 2 nodes)\n",
        "        # Note: torch.empty does random assignments of value\n",
        "        self.a = nn.Parameter(torch.empty(size=(2*out_channels, 1)))\n",
        "        nn.init.xavier_uniform_(self.a, gain=1.414)\n",
        "        self.leaky = nn.LeakyReLU()\n",
        "\n",
        "        # for the attention visual\n",
        "        # self.attention = None\n",
        "\n",
        "    def forward(self, X, A):\n",
        "        \"\"\"\n",
        "        does the neat math on *symmetrically normalized* A\n",
        "        \"\"\"\n",
        "\n",
        "        # Normal feature calculation, Wh = NxH\n",
        "        wh = torch.mm(X, self.W)\n",
        "\n",
        "        # wh = NxH, a = 2Hx1, halfA = Hx1\n",
        "        # both half = NxH * Hx1 = Nx1\n",
        "        first_half = wh@self.a[self.out_channels:, :]\n",
        "        second_half = wh@self.a[:self.out_channels, :]\n",
        "\n",
        "        # NxN\n",
        "        after = second_half + first_half.T\n",
        "        after = self.leaky(after)\n",
        "        neginf = 0*torch.ones_like(after)\n",
        "        attention = torch.where(A>0, after, neginf)\n",
        "        attention = F.softmax(attention, dim=1)\n",
        "        hprime = torch.matmul(attention, wh)\n",
        "        # ic(hprime.shape)\n",
        "\n",
        "        # self.attention = attention\n",
        "        return F.elu(hprime)"
      ],
      "execution_count": null,
      "outputs": []
    },
    {
      "cell_type": "code",
      "metadata": {
        "id": "vj_AM_h-MfGy"
      },
      "source": [
        "class MyGAT(nn.Module):\n",
        "    def __init__(\n",
        "            self, \n",
        "            in_channels, \n",
        "            hidden_channels, \n",
        "            num_layers, \n",
        "            out_channels, \n",
        "            dropout_rate,\n",
        "            attention_channels,\n",
        "        ):\n",
        "        super().__init__()\n",
        "        self.in_channels = in_channels\n",
        "        self.hidden_channels = hidden_channels\n",
        "        self.num_layers = num_layers\n",
        "        self.out_channels = out_channels\n",
        "        self.dropout_rate = dropout_rate\n",
        "        \n",
        "        self.MyGATLayers = [\n",
        "            MyGATLayer(self.in_channels, self.hidden_channels)\n",
        "        ]\n",
        "        for _ in range(1, self.num_layers):\n",
        "            self.MyGATLayers.append(\n",
        "                MyGATLayer(self.hidden_channels, self.hidden_channels)\n",
        "            )        \n",
        "        self.outputLayer = MyGATLayer(self.hidden_channels, self.out_channels)\n",
        "\n",
        "    # def get_attention_matrices(self, yeet=False):\n",
        "    #     attention_matrices = [\n",
        "    #         layer.attention.detach().numpy() for layer in self.MyGATLayers\n",
        "    #     ]\n",
        "    #     if yeet: return attention_matrices\n",
        "        \n",
        "    #     I = np.eye(attention_matrices[0].shape[0], attention_matrices[0].shape[1])\n",
        "\n",
        "    #     return [\n",
        "    #         np.subtract(matrix, I) for matrix in attention_matrices\n",
        "    #     ]\n",
        "    \n",
        "    def forward(self, X, A):\n",
        "        \"\"\"\n",
        "        math done on *symmetrically normalized* A\n",
        "        \"\"\"\n",
        "        for layer in self.MyGATLayers:\n",
        "            X = layer.forward(X, A)\n",
        "\n",
        "        X = F.relu(X)\n",
        "        X = F.dropout(X, p=self.dropout_rate, training=self.training)\n",
        "        X = self.outputLayer.forward(X, A)\n",
        "        \n",
        "        return F.log_softmax(X)"
      ],
      "execution_count": null,
      "outputs": []
    },
    {
      "cell_type": "code",
      "metadata": {
        "colab": {
          "base_uri": "https://localhost:8080/"
        },
        "id": "WzQyZ0ubNiVa",
        "outputId": "f58faa91-1535-4401-df17-ab74b04eff70"
      },
      "source": [
        "dataset = Data(CONFIG['PATH'])\n",
        "dataset.handle()\n",
        "X, y = dataset.getXY()\n",
        "train, test = dataset.getIndices()\n",
        "ic(X.shape, y.shape)\n",
        "ic(train.shape, test.shape)\n",
        "A = dataset.getMatrix()"
      ],
      "execution_count": null,
      "outputs": [
        {
          "output_type": "stream",
          "name": "stderr",
          "text": [
            "ic| labels: array([2, 5, 4, ..., 1, 0, 2])\n",
            "ic| A.shape: torch.Size([2708, 2708])\n",
            "ic| nx.info(G): 'Graph with 2708 nodes and 5278 edges'\n",
            "ic| X.shape: torch.Size([2708, 1433]), y.shape: torch.Size([2708])\n",
            "ic| train.shape: torch.Size([1647]), test.shape: torch.Size([1061])\n"
          ]
        }
      ]
    },
    {
      "cell_type": "code",
      "metadata": {
        "id": "nWuktd-wNjnF"
      },
      "source": [
        "model = MyGAT(\n",
        "    in_channels=X.shape[1],\n",
        "    hidden_channels=CONFIG['HIDDEN_CHANNELS'],\n",
        "    num_layers=CONFIG['NUM_LAYERS'],\n",
        "    out_channels=7,\n",
        "    dropout_rate=CONFIG['DROPOUT_RATE'],\n",
        "    attention_channels=A.shape[1]\n",
        ")\n",
        "\n",
        "loss = nn.NLLLoss()\n",
        "optimizer = optim.Adam(model.parameters(), lr=0.01)"
      ],
      "execution_count": null,
      "outputs": []
    },
    {
      "cell_type": "code",
      "metadata": {
        "id": "KY-Bd9VlNlvX",
        "colab": {
          "base_uri": "https://localhost:8080/",
          "height": 86,
          "referenced_widgets": [
            "404490d45166400f85bd25090a819898",
            "0dffb5818e3e463281ff36ea958e866f",
            "d1fdf4970f904840b9e2a3d9ba5a460a",
            "76ee6da398f6438abc9eaac266f09551",
            "e225cf1129384308853a688d42fc9fb3",
            "adb188de048f47a2a48e46d930aec111",
            "581093e73fd740a3864a095099a52687",
            "ed2e9b1153884a958a7fd1e6d482647f",
            "dfb0d2c719c4476591568151b859b6ad",
            "4c39159fb8bf42ceaad10d54c5bed6d3",
            "0612ce3640b34ae9acef9ec132b9395a"
          ]
        },
        "outputId": "9d3875ef-f8b4-478b-be5a-bab3d8a7313c"
      },
      "source": [
        "losses = []\n",
        "for _ in tqdm(range(CONFIG['EPOCHS'])):\n",
        "    optimizer.zero_grad()\n",
        "    output = model.forward(X, A)\n",
        "    train_x = torch.index_select(output, 0, train)\n",
        "    train_y = torch.index_select(y, 0, train)\n",
        "    l = loss(train_x, train_y)\n",
        "    l.backward()\n",
        "    losses.append(l.item())\n",
        "    optimizer.step()"
      ],
      "execution_count": null,
      "outputs": [
        {
          "output_type": "display_data",
          "data": {
            "application/vnd.jupyter.widget-view+json": {
              "model_id": "404490d45166400f85bd25090a819898",
              "version_minor": 0,
              "version_major": 2
            },
            "text/plain": [
              "  0%|          | 0/10 [00:00<?, ?it/s]"
            ]
          },
          "metadata": {}
        },
        {
          "output_type": "stream",
          "name": "stderr",
          "text": [
            "/usr/local/lib/python3.7/dist-packages/ipykernel_launcher.py:50: UserWarning: Implicit dimension choice for log_softmax has been deprecated. Change the call to include dim=X as an argument.\n"
          ]
        }
      ]
    },
    {
      "cell_type": "code",
      "metadata": {
        "colab": {
          "base_uri": "https://localhost:8080/"
        },
        "id": "CnSChh8jqlJM",
        "outputId": "9169a2c2-fa37-44f0-c24d-6a1091c3f637"
      },
      "source": [
        "losses"
      ],
      "execution_count": null,
      "outputs": [
        {
          "output_type": "execute_result",
          "data": {
            "text/plain": [
              "[1.9482448101043701,\n",
              " 1.9481967687606812,\n",
              " 1.9434757232666016,\n",
              " 1.9423068761825562,\n",
              " 1.9452130794525146,\n",
              " 1.9453544616699219,\n",
              " 1.9431345462799072,\n",
              " 1.9415209293365479,\n",
              " 1.9412553310394287,\n",
              " 1.9414817094802856]"
            ]
          },
          "metadata": {},
          "execution_count": 64
        }
      ]
    },
    {
      "cell_type": "code",
      "metadata": {
        "colab": {
          "base_uri": "https://localhost:8080/"
        },
        "id": "5AI6296Sq1G1",
        "outputId": "595861de-d113-4528-cc88-000911d25edb"
      },
      "source": [
        "output = model.forward(X, A)\n",
        "test_x = torch.index_select(output, 0, test)\n",
        "test_y = torch.index_select(y, 0, test)"
      ],
      "execution_count": null,
      "outputs": [
        {
          "output_type": "stream",
          "name": "stderr",
          "text": [
            "/usr/local/lib/python3.7/dist-packages/ipykernel_launcher.py:50: UserWarning: Implicit dimension choice for log_softmax has been deprecated. Change the call to include dim=X as an argument.\n"
          ]
        }
      ]
    },
    {
      "cell_type": "code",
      "metadata": {
        "id": "BGVUew3wq2yM"
      },
      "source": [
        "predictions = torch.argmax(test_x, dim=1)"
      ],
      "execution_count": null,
      "outputs": []
    },
    {
      "cell_type": "code",
      "metadata": {
        "id": "1uOEhMYVq3Z0"
      },
      "source": [
        "predictions, test_y = predictions.numpy(), test_y.numpy()"
      ],
      "execution_count": null,
      "outputs": []
    },
    {
      "cell_type": "code",
      "metadata": {
        "colab": {
          "base_uri": "https://localhost:8080/"
        },
        "id": "0KtCJX5tq3l6",
        "outputId": "32bc6bcc-70ec-4ec7-82b9-458b80112acf"
      },
      "source": [
        "acc = 0\n",
        "for i in range(len(test_y)):\n",
        "    if predictions[i] == test_y[i]:\n",
        "        acc += 1\n",
        "ic(acc/len(test_y)*100)"
      ],
      "execution_count": null,
      "outputs": [
        {
          "output_type": "stream",
          "name": "stderr",
          "text": [
            "ic| acc/len(test_y)*100: 4.524033930254477\n"
          ]
        },
        {
          "output_type": "execute_result",
          "data": {
            "text/plain": [
              "4.524033930254477"
            ]
          },
          "metadata": {},
          "execution_count": 56
        }
      ]
    },
    {
      "cell_type": "code",
      "metadata": {
        "id": "hBCGduRk8dMB"
      },
      "source": [
        "def get_attention_matrices():    \n",
        "    X, y = dataset.getXY()\n",
        "    A = dataset.getMatrix()\n",
        "    \n",
        "    attention_matrices = None\n",
        "    with torch.no_grad():\n",
        "        attention_matrices = model.get_attention_matrices(yeet=True)\n",
        "    return attention_matrices\n",
        "\n",
        "attention_matrices = get_attention_matrices()\n",
        "\n",
        "# DEBUGGING INFORMATION\n",
        "# ic(X.shape)\n",
        "# ic(A.shape)\n",
        "# ic(output.shape)\n",
        "# ic(len(attention_matrices))\n",
        "# ic(attention_matrices[-1].shape)"
      ],
      "execution_count": null,
      "outputs": []
    },
    {
      "cell_type": "code",
      "metadata": {
        "id": "ZO7ujz9Qdumq"
      },
      "source": [
        "def get_class_rows(matrix, class_label=1):\n",
        "    n = len(X)\n",
        "    indices = [int(y[i] == class_label) for i in range(n)]\n",
        "    return np.array(indices)"
      ],
      "execution_count": null,
      "outputs": []
    },
    {
      "cell_type": "code",
      "metadata": {
        "colab": {
          "base_uri": "https://localhost:8080/",
          "height": 553
        },
        "id": "7G3nIe3aREdm",
        "outputId": "4476d7ce-2c8f-4b51-b410-3e5b24d4d0eb"
      },
      "source": [
        "def plot_matrix(matrix, label, filter_class=None):\n",
        "    start_point_x, start_point_y = 420, 420\n",
        "    end_point_x, end_point_y = 469, 469\n",
        "\n",
        "    # plt.figure(figsize=(200, 200))\n",
        "\n",
        "    if filter_class:\n",
        "        indices = get_class_rows(matrix, filter_class)\n",
        "        # print(indices)\n",
        "\n",
        "        new_mat = []\n",
        "        m, n = len(matrix), len(matrix[0])\n",
        "        for i in range(m):\n",
        "            if indices[i]:\n",
        "                new_row = []\n",
        "                for j in range(n):\n",
        "                    if indices[j]: \n",
        "                        new_row.append(matrix[i][j])\n",
        "                new_mat.append(np.array(new_row))\n",
        "        matrix = np.array(new_mat)\n",
        "    \n",
        "\n",
        "    # matrix = normalize(matrix, axis=1)\n",
        "    plt.matshow(matrix, cmap=plt.get_cmap(\"binary\"))\n",
        "    plt.title(label)\n",
        "    # plt.legend()\n",
        "    plt.show()\n",
        "\n",
        "plot_matrix(attention_matrices[0], \"first attention matrix\")\n",
        "plot_matrix(attention_matrices[-1], \"last attention matrix\")"
      ],
      "execution_count": null,
      "outputs": [
        {
          "output_type": "display_data",
          "data": {
            "image/png": "[encoded data removed]",
            "text/plain": [
              "<Figure size 288x288 with 1 Axes>"
            ]
          },
          "metadata": {
            "needs_background": "light"
          }
        },
        {
          "output_type": "display_data",
          "data": {
            "image/png": "[encoded data removed]",
            "text/plain": [
              "<Figure size 288x288 with 1 Axes>"
            ]
          },
          "metadata": {
            "needs_background": "light"
          }
        }
      ]
    }
  ]
}