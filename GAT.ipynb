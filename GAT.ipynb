{
  "nbformat": 4,
  "nbformat_minor": 0,
  "metadata": {
    "colab": {
      "name": "Working GAT.ipynb",
      "provenance": [],
      "collapsed_sections": []
    },
    "kernelspec": {
      "name": "python3",
      "display_name": "Python 3"
    },
    "language_info": {
      "name": "python"
    },
    "widgets": {
      "application/vnd.jupyter.widget-state+json": {
        "03fd625b566149b2af4c158549b965a1": {
          "model_module": "@jupyter-widgets/controls",
          "model_name": "HBoxModel",
          "model_module_version": "1.5.0",
          "state": {
            "_view_name": "HBoxView",
            "_dom_classes": [],
            "_model_name": "HBoxModel",
            "_view_module": "@jupyter-widgets/controls",
            "_model_module_version": "1.5.0",
            "_view_count": null,
            "_view_module_version": "1.5.0",
            "box_style": "",
            "layout": "IPY_MODEL_43cf9971c85846f5a1b3d93028ad1d67",
            "_model_module": "@jupyter-widgets/controls",
            "children": [
              "IPY_MODEL_740da36f8986454ebeb2322f4f82448c",
              "IPY_MODEL_64a72caaef1349abb6112c00fafb7dfd",
              "IPY_MODEL_475722dfa5c342f3aa3b8cbf66ccb9dd"
            ]
          }
        },
        "43cf9971c85846f5a1b3d93028ad1d67": {
          "model_module": "@jupyter-widgets/base",
          "model_name": "LayoutModel",
          "model_module_version": "1.2.0",
          "state": {
            "_view_name": "LayoutView",
            "grid_template_rows": null,
            "right": null,
            "justify_content": null,
            "_view_module": "@jupyter-widgets/base",
            "overflow": null,
            "_model_module_version": "1.2.0",
            "_view_count": null,
            "flex_flow": null,
            "width": null,
            "min_width": null,
            "border": null,
            "align_items": null,
            "bottom": null,
            "_model_module": "@jupyter-widgets/base",
            "top": null,
            "grid_column": null,
            "overflow_y": null,
            "overflow_x": null,
            "grid_auto_flow": null,
            "grid_area": null,
            "grid_template_columns": null,
            "flex": null,
            "_model_name": "LayoutModel",
            "justify_items": null,
            "grid_row": null,
            "max_height": null,
            "align_content": null,
            "visibility": null,
            "align_self": null,
            "height": null,
            "min_height": null,
            "padding": null,
            "grid_auto_rows": null,
            "grid_gap": null,
            "max_width": null,
            "order": null,
            "_view_module_version": "1.2.0",
            "grid_template_areas": null,
            "object_position": null,
            "object_fit": null,
            "grid_auto_columns": null,
            "margin": null,
            "display": null,
            "left": null
          }
        },
        "740da36f8986454ebeb2322f4f82448c": {
          "model_module": "@jupyter-widgets/controls",
          "model_name": "HTMLModel",
          "model_module_version": "1.5.0",
          "state": {
            "_view_name": "HTMLView",
            "style": "IPY_MODEL_d464a56d66b14387a9258f4e99556721",
            "_dom_classes": [],
            "description": "",
            "_model_name": "HTMLModel",
            "placeholder": "​",
            "_view_module": "@jupyter-widgets/controls",
            "_model_module_version": "1.5.0",
            "value": "100%",
            "_view_count": null,
            "_view_module_version": "1.5.0",
            "description_tooltip": null,
            "_model_module": "@jupyter-widgets/controls",
            "layout": "IPY_MODEL_437596e77cb143129b1d7605b8fb1a7d"
          }
        },
        "64a72caaef1349abb6112c00fafb7dfd": {
          "model_module": "@jupyter-widgets/controls",
          "model_name": "FloatProgressModel",
          "model_module_version": "1.5.0",
          "state": {
            "_view_name": "ProgressView",
            "style": "IPY_MODEL_cd34905e6c704d32b1cc9bf2ae649267",
            "_dom_classes": [],
            "description": "",
            "_model_name": "FloatProgressModel",
            "bar_style": "success",
            "max": 200,
            "_view_module": "@jupyter-widgets/controls",
            "_model_module_version": "1.5.0",
            "value": 200,
            "_view_count": null,
            "_view_module_version": "1.5.0",
            "orientation": "horizontal",
            "min": 0,
            "description_tooltip": null,
            "_model_module": "@jupyter-widgets/controls",
            "layout": "IPY_MODEL_e42c5b0153124ea29dc172efe456ccee"
          }
        },
        "475722dfa5c342f3aa3b8cbf66ccb9dd": {
          "model_module": "@jupyter-widgets/controls",
          "model_name": "HTMLModel",
          "model_module_version": "1.5.0",
          "state": {
            "_view_name": "HTMLView",
            "style": "IPY_MODEL_0ac3f40cdfbc431285f91d05ba77578a",
            "_dom_classes": [],
            "description": "",
            "_model_name": "HTMLModel",
            "placeholder": "​",
            "_view_module": "@jupyter-widgets/controls",
            "_model_module_version": "1.5.0",
            "value": " 200/200 [07:29&lt;00:00,  2.24s/it]",
            "_view_count": null,
            "_view_module_version": "1.5.0",
            "description_tooltip": null,
            "_model_module": "@jupyter-widgets/controls",
            "layout": "IPY_MODEL_482b1a761553436c9ccf3ae49091ac96"
          }
        },
        "d464a56d66b14387a9258f4e99556721": {
          "model_module": "@jupyter-widgets/controls",
          "model_name": "DescriptionStyleModel",
          "model_module_version": "1.5.0",
          "state": {
            "_view_name": "StyleView",
            "_model_name": "DescriptionStyleModel",
            "description_width": "",
            "_view_module": "@jupyter-widgets/base",
            "_model_module_version": "1.5.0",
            "_view_count": null,
            "_view_module_version": "1.2.0",
            "_model_module": "@jupyter-widgets/controls"
          }
        },
        "437596e77cb143129b1d7605b8fb1a7d": {
          "model_module": "@jupyter-widgets/base",
          "model_name": "LayoutModel",
          "model_module_version": "1.2.0",
          "state": {
            "_view_name": "LayoutView",
            "grid_template_rows": null,
            "right": null,
            "justify_content": null,
            "_view_module": "@jupyter-widgets/base",
            "overflow": null,
            "_model_module_version": "1.2.0",
            "_view_count": null,
            "flex_flow": null,
            "width": null,
            "min_width": null,
            "border": null,
            "align_items": null,
            "bottom": null,
            "_model_module": "@jupyter-widgets/base",
            "top": null,
            "grid_column": null,
            "overflow_y": null,
            "overflow_x": null,
            "grid_auto_flow": null,
            "grid_area": null,
            "grid_template_columns": null,
            "flex": null,
            "_model_name": "LayoutModel",
            "justify_items": null,
            "grid_row": null,
            "max_height": null,
            "align_content": null,
            "visibility": null,
            "align_self": null,
            "height": null,
            "min_height": null,
            "padding": null,
            "grid_auto_rows": null,
            "grid_gap": null,
            "max_width": null,
            "order": null,
            "_view_module_version": "1.2.0",
            "grid_template_areas": null,
            "object_position": null,
            "object_fit": null,
            "grid_auto_columns": null,
            "margin": null,
            "display": null,
            "left": null
          }
        },
        "cd34905e6c704d32b1cc9bf2ae649267": {
          "model_module": "@jupyter-widgets/controls",
          "model_name": "ProgressStyleModel",
          "model_module_version": "1.5.0",
          "state": {
            "_view_name": "StyleView",
            "_model_name": "ProgressStyleModel",
            "description_width": "",
            "_view_module": "@jupyter-widgets/base",
            "_model_module_version": "1.5.0",
            "_view_count": null,
            "_view_module_version": "1.2.0",
            "bar_color": null,
            "_model_module": "@jupyter-widgets/controls"
          }
        },
        "e42c5b0153124ea29dc172efe456ccee": {
          "model_module": "@jupyter-widgets/base",
          "model_name": "LayoutModel",
          "model_module_version": "1.2.0",
          "state": {
            "_view_name": "LayoutView",
            "grid_template_rows": null,
            "right": null,
            "justify_content": null,
            "_view_module": "@jupyter-widgets/base",
            "overflow": null,
            "_model_module_version": "1.2.0",
            "_view_count": null,
            "flex_flow": null,
            "width": null,
            "min_width": null,
            "border": null,
            "align_items": null,
            "bottom": null,
            "_model_module": "@jupyter-widgets/base",
            "top": null,
            "grid_column": null,
            "overflow_y": null,
            "overflow_x": null,
            "grid_auto_flow": null,
            "grid_area": null,
            "grid_template_columns": null,
            "flex": null,
            "_model_name": "LayoutModel",
            "justify_items": null,
            "grid_row": null,
            "max_height": null,
            "align_content": null,
            "visibility": null,
            "align_self": null,
            "height": null,
            "min_height": null,
            "padding": null,
            "grid_auto_rows": null,
            "grid_gap": null,
            "max_width": null,
            "order": null,
            "_view_module_version": "1.2.0",
            "grid_template_areas": null,
            "object_position": null,
            "object_fit": null,
            "grid_auto_columns": null,
            "margin": null,
            "display": null,
            "left": null
          }
        },
        "0ac3f40cdfbc431285f91d05ba77578a": {
          "model_module": "@jupyter-widgets/controls",
          "model_name": "DescriptionStyleModel",
          "model_module_version": "1.5.0",
          "state": {
            "_view_name": "StyleView",
            "_model_name": "DescriptionStyleModel",
            "description_width": "",
            "_view_module": "@jupyter-widgets/base",
            "_model_module_version": "1.5.0",
            "_view_count": null,
            "_view_module_version": "1.2.0",
            "_model_module": "@jupyter-widgets/controls"
          }
        },
        "482b1a761553436c9ccf3ae49091ac96": {
          "model_module": "@jupyter-widgets/base",
          "model_name": "LayoutModel",
          "model_module_version": "1.2.0",
          "state": {
            "_view_name": "LayoutView",
            "grid_template_rows": null,
            "right": null,
            "justify_content": null,
            "_view_module": "@jupyter-widgets/base",
            "overflow": null,
            "_model_module_version": "1.2.0",
            "_view_count": null,
            "flex_flow": null,
            "width": null,
            "min_width": null,
            "border": null,
            "align_items": null,
            "bottom": null,
            "_model_module": "@jupyter-widgets/base",
            "top": null,
            "grid_column": null,
            "overflow_y": null,
            "overflow_x": null,
            "grid_auto_flow": null,
            "grid_area": null,
            "grid_template_columns": null,
            "flex": null,
            "_model_name": "LayoutModel",
            "justify_items": null,
            "grid_row": null,
            "max_height": null,
            "align_content": null,
            "visibility": null,
            "align_self": null,
            "height": null,
            "min_height": null,
            "padding": null,
            "grid_auto_rows": null,
            "grid_gap": null,
            "max_width": null,
            "order": null,
            "_view_module_version": "1.2.0",
            "grid_template_areas": null,
            "object_position": null,
            "object_fit": null,
            "grid_auto_columns": null,
            "margin": null,
            "display": null,
            "left": null
          }
        }
      }
    }
  },
  "cells": [
    {
      "cell_type": "code",
      "metadata": {
        "colab": {
          "base_uri": "https://localhost:8080/"
        },
        "id": "zj_NycyMMBgd",
        "outputId": "918a80e7-0a96-49a6-f9c3-173c13f1d93d"
      },
      "source": [
        "%%shell\n",
        "\n",
        "wget \"https://web.archive.org/web/20150918182409/http://www.cs.umd.edu/~sen/lbc-proj/data/cora.tgz\"\n",
        "tar -xzvf cora.tgz\n",
        "\n",
        "pip install torch-scatter -f https://data.pyg.org/whl/torch-1.10.0+cpu.html\n",
        "pip install torch-sparse -f https://data.pyg.org/whl/torch-1.10.0+cpu.html\n",
        "pip install torch-geometric\n",
        "\n",
        "pip install networkx\n",
        "\n",
        "pip install icecream\n",
        "pip install tqdm"
      ],
      "execution_count": 1,
      "outputs": [
        {
          "output_type": "stream",
          "name": "stdout",
          "text": [
            "--2021-11-20 06:53:13--  https://web.archive.org/web/20150918182409/http://www.cs.umd.edu/~sen/lbc-proj/data/cora.tgz\n",
            "Resolving web.archive.org (web.archive.org)... 207.241.237.3\n",
            "Connecting to web.archive.org (web.archive.org)|207.241.237.3|:443... connected.\n",
            "HTTP request sent, awaiting response... 200 OK\n",
            "Length: unspecified [application/x-gzip]\n",
            "Saving to: ‘cora.tgz’\n",
            "\n",
            "cora.tgz                [   <=>              ] 163.15K   363KB/s    in 0.4s    \n",
            "\n",
            "2021-11-20 06:53:18 (363 KB/s) - ‘cora.tgz’ saved [167063]\n",
            "\n",
            "cora/\n",
            "cora/README\n",
            "cora/cora.content\n",
            "cora/cora.cites\n",
            "Looking in links: https://data.pyg.org/whl/torch-1.10.0+cpu.html\n",
            "Collecting torch-scatter\n",
            "  Downloading https://data.pyg.org/whl/torch-1.10.0%2Bcpu/torch_scatter-2.0.9-cp37-cp37m-linux_x86_64.whl (291 kB)\n",
            "\u001b[K     |████████████████████████████████| 291 kB 5.3 MB/s \n",
            "\u001b[?25hInstalling collected packages: torch-scatter\n",
            "Successfully installed torch-scatter-2.0.9\n",
            "Looking in links: https://data.pyg.org/whl/torch-1.10.0+cpu.html\n",
            "Collecting torch-sparse\n",
            "  Downloading https://data.pyg.org/whl/torch-1.10.0%2Bcpu/torch_sparse-0.6.12-cp37-cp37m-linux_x86_64.whl (639 kB)\n",
            "\u001b[K     |████████████████████████████████| 639 kB 4.8 MB/s \n",
            "\u001b[?25hRequirement already satisfied: scipy in /usr/local/lib/python3.7/dist-packages (from torch-sparse) (1.4.1)\n",
            "Requirement already satisfied: numpy>=1.13.3 in /usr/local/lib/python3.7/dist-packages (from scipy->torch-sparse) (1.19.5)\n",
            "Installing collected packages: torch-sparse\n",
            "Successfully installed torch-sparse-0.6.12\n",
            "Collecting torch-geometric\n",
            "  Downloading torch_geometric-2.0.2.tar.gz (325 kB)\n",
            "\u001b[K     |████████████████████████████████| 325 kB 5.3 MB/s \n",
            "\u001b[?25hRequirement already satisfied: numpy in /usr/local/lib/python3.7/dist-packages (from torch-geometric) (1.19.5)\n",
            "Requirement already satisfied: tqdm in /usr/local/lib/python3.7/dist-packages (from torch-geometric) (4.62.3)\n",
            "Requirement already satisfied: scipy in /usr/local/lib/python3.7/dist-packages (from torch-geometric) (1.4.1)\n",
            "Requirement already satisfied: networkx in /usr/local/lib/python3.7/dist-packages (from torch-geometric) (2.6.3)\n",
            "Requirement already satisfied: scikit-learn in /usr/local/lib/python3.7/dist-packages (from torch-geometric) (1.0.1)\n",
            "Requirement already satisfied: requests in /usr/local/lib/python3.7/dist-packages (from torch-geometric) (2.23.0)\n",
            "Requirement already satisfied: pandas in /usr/local/lib/python3.7/dist-packages (from torch-geometric) (1.1.5)\n",
            "Collecting rdflib\n",
            "  Downloading rdflib-6.0.2-py3-none-any.whl (407 kB)\n",
            "\u001b[K     |████████████████████████████████| 407 kB 39.8 MB/s \n",
            "\u001b[?25hRequirement already satisfied: googledrivedownloader in /usr/local/lib/python3.7/dist-packages (from torch-geometric) (0.4)\n",
            "Requirement already satisfied: jinja2 in /usr/local/lib/python3.7/dist-packages (from torch-geometric) (2.11.3)\n",
            "Requirement already satisfied: pyparsing in /usr/local/lib/python3.7/dist-packages (from torch-geometric) (3.0.6)\n",
            "Collecting yacs\n",
            "  Downloading yacs-0.1.8-py3-none-any.whl (14 kB)\n",
            "Requirement already satisfied: PyYAML in /usr/local/lib/python3.7/dist-packages (from torch-geometric) (3.13)\n",
            "Requirement already satisfied: MarkupSafe>=0.23 in /usr/local/lib/python3.7/dist-packages (from jinja2->torch-geometric) (2.0.1)\n",
            "Requirement already satisfied: pytz>=2017.2 in /usr/local/lib/python3.7/dist-packages (from pandas->torch-geometric) (2018.9)\n",
            "Requirement already satisfied: python-dateutil>=2.7.3 in /usr/local/lib/python3.7/dist-packages (from pandas->torch-geometric) (2.8.2)\n",
            "Requirement already satisfied: six>=1.5 in /usr/local/lib/python3.7/dist-packages (from python-dateutil>=2.7.3->pandas->torch-geometric) (1.15.0)\n",
            "Collecting isodate\n",
            "  Downloading isodate-0.6.0-py2.py3-none-any.whl (45 kB)\n",
            "\u001b[K     |████████████████████████████████| 45 kB 3.6 MB/s \n",
            "\u001b[?25hRequirement already satisfied: setuptools in /usr/local/lib/python3.7/dist-packages (from rdflib->torch-geometric) (57.4.0)\n",
            "Requirement already satisfied: certifi>=2017.4.17 in /usr/local/lib/python3.7/dist-packages (from requests->torch-geometric) (2021.10.8)\n",
            "Requirement already satisfied: urllib3!=1.25.0,!=1.25.1,<1.26,>=1.21.1 in /usr/local/lib/python3.7/dist-packages (from requests->torch-geometric) (1.24.3)\n",
            "Requirement already satisfied: chardet<4,>=3.0.2 in /usr/local/lib/python3.7/dist-packages (from requests->torch-geometric) (3.0.4)\n",
            "Requirement already satisfied: idna<3,>=2.5 in /usr/local/lib/python3.7/dist-packages (from requests->torch-geometric) (2.10)\n",
            "Requirement already satisfied: threadpoolctl>=2.0.0 in /usr/local/lib/python3.7/dist-packages (from scikit-learn->torch-geometric) (3.0.0)\n",
            "Requirement already satisfied: joblib>=0.11 in /usr/local/lib/python3.7/dist-packages (from scikit-learn->torch-geometric) (1.1.0)\n",
            "Building wheels for collected packages: torch-geometric\n",
            "  Building wheel for torch-geometric (setup.py) ... \u001b[?25l\u001b[?25hdone\n",
            "  Created wheel for torch-geometric: filename=torch_geometric-2.0.2-py3-none-any.whl size=535570 sha256=c536699c54cf551d5ac9d5340efc93a0f0199009e92dc7fcbfafc25b3a8774ea\n",
            "  Stored in directory: /root/.cache/pip/wheels/3f/08/13/2321517088bb2e95bfd0e45033bb9c923189e5b2078e0be4ef\n",
            "Successfully built torch-geometric\n",
            "Installing collected packages: isodate, yacs, rdflib, torch-geometric\n",
            "Successfully installed isodate-0.6.0 rdflib-6.0.2 torch-geometric-2.0.2 yacs-0.1.8\n",
            "Requirement already satisfied: networkx in /usr/local/lib/python3.7/dist-packages (2.6.3)\n",
            "Collecting icecream\n",
            "  Downloading icecream-2.1.1-py2.py3-none-any.whl (8.1 kB)\n",
            "Collecting colorama>=0.3.9\n",
            "  Downloading colorama-0.4.4-py2.py3-none-any.whl (16 kB)\n",
            "Collecting executing>=0.3.1\n",
            "  Downloading executing-0.8.2-py2.py3-none-any.whl (16 kB)\n",
            "Collecting asttokens>=2.0.1\n",
            "  Downloading asttokens-2.0.5-py2.py3-none-any.whl (20 kB)\n",
            "Requirement already satisfied: pygments>=2.2.0 in /usr/local/lib/python3.7/dist-packages (from icecream) (2.6.1)\n",
            "Requirement already satisfied: six in /usr/local/lib/python3.7/dist-packages (from asttokens>=2.0.1->icecream) (1.15.0)\n",
            "Installing collected packages: executing, colorama, asttokens, icecream\n",
            "Successfully installed asttokens-2.0.5 colorama-0.4.4 executing-0.8.2 icecream-2.1.1\n",
            "Requirement already satisfied: tqdm in /usr/local/lib/python3.7/dist-packages (4.62.3)\n"
          ]
        },
        {
          "output_type": "execute_result",
          "data": {
            "text/plain": [
              ""
            ]
          },
          "metadata": {},
          "execution_count": 1
        }
      ]
    },
    {
      "cell_type": "code",
      "metadata": {
        "colab": {
          "base_uri": "https://localhost:8080/"
        },
        "id": "2famb6qVMD4o",
        "outputId": "8703a8c2-3091-44e7-9d6d-a3d45b58e4dd"
      },
      "source": [
        "import numpy as np\n",
        "import pandas as pd\n",
        "import random\n",
        "from collections import Counter\n",
        "from icecream import ic\n",
        "\n",
        "import torch\n",
        "import torch.nn as nn\n",
        "import torch.nn.functional as F\n",
        "import torch.optim as optim\n",
        "import torch_geometric\n",
        "\n",
        "import networkx as nx\n",
        "import scipy\n",
        "\n",
        "from sklearn.model_selection import train_test_split\n",
        "from sklearn.preprocessing import LabelEncoder\n",
        "from sklearn.preprocessing import normalize\n",
        "\n",
        "from tqdm.notebook import tqdm\n",
        "\n",
        "print(\"Torch version:\", torch.__version__)\n",
        "print(\"CUDA Present:\", torch.cuda.is_available())\n",
        "print(\"CUDA Version:\", torch.version.cuda)"
      ],
      "execution_count": 124,
      "outputs": [
        {
          "output_type": "stream",
          "name": "stdout",
          "text": [
            "Torch version: 1.10.0+cu111\n",
            "CUDA Present: False\n",
            "CUDA Version: 11.1\n"
          ]
        }
      ]
    },
    {
      "cell_type": "code",
      "metadata": {
        "colab": {
          "base_uri": "https://localhost:8080/"
        },
        "id": "uINhWl8yMGBu",
        "outputId": "2609637a-cf93-4075-f044-1b344bcb5316"
      },
      "source": [
        "CONFIG = {\n",
        "    'PATH': './cora',\n",
        "    'LIMIT': 250,\n",
        "    'HIDDEN_CHANNELS': 1024,\n",
        "    'NUM_LAYERS': 2,\n",
        "    'DROPOUT_RATE': 0,\n",
        "    'EPOCHS': 200\n",
        "}\n",
        "\n",
        "print(\"Here's the configuration: \")\n",
        "for k, v in CONFIG.items():\n",
        "    print(f\"{k} = {v}\")"
      ],
      "execution_count": 154,
      "outputs": [
        {
          "output_type": "stream",
          "name": "stdout",
          "text": [
            "Here's the configuration: \n",
            "PATH = ./cora\n",
            "LIMIT = 250\n",
            "HIDDEN_CHANNELS = 1024\n",
            "NUM_LAYERS = 2\n",
            "DROPOUT_RATE = 0\n",
            "EPOCHS = 200\n"
          ]
        }
      ]
    },
    {
      "cell_type": "code",
      "metadata": {
        "id": "JNMTyh9RMHcl"
      },
      "source": [
        "class Data:\n",
        "    def __init__(self, path):\n",
        "        self.path = path\n",
        "    \n",
        "    def readFile(self, path):\n",
        "        lines = []\n",
        "        with open(path) as file:\n",
        "            lines = file.readlines()\n",
        "        return lines\n",
        "\n",
        "    def readContent(self, data):\n",
        "        nodes, labels, x = [], [], []\n",
        "        for d in data:\n",
        "            words = d.split(\"\\t\")\n",
        "            nodes.append(words[0].strip())\n",
        "            labels.append(words[-1].strip())\n",
        "            x.append([ord(w) - 48 for w in words[1:-1]])\n",
        "\n",
        "        LE = LabelEncoder()\n",
        "        labels = LE.fit_transform(labels)\n",
        "        x_req = torch.Tensor(x)\n",
        "        # ic(x.shape)\n",
        "        x = pd.DataFrame.from_records(x)\n",
        "        \n",
        "        return nodes, labels, LE, x_req, x\n",
        "\n",
        "    def getLabels(self, LE, data):\n",
        "        return LE.inverse_transform(data)\n",
        "\n",
        "    def readCites(self, data):\n",
        "        edges = []\n",
        "        for d in data:\n",
        "            words = d.split(\"\\t\")\n",
        "            edges.append([\n",
        "                words[0].strip(),\n",
        "                words[1].strip()\n",
        "            ])\n",
        "        return edges\n",
        "\n",
        "    def splitDataCount(self, data, labels):\n",
        "        lcounter = dict((l, 0) for l in labels)\n",
        "        indices = []\n",
        "        for i in range(len(labels)):\n",
        "            label = labels[i]\n",
        "            if lcounter[label] < CONFIG['LIMIT']:\n",
        "                indices.append(i)\n",
        "                lcounter[label] += 1\n",
        "        rest = [x for x in range(len(labels)) if x not in indices]\n",
        "        rest = torch.LongTensor(rest)\n",
        "        indices = torch.LongTensor(indices)\n",
        "        return rest, indices\n",
        "\n",
        "    def normalizeMatrix(self, A):\n",
        "        return scipy.sparse.diags(np.array(A.sum(1)).flatten() ** -1).dot(A)\n",
        "\n",
        "    def toTensor(self, A):\n",
        "        A = A.tocoo()\n",
        "        i = torch.tensor(np.vstack((A.row, A.col)), dtype=torch.long)\n",
        "        v = torch.tensor(A.data, dtype=torch.float)\n",
        "        return torch.sparse_coo_tensor(i, v, torch.Size(A.shape))\n",
        "\n",
        "    def buildGraph(self):\n",
        "        nodes, edges = self.getGraph()\n",
        "        G = nx.Graph()\n",
        "        G.add_nodes_from(nodes)\n",
        "        G.add_edges_from(edges)\n",
        "        A = nx.adjacency_matrix(G)\n",
        "        I = scipy.sparse.identity(A.shape[0])\n",
        "        A = A + I\n",
        "        A = self.normalizeMatrix(A)\n",
        "        A = self.toTensor(A)\n",
        "        A = A.to_dense()\n",
        "        ic(A.shape)\n",
        "        ic(nx.info(G))\n",
        "        return A, G\n",
        "\n",
        "    def getIndices(self):\n",
        "        return self.train, self.test\n",
        "\n",
        "    def getGraph(self):\n",
        "        return self.nodes, self.edges\n",
        "\n",
        "    def getMatrix(self):\n",
        "        return self.A\n",
        "\n",
        "    def getXY(self):\n",
        "        return self.x, torch.LongTensor(self.labels)\n",
        "\n",
        "    def printData(self):\n",
        "        print(f\"Number of nodes: {len(self.nodes)}\")\n",
        "        print(f\"Number of features per node: {len(self.x[0])}\")\n",
        "        print(f\"Categories: {set(self.labels)}\")\n",
        "\n",
        "    def handle(self):\n",
        "        data = self.readFile(self.path + '/cora.content')\n",
        "        e_data = self.readFile(self.path + '/cora.cites')\n",
        "        self.nodes, self.labels, self.LE, self.x, self.x_req = self.readContent(data)\n",
        "        self.edges = self.readCites(e_data)\n",
        "        self.test, self.train = self.splitDataCount(self.x_req, self.labels)\n",
        "        self.A, self.G = self.buildGraph()"
      ],
      "execution_count": 155,
      "outputs": []
    },
    {
      "cell_type": "code",
      "metadata": {
        "id": "49KCP6LeMJYT"
      },
      "source": [
        "class MyGATLayer(nn.Module):\n",
        "    def __init__(self, in_channels, out_channels):\n",
        "        \"\"\"\n",
        "        in_channels: #features in the input\n",
        "        out_channels: #features in the output\n",
        "        these layers have their *own* independent weights and biases\n",
        "        \"\"\"\n",
        "        super().__init__()\n",
        "        self.out_channels = out_channels\n",
        "        \n",
        "        # W = FxH\n",
        "        self.W = nn.Parameter(torch.empty(in_channels, out_channels))\n",
        "        nn.init.xavier_uniform_(self.W, gain=1.414)\n",
        "\n",
        "        # a = 2Hx1 (So its essentially concating features of 2 nodes)\n",
        "        # Note: torch.empty does random assignments of value\n",
        "        self.a = nn.Parameter(torch.empty(size=(2*out_channels, 1)))\n",
        "        nn.init.xavier_uniform_(self.a, gain=1.414)\n",
        "\n",
        "        self.leaky = nn.LeakyReLU()\n",
        "        self.attention = None\n",
        "\n",
        "    def forward(self, X, A):\n",
        "        \"\"\"\n",
        "        does the neat math on *symmetrically normalized* A\n",
        "        \"\"\"\n",
        "\n",
        "        # Normal feature calculation, Wh = NxH\n",
        "        wh = torch.mm(X, self.W)\n",
        "\n",
        "        # wh = NxH, a = 2Hx1, halfA = Hx1\n",
        "        # both half = NxH * Hx1 = Nx1\n",
        "        first_half = wh@self.a[self.out_channels:, :]\n",
        "        second_half = wh@self.a[:self.out_channels, :]\n",
        "\n",
        "        # Attention matrix formed by combining both halfs\n",
        "        after = second_half + first_half.T\n",
        "        after = self.leaky(after)\n",
        "\n",
        "        # Combining adj matrix and attention matrix\n",
        "        # Attention should only be a number if connection between nodes exist\n",
        "        zmat = -1e17*torch.ones_like(after)\n",
        "        attention = torch.where(A>0, after, zmat)\n",
        "        attention = F.softmax(attention, dim=1)\n",
        "\n",
        "        # Multiplication of features with attention\n",
        "        hprime = torch.matmul(attention, wh)\n",
        "\n",
        "        # storing for visualisation reasons\n",
        "        self.attention = attention\n",
        "\n",
        "        return F.elu(hprime)"
      ],
      "execution_count": 156,
      "outputs": []
    },
    {
      "cell_type": "code",
      "metadata": {
        "id": "vj_AM_h-MfGy"
      },
      "source": [
        "class MyGAT(nn.Module):\n",
        "    def __init__(\n",
        "            self, \n",
        "            in_channels, \n",
        "            hidden_channels, \n",
        "            num_layers, \n",
        "            out_channels, \n",
        "            dropout_rate,\n",
        "            attention_channels,\n",
        "        ):\n",
        "        super().__init__()\n",
        "        self.in_channels = in_channels\n",
        "        self.hidden_channels = hidden_channels\n",
        "        self.num_layers = num_layers\n",
        "        self.out_channels = out_channels\n",
        "        self.dropout_rate = dropout_rate\n",
        "        \n",
        "        self.MyGATLayers = []\n",
        "        self.MyGATLayers.append(\n",
        "            MyGATLayer(self.in_channels, self.hidden_channels)\n",
        "        )\n",
        "        self.outputLayers = MyGATLayer(self.hidden_channels, self.out_channels)\n",
        "\n",
        "        for _ in range(1, self.num_layers):\n",
        "            self.MyGATLayers.append(\n",
        "                MyGATLayer(self.hidden_channels, self.hidden_channels)\n",
        "            )\n",
        "\n",
        "    def sdMul(self, X, Y):\n",
        "        i = X._indices()\n",
        "        v = X._values()\n",
        "        dv = Y[i[0,:], i[1,:]]\n",
        "        return torch.sparse.FloatTensor(i, v*dv, X.size())\n",
        "\n",
        "    def get_attention_matrices(self, yeet=False):\n",
        "        attention_matrices = [\n",
        "            layer.attention.detach().numpy() for layer in self.MyGATLayers\n",
        "        ]\n",
        "        if yeet: return attention_matrices\n",
        "        \n",
        "        I = np.eye(attention_matrices[0].shape[0], attention_matrices[0].shape[1])\n",
        "\n",
        "        return [\n",
        "            np.subtract(matrix, I) for matrix in attention_matrices\n",
        "        ]\n",
        "    \n",
        "    def forward(self, X, A):\n",
        "        \"\"\"\n",
        "        math done on *symmetrically normalized* A\n",
        "        \"\"\"\n",
        "        for layer in self.MyGATLayers:\n",
        "            X = layer.forward(X, A)\n",
        "        X = F.relu(X)\n",
        "        X = F.dropout(X, p=self.dropout_rate, training=self.training)\n",
        "        X = self.outputLayers.forward(X, A)\n",
        "        return F.log_softmax(X)"
      ],
      "execution_count": 157,
      "outputs": []
    },
    {
      "cell_type": "code",
      "metadata": {
        "colab": {
          "base_uri": "https://localhost:8080/"
        },
        "id": "WzQyZ0ubNiVa",
        "outputId": "857e5ac2-dcf9-4a3e-cb09-b04737126cfc"
      },
      "source": [
        "dataset = Data(CONFIG['PATH'])\n",
        "dataset.handle()\n",
        "X, y = dataset.getXY()\n",
        "train, test = dataset.getIndices()\n",
        "A = dataset.getMatrix()\n",
        "ic(X.shape, y.shape)\n",
        "ic(train.shape, test.shape)"
      ],
      "execution_count": 158,
      "outputs": [
        {
          "output_type": "stream",
          "name": "stderr",
          "text": [
            "ic| A.shape: torch.Size([2708, 2708])\n",
            "ic| nx.info(G): 'Graph with 2708 nodes and 5278 edges'\n",
            "ic| X.shape: torch.Size([2708, 1433]), y.shape: torch.Size([2708])\n",
            "ic| train.shape: torch.Size([1647]), test.shape: torch.Size([1061])\n"
          ]
        },
        {
          "output_type": "execute_result",
          "data": {
            "text/plain": [
              "(torch.Size([1647]), torch.Size([1061]))"
            ]
          },
          "metadata": {},
          "execution_count": 158
        }
      ]
    },
    {
      "cell_type": "code",
      "metadata": {
        "colab": {
          "base_uri": "https://localhost:8080/"
        },
        "id": "zQXpo0muRB4E",
        "outputId": "5f4cfe48-b713-4269-e2eb-aa035df3a5fa"
      },
      "source": [
        "print(f\"frequency map: {Counter(y.numpy())}\")"
      ],
      "execution_count": 159,
      "outputs": [
        {
          "output_type": "stream",
          "name": "stdout",
          "text": [
            "frequency map: Counter({2: 818, 3: 426, 1: 418, 6: 351, 0: 298, 4: 217, 5: 180})\n"
          ]
        }
      ]
    },
    {
      "cell_type": "code",
      "metadata": {
        "id": "nWuktd-wNjnF"
      },
      "source": [
        "model = MyGAT(\n",
        "    in_channels=X.shape[1],\n",
        "    hidden_channels=CONFIG['HIDDEN_CHANNELS'],\n",
        "    num_layers=CONFIG['NUM_LAYERS'],\n",
        "    out_channels=7,\n",
        "    dropout_rate=CONFIG['DROPOUT_RATE'],\n",
        "    attention_channels=A.shape[1]\n",
        ")\n",
        "\n",
        "loss = nn.NLLLoss()\n",
        "optimizer = optim.Adam(model.parameters())"
      ],
      "execution_count": 160,
      "outputs": []
    },
    {
      "cell_type": "code",
      "metadata": {
        "id": "KY-Bd9VlNlvX",
        "colab": {
          "base_uri": "https://localhost:8080/",
          "height": 86,
          "referenced_widgets": [
            "03fd625b566149b2af4c158549b965a1",
            "43cf9971c85846f5a1b3d93028ad1d67",
            "740da36f8986454ebeb2322f4f82448c",
            "64a72caaef1349abb6112c00fafb7dfd",
            "475722dfa5c342f3aa3b8cbf66ccb9dd",
            "d464a56d66b14387a9258f4e99556721",
            "437596e77cb143129b1d7605b8fb1a7d",
            "cd34905e6c704d32b1cc9bf2ae649267",
            "e42c5b0153124ea29dc172efe456ccee",
            "0ac3f40cdfbc431285f91d05ba77578a",
            "482b1a761553436c9ccf3ae49091ac96"
          ]
        },
        "outputId": "3deb9a75-ae4f-4bb2-fccf-3c8c54fc09d2"
      },
      "source": [
        "losses = []\n",
        "for _ in tqdm(range(CONFIG['EPOCHS'])):\n",
        "    optimizer.zero_grad()\n",
        "    output = model.forward(X, A)\n",
        "    train_x = torch.index_select(output, 0, train)\n",
        "    train_y = torch.index_select(y, 0, train)\n",
        "    l = loss(train_x, train_y)\n",
        "    l.backward()\n",
        "    losses.append(l.item())\n",
        "    optimizer.step()"
      ],
      "execution_count": 161,
      "outputs": [
        {
          "output_type": "display_data",
          "data": {
            "application/vnd.jupyter.widget-view+json": {
              "model_id": "03fd625b566149b2af4c158549b965a1",
              "version_minor": 0,
              "version_major": 2
            },
            "text/plain": [
              "  0%|          | 0/200 [00:00<?, ?it/s]"
            ]
          },
          "metadata": {}
        },
        {
          "output_type": "stream",
          "name": "stderr",
          "text": [
            "/usr/local/lib/python3.7/dist-packages/ipykernel_launcher.py:56: UserWarning: Implicit dimension choice for log_softmax has been deprecated. Change the call to include dim=X as an argument.\n"
          ]
        }
      ]
    },
    {
      "cell_type": "code",
      "metadata": {
        "id": "bGT-dfa7N21o",
        "colab": {
          "base_uri": "https://localhost:8080/"
        },
        "outputId": "f6e69a87-e0b4-4158-985c-4ec7dfdf2192"
      },
      "source": [
        "losses # benchmark"
      ],
      "execution_count": 162,
      "outputs": [
        {
          "output_type": "execute_result",
          "data": {
            "text/plain": [
              "[1.959848165512085,\n",
              " 1.9467955827713013,\n",
              " 1.9338105916976929,\n",
              " 1.920880675315857,\n",
              " 1.9079865217208862,\n",
              " 1.8951102495193481,\n",
              " 1.8822333812713623,\n",
              " 1.869348168373108,\n",
              " 1.8564478158950806,\n",
              " 1.843531847000122,\n",
              " 1.8306047916412354,\n",
              " 1.8176676034927368,\n",
              " 1.8047233819961548,\n",
              " 1.7917736768722534,\n",
              " 1.7788214683532715,\n",
              " 1.7658753395080566,\n",
              " 1.752943515777588,\n",
              " 1.7400329113006592,\n",
              " 1.7271523475646973,\n",
              " 1.714313268661499,\n",
              " 1.7015262842178345,\n",
              " 1.6887997388839722,\n",
              " 1.6761432886123657,\n",
              " 1.6635645627975464,\n",
              " 1.6510683298110962,\n",
              " 1.6386590003967285,\n",
              " 1.6263424158096313,\n",
              " 1.6141213178634644,\n",
              " 1.60199773311615,\n",
              " 1.5899702310562134,\n",
              " 1.578041434288025,\n",
              " 1.566211462020874,\n",
              " 1.5544782876968384,\n",
              " 1.5428433418273926,\n",
              " 1.5313053131103516,\n",
              " 1.5198655128479004,\n",
              " 1.5085235834121704,\n",
              " 1.4972774982452393,\n",
              " 1.4861279726028442,\n",
              " 1.4750744104385376,\n",
              " 1.464116096496582,\n",
              " 1.453253984451294,\n",
              " 1.4424864053726196,\n",
              " 1.4318147897720337,\n",
              " 1.421238899230957,\n",
              " 1.4107589721679688,\n",
              " 1.4003759622573853,\n",
              " 1.3900902271270752,\n",
              " 1.379901647567749,\n",
              " 1.3698095083236694,\n",
              " 1.3598145246505737,\n",
              " 1.3499161005020142,\n",
              " 1.3401151895523071,\n",
              " 1.330410361289978,\n",
              " 1.3208003044128418,\n",
              " 1.3112852573394775,\n",
              " 1.3018642663955688,\n",
              " 1.2925368547439575,\n",
              " 1.2833030223846436,\n",
              " 1.2741621732711792,\n",
              " 1.2651139497756958,\n",
              " 1.2561575174331665,\n",
              " 1.2472913265228271,\n",
              " 1.238516092300415,\n",
              " 1.2298314571380615,\n",
              " 1.2212369441986084,\n",
              " 1.212730884552002,\n",
              " 1.2043126821517944,\n",
              " 1.1959807872772217,\n",
              " 1.187734603881836,\n",
              " 1.1795743703842163,\n",
              " 1.1714998483657837,\n",
              " 1.1635109186172485,\n",
              " 1.1556060314178467,\n",
              " 1.1477854251861572,\n",
              " 1.1400474309921265,\n",
              " 1.1323928833007812,\n",
              " 1.1248207092285156,\n",
              " 1.1173291206359863,\n",
              " 1.1099178791046143,\n",
              " 1.102584958076477,\n",
              " 1.0953295230865479,\n",
              " 1.0881521701812744,\n",
              " 1.0810515880584717,\n",
              " 1.074026107788086,\n",
              " 1.0670777559280396,\n",
              " 1.0602046251296997,\n",
              " 1.0534051656723022,\n",
              " 1.0466796159744263,\n",
              " 1.0400272607803345,\n",
              " 1.0334467887878418,\n",
              " 1.0269378423690796,\n",
              " 1.0204994678497314,\n",
              " 1.0141316652297974,\n",
              " 1.0078331232070923,\n",
              " 1.001603364944458,\n",
              " 0.9954407215118408,\n",
              " 0.989345908164978,\n",
              " 0.9833180904388428,\n",
              " 0.9773572087287903,\n",
              " 0.9714623689651489,\n",
              " 0.9656328558921814,\n",
              " 0.9598680734634399,\n",
              " 0.9541675448417664,\n",
              " 0.9485297799110413,\n",
              " 0.9429535865783691,\n",
              " 0.937438428401947,\n",
              " 0.9319843649864197,\n",
              " 0.9265906810760498,\n",
              " 0.9212562441825867,\n",
              " 0.915981113910675,\n",
              " 0.9107638001441956,\n",
              " 0.9056034088134766,\n",
              " 0.9004994034767151,\n",
              " 0.8954511880874634,\n",
              " 0.8904582858085632,\n",
              " 0.8855198621749878,\n",
              " 0.8806355595588684,\n",
              " 0.8758046627044678,\n",
              " 0.8710259795188904,\n",
              " 0.8662992119789124,\n",
              " 0.8616233468055725,\n",
              " 0.8569974303245544,\n",
              " 0.8524211645126343,\n",
              " 0.8478940725326538,\n",
              " 0.8434157371520996,\n",
              " 0.8389847874641418,\n",
              " 0.8346017003059387,\n",
              " 0.830265998840332,\n",
              " 0.825977087020874,\n",
              " 0.8217341303825378,\n",
              " 0.8175361752510071,\n",
              " 0.8133826851844788,\n",
              " 0.8092731237411499,\n",
              " 0.8052070736885071,\n",
              " 0.8011839985847473,\n",
              " 0.7972030639648438,\n",
              " 0.7932643294334412,\n",
              " 0.7893662452697754,\n",
              " 0.7855088710784912,\n",
              " 0.7816913723945618,\n",
              " 0.7779135704040527,\n",
              " 0.7741748690605164,\n",
              " 0.7704751491546631,\n",
              " 0.7668132185935974,\n",
              " 0.7631888389587402,\n",
              " 0.7596015334129333,\n",
              " 0.7560508251190186,\n",
              " 0.7525361776351929,\n",
              " 0.7490569949150085,\n",
              " 0.7456127405166626,\n",
              " 0.7422033548355103,\n",
              " 0.7388283610343933,\n",
              " 0.7354869842529297,\n",
              " 0.7321787476539612,\n",
              " 0.7289037704467773,\n",
              " 0.7256610989570618,\n",
              " 0.7224505543708801,\n",
              " 0.7192715406417847,\n",
              " 0.7161235809326172,\n",
              " 0.7130063772201538,\n",
              " 0.7099196314811707,\n",
              " 0.7068626880645752,\n",
              " 0.7038352489471436,\n",
              " 0.7008369565010071,\n",
              " 0.6978673338890076,\n",
              " 0.6949261426925659,\n",
              " 0.6920130252838135,\n",
              " 0.6891276240348816,\n",
              " 0.6862696409225464,\n",
              " 0.6834387183189392,\n",
              " 0.6806343197822571,\n",
              " 0.6778560876846313,\n",
              " 0.6751039028167725,\n",
              " 0.6723771691322327,\n",
              " 0.6696756482124329,\n",
              " 0.6669988036155701,\n",
              " 0.6643465161323547,\n",
              " 0.6617183089256287,\n",
              " 0.6591139435768127,\n",
              " 0.6565330028533936,\n",
              " 0.6539757251739502,\n",
              " 0.6514415144920349,\n",
              " 0.6489300727844238,\n",
              " 0.6464409232139587,\n",
              " 0.6439738273620605,\n",
              " 0.6415284872055054,\n",
              " 0.6391047239303589,\n",
              " 0.6367021203041077,\n",
              " 0.6343203783035278,\n",
              " 0.6319591999053955,\n",
              " 0.6296181678771973,\n",
              " 0.6272972226142883,\n",
              " 0.6249962449073792,\n",
              " 0.6227146983146667,\n",
              " 0.6204525232315063,\n",
              " 0.6182094812393188,\n",
              " 0.6159851551055908,\n",
              " 0.6137794852256775,\n",
              " 0.6115919947624207]"
            ]
          },
          "metadata": {},
          "execution_count": 162
        }
      ]
    },
    {
      "cell_type": "code",
      "metadata": {
        "colab": {
          "base_uri": "https://localhost:8080/",
          "height": 483
        },
        "id": "hr4Bf7RoSCzn",
        "outputId": "72c6a292-ec31-49d3-9d93-898c460464db"
      },
      "source": [
        "plt.figure(figsize=(16,8))\n",
        "plt.plot(losses)\n",
        "plt.grid(alpha=0.5)\n",
        "plt.show()"
      ],
      "execution_count": 163,
      "outputs": [
        {
          "output_type": "display_data",
          "data": {
            "image/png": "[encoded data removed]",
            "text/plain": [
              "<Figure size 1152x576 with 1 Axes>"
            ]
          },
          "metadata": {
            "needs_background": "light"
          }
        }
      ]
    },
    {
      "cell_type": "code",
      "metadata": {
        "colab": {
          "base_uri": "https://localhost:8080/"
        },
        "id": "6bUHsNPx3bLV",
        "outputId": "f212a2fd-ae59-476e-9972-7a1cf4721e8d"
      },
      "source": [
        "output = model.forward(X, A)\n",
        "test_x = torch.index_select(output, 0, test)\n",
        "test_y = torch.index_select(y, 0, test)"
      ],
      "execution_count": 164,
      "outputs": [
        {
          "output_type": "stream",
          "name": "stderr",
          "text": [
            "/usr/local/lib/python3.7/dist-packages/ipykernel_launcher.py:56: UserWarning: Implicit dimension choice for log_softmax has been deprecated. Change the call to include dim=X as an argument.\n"
          ]
        }
      ]
    },
    {
      "cell_type": "code",
      "metadata": {
        "id": "VJW_m3bQ3fHu"
      },
      "source": [
        "predictions = torch.argmax(test_x, dim=1)"
      ],
      "execution_count": 165,
      "outputs": []
    },
    {
      "cell_type": "code",
      "metadata": {
        "colab": {
          "base_uri": "https://localhost:8080/"
        },
        "id": "DkbHJ5ko3gmC",
        "outputId": "6034eb64-008b-473c-be9e-1a298f8b78c5"
      },
      "source": [
        "predictions.shape"
      ],
      "execution_count": 166,
      "outputs": [
        {
          "output_type": "execute_result",
          "data": {
            "text/plain": [
              "torch.Size([1061])"
            ]
          },
          "metadata": {},
          "execution_count": 166
        }
      ]
    },
    {
      "cell_type": "code",
      "metadata": {
        "id": "ABPy_zTO3iQk"
      },
      "source": [
        "predictions, test_y = predictions.numpy(), test_y.numpy()"
      ],
      "execution_count": 167,
      "outputs": []
    },
    {
      "cell_type": "code",
      "metadata": {
        "colab": {
          "base_uri": "https://localhost:8080/"
        },
        "id": "viZY3TOa3lBY",
        "outputId": "4bb67c72-a180-42d4-f76d-49374ea4f23c"
      },
      "source": [
        "acc = 0\n",
        "for i in range(len(test_y)):\n",
        "    if predictions[i] == test_y[i]:\n",
        "        acc += 1\n",
        "ic(acc/len(test_y)*100)"
      ],
      "execution_count": 168,
      "outputs": [
        {
          "output_type": "stream",
          "name": "stderr",
          "text": [
            "ic| acc/len(test_y)*100: 82.3751178133836\n"
          ]
        },
        {
          "output_type": "execute_result",
          "data": {
            "text/plain": [
              "82.3751178133836"
            ]
          },
          "metadata": {},
          "execution_count": 168
        }
      ]
    },
    {
      "cell_type": "code",
      "metadata": {
        "id": "insiE2SGhypD"
      },
      "source": [
        "torch.save(model.state_dict(), f\"model_save_{round(acc/len(test_y)*100, 3)}.model\")"
      ],
      "execution_count": 169,
      "outputs": []
    },
    {
      "cell_type": "code",
      "metadata": {
        "colab": {
          "base_uri": "https://localhost:8080/"
        },
        "id": "9pHqenGv3nYr",
        "outputId": "0dc7c9d0-2f93-45d8-80c2-52ea74c113ee"
      },
      "source": [
        "predictions"
      ],
      "execution_count": 170,
      "outputs": [
        {
          "output_type": "execute_result",
          "data": {
            "text/plain": [
              "array([2, 2, 2, ..., 1, 0, 2])"
            ]
          },
          "metadata": {},
          "execution_count": 170
        }
      ]
    },
    {
      "cell_type": "code",
      "metadata": {
        "colab": {
          "base_uri": "https://localhost:8080/"
        },
        "id": "yc2_2dkW5TlK",
        "outputId": "68421097-59c1-4c32-e98a-89d23b7b7318"
      },
      "source": [
        "test_y"
      ],
      "execution_count": 171,
      "outputs": [
        {
          "output_type": "execute_result",
          "data": {
            "text/plain": [
              "array([2, 2, 2, ..., 1, 0, 2])"
            ]
          },
          "metadata": {},
          "execution_count": 171
        }
      ]
    },
    {
      "cell_type": "code",
      "metadata": {
        "colab": {
          "base_uri": "https://localhost:8080/"
        },
        "id": "9zAsb94C5WVa",
        "outputId": "97323d57-8e6e-4026-d6d0-680531fdae27"
      },
      "source": [
        "from collections import Counter\n",
        "c = Counter(predictions)\n",
        "print(c)"
      ],
      "execution_count": 172,
      "outputs": [
        {
          "output_type": "stream",
          "name": "stdout",
          "text": [
            "Counter({2: 468, 3: 207, 1: 162, 6: 132, 0: 64, 4: 17, 5: 11})\n"
          ]
        }
      ]
    },
    {
      "cell_type": "code",
      "metadata": {
        "colab": {
          "base_uri": "https://localhost:8080/"
        },
        "id": "ldi8jXEs5tB3",
        "outputId": "739813a1-ff46-4bc1-d4c3-f86bea05ffc8"
      },
      "source": [
        "from collections import Counter\n",
        "c = Counter(test_y)\n",
        "print(c)"
      ],
      "execution_count": 173,
      "outputs": [
        {
          "output_type": "stream",
          "name": "stdout",
          "text": [
            "Counter({2: 568, 3: 176, 1: 168, 6: 101, 0: 48})\n"
          ]
        }
      ]
    },
    {
      "cell_type": "code",
      "metadata": {
        "id": "PVFU6qiI6aAK"
      },
      "source": [
        "import matplotlib.pyplot as plt"
      ],
      "execution_count": 174,
      "outputs": []
    },
    {
      "cell_type": "code",
      "metadata": {
        "id": "5jINzT6S5wIk"
      },
      "source": [
        "def get_attention_matrices():    \n",
        "    X, y = dataset.getXY()\n",
        "    A = dataset.getMatrix()\n",
        "    \n",
        "    attention_matrices = None\n",
        "    with torch.no_grad():\n",
        "        attention_matrices = model.get_attention_matrices(yeet=True)\n",
        "    return attention_matrices\n",
        "\n",
        "attention_matrices = get_attention_matrices()\n",
        "\n",
        "# DEBUGGING INFORMATION\n",
        "# ic(X.shape)\n",
        "# ic(A.shape)\n",
        "# ic(output.shape)\n",
        "# ic(len(attention_matrices))\n",
        "# ic(attention_matrices[-1].shape)"
      ],
      "execution_count": 175,
      "outputs": []
    },
    {
      "cell_type": "code",
      "metadata": {
        "id": "fOwjkpoX4K_z"
      },
      "source": [
        "def get_class_rows(matrix, class_label=1):\n",
        "    n = len(X)\n",
        "    indices = [int(y[i] == class_label) for i in range(n)]\n",
        "    return np.array(indices)"
      ],
      "execution_count": 176,
      "outputs": []
    },
    {
      "cell_type": "code",
      "metadata": {
        "colab": {
          "base_uri": "https://localhost:8080/",
          "height": 1000
        },
        "id": "GP63XyhH4MWp",
        "outputId": "93208bf2-3681-4923-925d-9f701e4d3683"
      },
      "source": [
        "def plot_matrix(matrix, label, filter_class=None):\n",
        "    start_point_x, start_point_y = 0, 0\n",
        "    end_point_x, end_point_y = 42, 42\n",
        "\n",
        "    if filter_class is not None:\n",
        "        indices = get_class_rows(matrix, filter_class)\n",
        "        # print(indices)\n",
        "\n",
        "        new_mat = []\n",
        "        m, n = len(matrix), len(matrix[0])\n",
        "        for i in range(m):\n",
        "            if indices[i]:\n",
        "                new_row = []\n",
        "                for j in range(n):\n",
        "                    if indices[j]: \n",
        "                        new_row.append(matrix[i][j])\n",
        "                new_mat.append(np.array(new_row)[start_point_y:end_point_y])\n",
        "        matrix = np.array(new_mat)[start_point_x:end_point_x]\n",
        "    \n",
        "\n",
        "    matrix = normalize(matrix, axis=1)\n",
        "    print(matrix.shape)\n",
        "    plt.figure(figsize=(20,20))\n",
        "    plt.matshow(matrix, fignum=1, cmap=plt.get_cmap(\"viridis\"))\n",
        "    # plt.title(label)\n",
        "    # plt.legend()\n",
        "    plt.show()\n",
        "\n",
        "# plot_matrix(attention_matrices[0], \"first attention matrix\", filter_class=None)\n",
        "# plot_matrix(attention_matrices[-1], \"last attention matrix\", filter_class=None)\n",
        "for i in range(7):\n",
        "    plot_matrix(np.subtract(attention_matrices[-1], attention_matrices[0]), \"\", filter_class=i)"
      ],
      "execution_count": 190,
      "outputs": [
        {
          "output_type": "stream",
          "name": "stdout",
          "text": [
            "(42, 42)\n"
          ]
        },
        {
          "output_type": "display_data",
          "data": {
            "image/png": "[encoded data removed]",
            "text/plain": [
              "<Figure size 1440x1440 with 1 Axes>"
            ]
          },
          "metadata": {
            "needs_background": "light"
          }
        },
        {
          "output_type": "stream",
          "name": "stdout",
          "text": [
            "(42, 42)\n"
          ]
        },
        {
          "output_type": "display_data",
          "data": {
            "image/png": "[encoded data removed]",
            "text/plain": [
              "<Figure size 1440x1440 with 1 Axes>"
            ]
          },
          "metadata": {
            "needs_background": "light"
          }
        },
        {
          "output_type": "stream",
          "name": "stdout",
          "text": [
            "(42, 42)\n"
          ]
        },
        {
          "output_type": "display_data",
          "data": {
            "image/png": "[encoded data removed]",
            "text/plain": [
              "<Figure size 1440x1440 with 1 Axes>"
            ]
          },
          "metadata": {
            "needs_background": "light"
          }
        },
        {
          "output_type": "stream",
          "name": "stdout",
          "text": [
            "(42, 42)\n"
          ]
        },
        {
          "output_type": "display_data",
          "data": {
            "image/png": "[encoded data removed]",
            "text/plain": [
              "<Figure size 1440x1440 with 1 Axes>"
            ]
          },
          "metadata": {
            "needs_background": "light"
          }
        },
        {
          "output_type": "stream",
          "name": "stdout",
          "text": [
            "(42, 42)\n"
          ]
        },
        {
          "output_type": "display_data",
          "data": {
            "image/png": "[encoded data removed]",
            "text/plain": [
              "<Figure size 1440x1440 with 1 Axes>"
            ]
          },
          "metadata": {
            "needs_background": "light"
          }
        },
        {
          "output_type": "stream",
          "name": "stdout",
          "text": [
            "(42, 42)\n"
          ]
        },
        {
          "output_type": "display_data",
          "data": {
            "image/png": "[encoded data removed]",
            "text/plain": [
              "<Figure size 1440x1440 with 1 Axes>"
            ]
          },
          "metadata": {
            "needs_background": "light"
          }
        },
        {
          "output_type": "stream",
          "name": "stdout",
          "text": [
            "(42, 42)\n"
          ]
        },
        {
          "output_type": "display_data",
          "data": {
            "image/png": "[encoded data removed]",
            "text/plain": [
              "<Figure size 1440x1440 with 1 Axes>"
            ]
          },
          "metadata": {
            "needs_background": "light"
          }
        }
      ]
    },
    {
      "cell_type": "code",
      "metadata": {
        "id": "-UxpGWrc6YOz",
        "colab": {
          "base_uri": "https://localhost:8080/",
          "height": 515
        },
        "outputId": "10a3a4ee-8429-4d9a-a38c-4dac5f2566ca"
      },
      "source": [
        "matrix = [[-1], [0], [1]]\n",
        "plt.figure(figsize=(8,8))\n",
        "plt.matshow(matrix, fignum=1, cmap=plt.get_cmap(\"viridis\"))"
      ],
      "execution_count": 178,
      "outputs": [
        {
          "output_type": "execute_result",
          "data": {
            "text/plain": [
              "<matplotlib.image.AxesImage at 0x7f1e4306ffd0>"
            ]
          },
          "metadata": {},
          "execution_count": 178
        },
        {
          "output_type": "display_data",
          "data": {
            "image/png": "[encoded data removed]",
            "text/plain": [
              "<Figure size 576x576 with 1 Axes>"
            ]
          },
          "metadata": {
            "needs_background": "light"
          }
        }
      ]
    }
  ]
}