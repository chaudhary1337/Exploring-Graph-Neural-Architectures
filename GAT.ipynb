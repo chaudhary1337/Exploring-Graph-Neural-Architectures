{
  "nbformat": 4,
  "nbformat_minor": 0,
  "metadata": {
    "colab": {
      "name": "Working GAT.ipynb",
      "provenance": [],
      "collapsed_sections": []
    },
    "kernelspec": {
      "name": "python3",
      "display_name": "Python 3"
    },
    "language_info": {
      "name": "python"
    },
    "widgets": {
      "application/vnd.jupyter.widget-state+json": {
        "ad258c581ec943d297ffec2c729ef183": {
          "model_module": "@jupyter-widgets/controls",
          "model_name": "HBoxModel",
          "model_module_version": "1.5.0",
          "state": {
            "_view_name": "HBoxView",
            "_dom_classes": [],
            "_model_name": "HBoxModel",
            "_view_module": "@jupyter-widgets/controls",
            "_model_module_version": "1.5.0",
            "_view_count": null,
            "_view_module_version": "1.5.0",
            "box_style": "",
            "layout": "IPY_MODEL_f42e0ec40ba8467f963d6dae99821da2",
            "_model_module": "@jupyter-widgets/controls",
            "children": [
              "IPY_MODEL_d15157adebb74766b7d0bb50ee1d3ee8",
              "IPY_MODEL_db92d20facbb4913ac6878a1298552f1",
              "IPY_MODEL_82ab19e8886144fdaba87b536af0d910"
            ]
          }
        },
        "f42e0ec40ba8467f963d6dae99821da2": {
          "model_module": "@jupyter-widgets/base",
          "model_name": "LayoutModel",
          "model_module_version": "1.2.0",
          "state": {
            "_view_name": "LayoutView",
            "grid_template_rows": null,
            "right": null,
            "justify_content": null,
            "_view_module": "@jupyter-widgets/base",
            "overflow": null,
            "_model_module_version": "1.2.0",
            "_view_count": null,
            "flex_flow": null,
            "width": null,
            "min_width": null,
            "border": null,
            "align_items": null,
            "bottom": null,
            "_model_module": "@jupyter-widgets/base",
            "top": null,
            "grid_column": null,
            "overflow_y": null,
            "overflow_x": null,
            "grid_auto_flow": null,
            "grid_area": null,
            "grid_template_columns": null,
            "flex": null,
            "_model_name": "LayoutModel",
            "justify_items": null,
            "grid_row": null,
            "max_height": null,
            "align_content": null,
            "visibility": null,
            "align_self": null,
            "height": null,
            "min_height": null,
            "padding": null,
            "grid_auto_rows": null,
            "grid_gap": null,
            "max_width": null,
            "order": null,
            "_view_module_version": "1.2.0",
            "grid_template_areas": null,
            "object_position": null,
            "object_fit": null,
            "grid_auto_columns": null,
            "margin": null,
            "display": null,
            "left": null
          }
        },
        "d15157adebb74766b7d0bb50ee1d3ee8": {
          "model_module": "@jupyter-widgets/controls",
          "model_name": "HTMLModel",
          "model_module_version": "1.5.0",
          "state": {
            "_view_name": "HTMLView",
            "style": "IPY_MODEL_2dd7300976cd44fdb8bb9b728282f7df",
            "_dom_classes": [],
            "description": "",
            "_model_name": "HTMLModel",
            "placeholder": "​",
            "_view_module": "@jupyter-widgets/controls",
            "_model_module_version": "1.5.0",
            "value": "100%",
            "_view_count": null,
            "_view_module_version": "1.5.0",
            "description_tooltip": null,
            "_model_module": "@jupyter-widgets/controls",
            "layout": "IPY_MODEL_5e0f1fd5a70e465ab336718451c442be"
          }
        },
        "db92d20facbb4913ac6878a1298552f1": {
          "model_module": "@jupyter-widgets/controls",
          "model_name": "FloatProgressModel",
          "model_module_version": "1.5.0",
          "state": {
            "_view_name": "ProgressView",
            "style": "IPY_MODEL_8ba2770c21b14900a7fa7e57b4831e1d",
            "_dom_classes": [],
            "description": "",
            "_model_name": "FloatProgressModel",
            "bar_style": "success",
            "max": 200,
            "_view_module": "@jupyter-widgets/controls",
            "_model_module_version": "1.5.0",
            "value": 200,
            "_view_count": null,
            "_view_module_version": "1.5.0",
            "orientation": "horizontal",
            "min": 0,
            "description_tooltip": null,
            "_model_module": "@jupyter-widgets/controls",
            "layout": "IPY_MODEL_68e3ce0aa254426192b30db8d80a80b6"
          }
        },
        "82ab19e8886144fdaba87b536af0d910": {
          "model_module": "@jupyter-widgets/controls",
          "model_name": "HTMLModel",
          "model_module_version": "1.5.0",
          "state": {
            "_view_name": "HTMLView",
            "style": "IPY_MODEL_2644b6305e2244d9afcd1ff3b51dcbb4",
            "_dom_classes": [],
            "description": "",
            "_model_name": "HTMLModel",
            "placeholder": "​",
            "_view_module": "@jupyter-widgets/controls",
            "_model_module_version": "1.5.0",
            "value": " 200/200 [06:52&lt;00:00,  2.06s/it]",
            "_view_count": null,
            "_view_module_version": "1.5.0",
            "description_tooltip": null,
            "_model_module": "@jupyter-widgets/controls",
            "layout": "IPY_MODEL_d190bd863ab3435088a43f857de3f9c8"
          }
        },
        "2dd7300976cd44fdb8bb9b728282f7df": {
          "model_module": "@jupyter-widgets/controls",
          "model_name": "DescriptionStyleModel",
          "model_module_version": "1.5.0",
          "state": {
            "_view_name": "StyleView",
            "_model_name": "DescriptionStyleModel",
            "description_width": "",
            "_view_module": "@jupyter-widgets/base",
            "_model_module_version": "1.5.0",
            "_view_count": null,
            "_view_module_version": "1.2.0",
            "_model_module": "@jupyter-widgets/controls"
          }
        },
        "5e0f1fd5a70e465ab336718451c442be": {
          "model_module": "@jupyter-widgets/base",
          "model_name": "LayoutModel",
          "model_module_version": "1.2.0",
          "state": {
            "_view_name": "LayoutView",
            "grid_template_rows": null,
            "right": null,
            "justify_content": null,
            "_view_module": "@jupyter-widgets/base",
            "overflow": null,
            "_model_module_version": "1.2.0",
            "_view_count": null,
            "flex_flow": null,
            "width": null,
            "min_width": null,
            "border": null,
            "align_items": null,
            "bottom": null,
            "_model_module": "@jupyter-widgets/base",
            "top": null,
            "grid_column": null,
            "overflow_y": null,
            "overflow_x": null,
            "grid_auto_flow": null,
            "grid_area": null,
            "grid_template_columns": null,
            "flex": null,
            "_model_name": "LayoutModel",
            "justify_items": null,
            "grid_row": null,
            "max_height": null,
            "align_content": null,
            "visibility": null,
            "align_self": null,
            "height": null,
            "min_height": null,
            "padding": null,
            "grid_auto_rows": null,
            "grid_gap": null,
            "max_width": null,
            "order": null,
            "_view_module_version": "1.2.0",
            "grid_template_areas": null,
            "object_position": null,
            "object_fit": null,
            "grid_auto_columns": null,
            "margin": null,
            "display": null,
            "left": null
          }
        },
        "8ba2770c21b14900a7fa7e57b4831e1d": {
          "model_module": "@jupyter-widgets/controls",
          "model_name": "ProgressStyleModel",
          "model_module_version": "1.5.0",
          "state": {
            "_view_name": "StyleView",
            "_model_name": "ProgressStyleModel",
            "description_width": "",
            "_view_module": "@jupyter-widgets/base",
            "_model_module_version": "1.5.0",
            "_view_count": null,
            "_view_module_version": "1.2.0",
            "bar_color": null,
            "_model_module": "@jupyter-widgets/controls"
          }
        },
        "68e3ce0aa254426192b30db8d80a80b6": {
          "model_module": "@jupyter-widgets/base",
          "model_name": "LayoutModel",
          "model_module_version": "1.2.0",
          "state": {
            "_view_name": "LayoutView",
            "grid_template_rows": null,
            "right": null,
            "justify_content": null,
            "_view_module": "@jupyter-widgets/base",
            "overflow": null,
            "_model_module_version": "1.2.0",
            "_view_count": null,
            "flex_flow": null,
            "width": null,
            "min_width": null,
            "border": null,
            "align_items": null,
            "bottom": null,
            "_model_module": "@jupyter-widgets/base",
            "top": null,
            "grid_column": null,
            "overflow_y": null,
            "overflow_x": null,
            "grid_auto_flow": null,
            "grid_area": null,
            "grid_template_columns": null,
            "flex": null,
            "_model_name": "LayoutModel",
            "justify_items": null,
            "grid_row": null,
            "max_height": null,
            "align_content": null,
            "visibility": null,
            "align_self": null,
            "height": null,
            "min_height": null,
            "padding": null,
            "grid_auto_rows": null,
            "grid_gap": null,
            "max_width": null,
            "order": null,
            "_view_module_version": "1.2.0",
            "grid_template_areas": null,
            "object_position": null,
            "object_fit": null,
            "grid_auto_columns": null,
            "margin": null,
            "display": null,
            "left": null
          }
        },
        "2644b6305e2244d9afcd1ff3b51dcbb4": {
          "model_module": "@jupyter-widgets/controls",
          "model_name": "DescriptionStyleModel",
          "model_module_version": "1.5.0",
          "state": {
            "_view_name": "StyleView",
            "_model_name": "DescriptionStyleModel",
            "description_width": "",
            "_view_module": "@jupyter-widgets/base",
            "_model_module_version": "1.5.0",
            "_view_count": null,
            "_view_module_version": "1.2.0",
            "_model_module": "@jupyter-widgets/controls"
          }
        },
        "d190bd863ab3435088a43f857de3f9c8": {
          "model_module": "@jupyter-widgets/base",
          "model_name": "LayoutModel",
          "model_module_version": "1.2.0",
          "state": {
            "_view_name": "LayoutView",
            "grid_template_rows": null,
            "right": null,
            "justify_content": null,
            "_view_module": "@jupyter-widgets/base",
            "overflow": null,
            "_model_module_version": "1.2.0",
            "_view_count": null,
            "flex_flow": null,
            "width": null,
            "min_width": null,
            "border": null,
            "align_items": null,
            "bottom": null,
            "_model_module": "@jupyter-widgets/base",
            "top": null,
            "grid_column": null,
            "overflow_y": null,
            "overflow_x": null,
            "grid_auto_flow": null,
            "grid_area": null,
            "grid_template_columns": null,
            "flex": null,
            "_model_name": "LayoutModel",
            "justify_items": null,
            "grid_row": null,
            "max_height": null,
            "align_content": null,
            "visibility": null,
            "align_self": null,
            "height": null,
            "min_height": null,
            "padding": null,
            "grid_auto_rows": null,
            "grid_gap": null,
            "max_width": null,
            "order": null,
            "_view_module_version": "1.2.0",
            "grid_template_areas": null,
            "object_position": null,
            "object_fit": null,
            "grid_auto_columns": null,
            "margin": null,
            "display": null,
            "left": null
          }
        }
      }
    }
  },
  "cells": [
    {
      "cell_type": "code",
      "metadata": {
        "colab": {
          "base_uri": "https://localhost:8080/"
        },
        "id": "zj_NycyMMBgd",
        "outputId": "7ed2c9b9-26af-45ac-a393-d6ed04bedd67"
      },
      "source": [
        "%%shell\n",
        "\n",
        "wget \"https://web.archive.org/web/20150918182409/http://www.cs.umd.edu/~sen/lbc-proj/data/cora.tgz\"\n",
        "tar -xzvf cora.tgz\n",
        "\n",
        "pip install torch-scatter -f https://data.pyg.org/whl/torch-1.10.0+cpu.html\n",
        "pip install torch-sparse -f https://data.pyg.org/whl/torch-1.10.0+cpu.html\n",
        "pip install torch-geometric\n",
        "\n",
        "pip install networkx\n",
        "\n",
        "pip install icecream\n",
        "pip install tqdm"
      ],
      "execution_count": null,
      "outputs": [
        {
          "output_type": "stream",
          "name": "stdout",
          "text": [
            "--2021-11-20 06:16:33--  https://web.archive.org/web/20150918182409/http://www.cs.umd.edu/~sen/lbc-proj/data/cora.tgz\n",
            "Resolving web.archive.org (web.archive.org)... 207.241.237.3\n",
            "Connecting to web.archive.org (web.archive.org)|207.241.237.3|:443... connected.\n",
            "HTTP request sent, awaiting response... 200 OK\n",
            "Length: unspecified [application/x-gzip]\n",
            "Saving to: ‘cora.tgz.1’\n",
            "\n",
            "cora.tgz.1              [  <=>               ] 163.15K   138KB/s    in 1.2s    \n",
            "\n",
            "2021-11-20 06:16:38 (138 KB/s) - ‘cora.tgz.1’ saved [167063]\n",
            "\n",
            "cora/\n",
            "cora/README\n",
            "cora/cora.content\n",
            "cora/cora.cites\n",
            "Looking in links: https://data.pyg.org/whl/torch-1.10.0+cpu.html\n",
            "Requirement already satisfied: torch-scatter in /usr/local/lib/python3.7/dist-packages (2.0.9)\n",
            "Looking in links: https://data.pyg.org/whl/torch-1.10.0+cpu.html\n",
            "Requirement already satisfied: torch-sparse in /usr/local/lib/python3.7/dist-packages (0.6.12)\n",
            "Requirement already satisfied: scipy in /usr/local/lib/python3.7/dist-packages (from torch-sparse) (1.4.1)\n",
            "Requirement already satisfied: numpy>=1.13.3 in /usr/local/lib/python3.7/dist-packages (from scipy->torch-sparse) (1.19.5)\n",
            "Requirement already satisfied: torch-geometric in /usr/local/lib/python3.7/dist-packages (2.0.2)\n",
            "Requirement already satisfied: PyYAML in /usr/local/lib/python3.7/dist-packages (from torch-geometric) (3.13)\n",
            "Requirement already satisfied: scikit-learn in /usr/local/lib/python3.7/dist-packages (from torch-geometric) (1.0.1)\n",
            "Requirement already satisfied: scipy in /usr/local/lib/python3.7/dist-packages (from torch-geometric) (1.4.1)\n",
            "Requirement already satisfied: googledrivedownloader in /usr/local/lib/python3.7/dist-packages (from torch-geometric) (0.4)\n",
            "Requirement already satisfied: yacs in /usr/local/lib/python3.7/dist-packages (from torch-geometric) (0.1.8)\n",
            "Requirement already satisfied: networkx in /usr/local/lib/python3.7/dist-packages (from torch-geometric) (2.6.3)\n",
            "Requirement already satisfied: requests in /usr/local/lib/python3.7/dist-packages (from torch-geometric) (2.23.0)\n",
            "Requirement already satisfied: pandas in /usr/local/lib/python3.7/dist-packages (from torch-geometric) (1.1.5)\n",
            "Requirement already satisfied: jinja2 in /usr/local/lib/python3.7/dist-packages (from torch-geometric) (2.11.3)\n",
            "Requirement already satisfied: numpy in /usr/local/lib/python3.7/dist-packages (from torch-geometric) (1.19.5)\n",
            "Requirement already satisfied: rdflib in /usr/local/lib/python3.7/dist-packages (from torch-geometric) (6.0.2)\n",
            "Requirement already satisfied: pyparsing in /usr/local/lib/python3.7/dist-packages (from torch-geometric) (3.0.6)\n",
            "Requirement already satisfied: tqdm in /usr/local/lib/python3.7/dist-packages (from torch-geometric) (4.62.3)\n",
            "Requirement already satisfied: MarkupSafe>=0.23 in /usr/local/lib/python3.7/dist-packages (from jinja2->torch-geometric) (2.0.1)\n",
            "Requirement already satisfied: pytz>=2017.2 in /usr/local/lib/python3.7/dist-packages (from pandas->torch-geometric) (2018.9)\n",
            "Requirement already satisfied: python-dateutil>=2.7.3 in /usr/local/lib/python3.7/dist-packages (from pandas->torch-geometric) (2.8.2)\n",
            "Requirement already satisfied: six>=1.5 in /usr/local/lib/python3.7/dist-packages (from python-dateutil>=2.7.3->pandas->torch-geometric) (1.15.0)\n",
            "Requirement already satisfied: isodate in /usr/local/lib/python3.7/dist-packages (from rdflib->torch-geometric) (0.6.0)\n",
            "Requirement already satisfied: setuptools in /usr/local/lib/python3.7/dist-packages (from rdflib->torch-geometric) (57.4.0)\n",
            "Requirement already satisfied: chardet<4,>=3.0.2 in /usr/local/lib/python3.7/dist-packages (from requests->torch-geometric) (3.0.4)\n",
            "Requirement already satisfied: urllib3!=1.25.0,!=1.25.1,<1.26,>=1.21.1 in /usr/local/lib/python3.7/dist-packages (from requests->torch-geometric) (1.24.3)\n",
            "Requirement already satisfied: idna<3,>=2.5 in /usr/local/lib/python3.7/dist-packages (from requests->torch-geometric) (2.10)\n",
            "Requirement already satisfied: certifi>=2017.4.17 in /usr/local/lib/python3.7/dist-packages (from requests->torch-geometric) (2021.10.8)\n",
            "Requirement already satisfied: threadpoolctl>=2.0.0 in /usr/local/lib/python3.7/dist-packages (from scikit-learn->torch-geometric) (3.0.0)\n",
            "Requirement already satisfied: joblib>=0.11 in /usr/local/lib/python3.7/dist-packages (from scikit-learn->torch-geometric) (1.1.0)\n",
            "Requirement already satisfied: networkx in /usr/local/lib/python3.7/dist-packages (2.6.3)\n",
            "Requirement already satisfied: icecream in /usr/local/lib/python3.7/dist-packages (2.1.1)\n",
            "Requirement already satisfied: asttokens>=2.0.1 in /usr/local/lib/python3.7/dist-packages (from icecream) (2.0.5)\n",
            "Requirement already satisfied: colorama>=0.3.9 in /usr/local/lib/python3.7/dist-packages (from icecream) (0.4.4)\n",
            "Requirement already satisfied: executing>=0.3.1 in /usr/local/lib/python3.7/dist-packages (from icecream) (0.8.2)\n",
            "Requirement already satisfied: pygments>=2.2.0 in /usr/local/lib/python3.7/dist-packages (from icecream) (2.6.1)\n",
            "Requirement already satisfied: six in /usr/local/lib/python3.7/dist-packages (from asttokens>=2.0.1->icecream) (1.15.0)\n",
            "Requirement already satisfied: tqdm in /usr/local/lib/python3.7/dist-packages (4.62.3)\n"
          ]
        },
        {
          "output_type": "execute_result",
          "data": {
            "text/plain": [
              ""
            ]
          },
          "metadata": {},
          "execution_count": 27
        }
      ]
    },
    {
      "cell_type": "code",
      "metadata": {
        "colab": {
          "base_uri": "https://localhost:8080/"
        },
        "id": "2famb6qVMD4o",
        "outputId": "243920e0-8bf5-4a20-c541-8b7f2d9a1f5f"
      },
      "source": [
        "import numpy as np\n",
        "import pandas as pd\n",
        "import random\n",
        "from icecream import ic\n",
        "\n",
        "import torch\n",
        "import torch.nn as nn\n",
        "import torch.nn.functional as F\n",
        "import torch.optim as optim\n",
        "import torch_geometric\n",
        "import networkx as nx\n",
        "import scipy\n",
        "from tqdm.notebook import tqdm   \n",
        "from sklearn.model_selection import train_test_split\n",
        "from sklearn.preprocessing import LabelEncoder\n",
        "\n",
        "print(\"Torch version:\", torch.__version__)\n",
        "print(\"CUDA Present:\", torch.cuda.is_available())\n",
        "print(\"CUDA Version:\", torch.version.cuda)"
      ],
      "execution_count": null,
      "outputs": [
        {
          "output_type": "stream",
          "name": "stdout",
          "text": [
            "Torch version: 1.10.0+cu111\n",
            "CUDA Present: False\n",
            "CUDA Version: 11.1\n"
          ]
        }
      ]
    },
    {
      "cell_type": "code",
      "metadata": {
        "colab": {
          "base_uri": "https://localhost:8080/"
        },
        "id": "uINhWl8yMGBu",
        "outputId": "5446398e-1e03-4f8c-e65a-7503cb05f4fb"
      },
      "source": [
        "CONFIG = {\n",
        "    'PATH': './cora',\n",
        "    'LIMIT': 250,\n",
        "    'HIDDEN_CHANNELS': 1024,\n",
        "    'NUM_LAYERS': 2,\n",
        "    'DROPOUT_RATE': 0,\n",
        "    'EPOCHS': 200\n",
        "}\n",
        "\n",
        "print(\"Here's the configuration: \")\n",
        "for k, v in CONFIG.items():\n",
        "    print(f\"{k} = {v}\")"
      ],
      "execution_count": null,
      "outputs": [
        {
          "output_type": "stream",
          "name": "stdout",
          "text": [
            "Here's the configuration: \n",
            "PATH = ./cora\n",
            "LIMIT = 250\n",
            "HIDDEN_CHANNELS = 1024\n",
            "NUM_LAYERS = 2\n",
            "DROPOUT_RATE = 0\n",
            "EPOCHS = 200\n"
          ]
        }
      ]
    },
    {
      "cell_type": "code",
      "metadata": {
        "id": "JNMTyh9RMHcl"
      },
      "source": [
        "class Data:\n",
        "    def __init__(self, path):\n",
        "        self.path = path\n",
        "    \n",
        "    def readFile(self, path):\n",
        "        lines = []\n",
        "        with open(path) as file:\n",
        "            lines = file.readlines()\n",
        "        return lines\n",
        "\n",
        "    def readContent(self, data):\n",
        "        nodes, labels, x = [], [], []\n",
        "        for d in data:\n",
        "            words = d.split(\"\\t\")\n",
        "            nodes.append(words[0].strip())\n",
        "            labels.append(words[-1].strip())\n",
        "            x.append([ord(w) - 48 for w in words[1:-1]])\n",
        "\n",
        "        LE = LabelEncoder()\n",
        "        labels = LE.fit_transform(labels)\n",
        "        x_req = torch.Tensor(x)\n",
        "        # ic(x.shape)\n",
        "        x = pd.DataFrame.from_records(x)\n",
        "        \n",
        "        return nodes, labels, LE, x_req, x\n",
        "\n",
        "    def getLabels(self, LE, data):\n",
        "        return LE.inverse_transform(data)\n",
        "\n",
        "    def readCites(self, data):\n",
        "        edges = []\n",
        "        for d in data:\n",
        "            words = d.split(\"\\t\")\n",
        "            edges.append([\n",
        "                words[0].strip(),\n",
        "                words[1].strip()\n",
        "            ])\n",
        "        return edges\n",
        "\n",
        "    def splitDataCount(self, data, labels):\n",
        "        lcounter = dict((l, 0) for l in labels)\n",
        "        indices = []\n",
        "        for i in range(len(labels)):\n",
        "            label = labels[i]\n",
        "            if lcounter[label] < CONFIG['LIMIT']:\n",
        "                indices.append(i)\n",
        "                lcounter[label] += 1\n",
        "        rest = [x for x in range(len(labels)) if x not in indices]\n",
        "        rest = torch.LongTensor(rest)\n",
        "        indices = torch.LongTensor(indices)\n",
        "        return rest, indices\n",
        "\n",
        "    def normalizeMatrix(self, A):\n",
        "        return scipy.sparse.diags(np.array(A.sum(1)).flatten() ** -1).dot(A)\n",
        "\n",
        "    def toTensor(self, A):\n",
        "        A = A.tocoo()\n",
        "        i = torch.tensor(np.vstack((A.row, A.col)), dtype=torch.long)\n",
        "        v = torch.tensor(A.data, dtype=torch.float)\n",
        "        return torch.sparse_coo_tensor(i, v, torch.Size(A.shape))\n",
        "\n",
        "    def buildGraph(self):\n",
        "        nodes, edges = self.getGraph()\n",
        "        G = nx.Graph()\n",
        "        G.add_nodes_from(nodes)\n",
        "        G.add_edges_from(edges)\n",
        "        A = nx.adjacency_matrix(G)\n",
        "        I = scipy.sparse.identity(A.shape[0])\n",
        "        A = A + I\n",
        "        A = self.normalizeMatrix(A)\n",
        "        A = self.toTensor(A)\n",
        "        A = A.to_dense()\n",
        "        ic(A.shape)\n",
        "        ic(nx.info(G))\n",
        "        return A, G\n",
        "\n",
        "    def getIndices(self):\n",
        "        return self.train, self.test\n",
        "\n",
        "    def getGraph(self):\n",
        "        return self.nodes, self.edges\n",
        "\n",
        "    def getMatrix(self):\n",
        "        return self.A\n",
        "\n",
        "    def getXY(self):\n",
        "        return self.x, torch.LongTensor(self.labels)\n",
        "\n",
        "    def printData(self):\n",
        "        print(f\"Number of nodes: {len(self.nodes)}\")\n",
        "        print(f\"Number of features per node: {len(self.x[0])}\")\n",
        "        print(f\"Categories: {set(self.labels)}\")\n",
        "\n",
        "    def handle(self):\n",
        "        data = self.readFile(self.path + '/cora.content')\n",
        "        e_data = self.readFile(self.path + '/cora.cites')\n",
        "        self.nodes, self.labels, self.LE, self.x, self.x_req = self.readContent(data)\n",
        "        self.edges = self.readCites(e_data)\n",
        "        self.test, self.train = self.splitDataCount(self.x_req, self.labels)\n",
        "        self.A, self.G = self.buildGraph()"
      ],
      "execution_count": null,
      "outputs": []
    },
    {
      "cell_type": "code",
      "metadata": {
        "id": "49KCP6LeMJYT"
      },
      "source": [
        "class MyGATLayer(nn.Module):\n",
        "    def __init__(self, in_channels, out_channels):\n",
        "        \"\"\"\n",
        "        in_channels: #features in the input\n",
        "        out_channels: #features in the output\n",
        "        these layers have their *own* independent weights and biases\n",
        "        \"\"\"\n",
        "        super().__init__()\n",
        "        self.out_channels = out_channels\n",
        "        \n",
        "        # W = FxH\n",
        "        self.W = nn.Parameter(torch.empty(in_channels, out_channels))\n",
        "        nn.init.xavier_uniform_(self.W, gain=1.414)\n",
        "\n",
        "        # a = 2Hx1 (So its essentially concating features of 2 nodes)\n",
        "        # Note: torch.empty does random assignments of value\n",
        "        self.a = nn.Parameter(torch.empty(size=(2*out_channels, 1)))\n",
        "        nn.init.xavier_uniform_(self.a, gain=1.414)\n",
        "\n",
        "        self.leaky = nn.LeakyReLU()\n",
        "        self.attention = None\n",
        "\n",
        "    def forward(self, X, A):\n",
        "        \"\"\"\n",
        "        does the neat math on *symmetrically normalized* A\n",
        "        \"\"\"\n",
        "\n",
        "        # Normal feature calculation, Wh = NxH\n",
        "        wh = torch.mm(X, self.W)\n",
        "\n",
        "        # wh = NxH, a = 2Hx1, halfA = Hx1\n",
        "        # both half = NxH * Hx1 = Nx1\n",
        "        first_half = wh@self.a[self.out_channels:, :]\n",
        "        second_half = wh@self.a[:self.out_channels, :]\n",
        "\n",
        "        # Attention matrix formed by combining both halfs\n",
        "        after = second_half + first_half.T\n",
        "        after = self.leaky(after)\n",
        "\n",
        "        # Combining adj matrix and attention matrix\n",
        "        # Attention should only be a number if connection between nodes exist\n",
        "        zmat = -1e17*torch.ones_like(after)\n",
        "        attention = torch.where(A>0, after, zmat)\n",
        "        attention = F.softmax(attention, dim=1)\n",
        "\n",
        "        # Multiplication of features with attention\n",
        "        hprime = torch.matmul(attention, wh)\n",
        "\n",
        "        # storing for visualisation reasons\n",
        "        self.attention = attention\n",
        "\n",
        "        return F.elu(hprime)"
      ],
      "execution_count": null,
      "outputs": []
    },
    {
      "cell_type": "code",
      "metadata": {
        "id": "vj_AM_h-MfGy"
      },
      "source": [
        "class MyGAT(nn.Module):\n",
        "    def __init__(\n",
        "            self, \n",
        "            in_channels, \n",
        "            hidden_channels, \n",
        "            num_layers, \n",
        "            out_channels, \n",
        "            dropout_rate,\n",
        "            attention_channels,\n",
        "        ):\n",
        "        super().__init__()\n",
        "        self.in_channels = in_channels\n",
        "        self.hidden_channels = hidden_channels\n",
        "        self.num_layers = num_layers\n",
        "        self.out_channels = out_channels\n",
        "        self.dropout_rate = dropout_rate\n",
        "        \n",
        "        self.MyGATLayers = []\n",
        "        self.MyGATLayers.append(\n",
        "            MyGATLayer(self.in_channels, self.hidden_channels)\n",
        "        )\n",
        "        self.outputLayers = MyGATLayer(self.hidden_channels, self.out_channels)\n",
        "\n",
        "        for _ in range(1, self.num_layers):\n",
        "            self.MyGATLayers.append(\n",
        "                MyGATLayer(self.hidden_channels, self.hidden_channels)\n",
        "            )\n",
        "\n",
        "    def sdMul(self, X, Y):\n",
        "        i = X._indices()\n",
        "        v = X._values()\n",
        "        dv = Y[i[0,:], i[1,:]]\n",
        "        return torch.sparse.FloatTensor(i, v*dv, X.size())\n",
        "\n",
        "    def get_attention_matrices(self, yeet=False):\n",
        "        attention_matrices = [\n",
        "            layer.attention.detach().numpy() for layer in self.MyGATLayers\n",
        "        ]\n",
        "        if yeet: return attention_matrices\n",
        "        \n",
        "        I = np.eye(attention_matrices[0].shape[0], attention_matrices[0].shape[1])\n",
        "\n",
        "        return [\n",
        "            np.subtract(matrix, I) for matrix in attention_matrices\n",
        "        ]\n",
        "    \n",
        "    def forward(self, X, A):\n",
        "        \"\"\"\n",
        "        math done on *symmetrically normalized* A\n",
        "        \"\"\"\n",
        "        for layer in self.MyGATLayers:\n",
        "            X = layer.forward(X, A)\n",
        "        X = F.relu(X)\n",
        "        X = F.dropout(X, p=self.dropout_rate, training=self.training)\n",
        "        X = self.outputLayers.forward(X, A)\n",
        "        return F.log_softmax(X)"
      ],
      "execution_count": null,
      "outputs": []
    },
    {
      "cell_type": "code",
      "metadata": {
        "colab": {
          "base_uri": "https://localhost:8080/"
        },
        "id": "WzQyZ0ubNiVa",
        "outputId": "4f8f0b96-ea73-457c-f95e-09822b8e68a5"
      },
      "source": [
        "dataset = Data(CONFIG['PATH'])\n",
        "dataset.handle()\n",
        "X, y = dataset.getXY()\n",
        "train, test = dataset.getIndices()\n",
        "A = dataset.getMatrix()\n",
        "ic(X.shape, y.shape)\n",
        "ic(train.shape, test.shape)"
      ],
      "execution_count": null,
      "outputs": [
        {
          "output_type": "stream",
          "name": "stderr",
          "text": [
            "ic| A.shape: torch.Size([2708, 2708])\n",
            "ic| nx.info(G): 'Graph with 2708 nodes and 5278 edges'\n",
            "ic| X.shape: torch.Size([2708, 1433]), y.shape: torch.Size([2708])\n",
            "ic| train.shape: torch.Size([1647]), test.shape: torch.Size([1061])\n"
          ]
        },
        {
          "output_type": "execute_result",
          "data": {
            "text/plain": [
              "(torch.Size([1647]), torch.Size([1061]))"
            ]
          },
          "metadata": {},
          "execution_count": 52
        }
      ]
    },
    {
      "cell_type": "code",
      "metadata": {
        "id": "nWuktd-wNjnF"
      },
      "source": [
        "model = MyGAT(\n",
        "    in_channels=X.shape[1],\n",
        "    hidden_channels=CONFIG['HIDDEN_CHANNELS'],\n",
        "    num_layers=CONFIG['NUM_LAYERS'],\n",
        "    out_channels=7,\n",
        "    dropout_rate=CONFIG['DROPOUT_RATE'],\n",
        "    attention_channels=A.shape[1]\n",
        ")\n",
        "\n",
        "loss = nn.NLLLoss()\n",
        "optimizer = optim.Adam(model.parameters())"
      ],
      "execution_count": null,
      "outputs": []
    },
    {
      "cell_type": "code",
      "metadata": {
        "id": "KY-Bd9VlNlvX",
        "colab": {
          "base_uri": "https://localhost:8080/",
          "height": 86,
          "referenced_widgets": [
            "ad258c581ec943d297ffec2c729ef183",
            "f42e0ec40ba8467f963d6dae99821da2",
            "d15157adebb74766b7d0bb50ee1d3ee8",
            "db92d20facbb4913ac6878a1298552f1",
            "82ab19e8886144fdaba87b536af0d910",
            "2dd7300976cd44fdb8bb9b728282f7df",
            "5e0f1fd5a70e465ab336718451c442be",
            "8ba2770c21b14900a7fa7e57b4831e1d",
            "68e3ce0aa254426192b30db8d80a80b6",
            "2644b6305e2244d9afcd1ff3b51dcbb4",
            "d190bd863ab3435088a43f857de3f9c8"
          ]
        },
        "outputId": "ecdbfa32-104e-4808-acad-7fc49a57ab40"
      },
      "source": [
        "losses = []\n",
        "for _ in tqdm(range(CONFIG['EPOCHS'])):\n",
        "    optimizer.zero_grad()\n",
        "    output = model.forward(X, A)\n",
        "    train_x = torch.index_select(output, 0, train)\n",
        "    train_y = torch.index_select(y, 0, train)\n",
        "    l = loss(train_x, train_y)\n",
        "    l.backward()\n",
        "    losses.append(l.item())\n",
        "    optimizer.step()"
      ],
      "execution_count": null,
      "outputs": [
        {
          "output_type": "display_data",
          "data": {
            "application/vnd.jupyter.widget-view+json": {
              "model_id": "ad258c581ec943d297ffec2c729ef183",
              "version_minor": 0,
              "version_major": 2
            },
            "text/plain": [
              "  0%|          | 0/200 [00:00<?, ?it/s]"
            ]
          },
          "metadata": {}
        },
        {
          "output_type": "stream",
          "name": "stderr",
          "text": [
            "/usr/local/lib/python3.7/dist-packages/ipykernel_launcher.py:56: UserWarning: Implicit dimension choice for log_softmax has been deprecated. Change the call to include dim=X as an argument.\n"
          ]
        }
      ]
    },
    {
      "cell_type": "code",
      "metadata": {
        "id": "bGT-dfa7N21o",
        "colab": {
          "base_uri": "https://localhost:8080/"
        },
        "outputId": "68f72f42-271e-4eba-8e72-9ec6f88c5a2b"
      },
      "source": [
        "losses # benchmark"
      ],
      "execution_count": null,
      "outputs": [
        {
          "output_type": "execute_result",
          "data": {
            "text/plain": [
              "[1.9409139156341553,\n",
              " 1.9255214929580688,\n",
              " 1.9102952480316162,\n",
              " 1.8952362537384033,\n",
              " 1.8803443908691406,\n",
              " 1.8656198978424072,\n",
              " 1.8510613441467285,\n",
              " 1.8366649150848389,\n",
              " 1.8224259614944458,\n",
              " 1.808335781097412,\n",
              " 1.794387698173523,\n",
              " 1.7805731296539307,\n",
              " 1.7668853998184204,\n",
              " 1.7533169984817505,\n",
              " 1.7398600578308105,\n",
              " 1.7265106439590454,\n",
              " 1.7132656574249268,\n",
              " 1.700120449066162,\n",
              " 1.6870731115341187,\n",
              " 1.6741241216659546,\n",
              " 1.6612716913223267,\n",
              " 1.6485185623168945,\n",
              " 1.635864019393921,\n",
              " 1.6233100891113281,\n",
              " 1.6108574867248535,\n",
              " 1.5985066890716553,\n",
              " 1.5862603187561035,\n",
              " 1.5741163492202759,\n",
              " 1.5620743036270142,\n",
              " 1.5501346588134766,\n",
              " 1.5382978916168213,\n",
              " 1.5265657901763916,\n",
              " 1.5149370431900024,\n",
              " 1.5034122467041016,\n",
              " 1.4919906854629517,\n",
              " 1.4806714057922363,\n",
              " 1.4694550037384033,\n",
              " 1.4583419561386108,\n",
              " 1.4473321437835693,\n",
              " 1.436427116394043,\n",
              " 1.4256259202957153,\n",
              " 1.4149278402328491,\n",
              " 1.4043341875076294,\n",
              " 1.3938452005386353,\n",
              " 1.3834589719772339,\n",
              " 1.3731763362884521,\n",
              " 1.3629974126815796,\n",
              " 1.352922797203064,\n",
              " 1.3429514169692993,\n",
              " 1.3330820798873901,\n",
              " 1.3233144283294678,\n",
              " 1.3136483430862427,\n",
              " 1.3040835857391357,\n",
              " 1.294618844985962,\n",
              " 1.2852530479431152,\n",
              " 1.2759861946105957,\n",
              " 1.2668178081512451,\n",
              " 1.2577481269836426,\n",
              " 1.2487764358520508,\n",
              " 1.2399020195007324,\n",
              " 1.2311235666275024,\n",
              " 1.2224416732788086,\n",
              " 1.213854432106018,\n",
              " 1.205360770225525,\n",
              " 1.1969608068466187,\n",
              " 1.188653826713562,\n",
              " 1.1804391145706177,\n",
              " 1.1723157167434692,\n",
              " 1.1642826795578003,\n",
              " 1.1563400030136108,\n",
              " 1.148486614227295,\n",
              " 1.1407222747802734,\n",
              " 1.1330461502075195,\n",
              " 1.1254569292068481,\n",
              " 1.1179537773132324,\n",
              " 1.1105360984802246,\n",
              " 1.1032029390335083,\n",
              " 1.095953106880188,\n",
              " 1.0887854099273682,\n",
              " 1.081699013710022,\n",
              " 1.0746937990188599,\n",
              " 1.0677684545516968,\n",
              " 1.0609221458435059,\n",
              " 1.0541530847549438,\n",
              " 1.0474611520767212,\n",
              " 1.0408453941345215,\n",
              " 1.034305214881897,\n",
              " 1.0278394222259521,\n",
              " 1.0214474201202393,\n",
              " 1.0151287317276,\n",
              " 1.0088818073272705,\n",
              " 1.0027052164077759,\n",
              " 0.9965985417366028,\n",
              " 0.990561842918396,\n",
              " 0.9845945239067078,\n",
              " 0.9786955714225769,\n",
              " 0.9728636741638184,\n",
              " 0.96709805727005,\n",
              " 0.9613974690437317,\n",
              " 0.9557612538337708,\n",
              " 0.9501882791519165,\n",
              " 0.9446771144866943,\n",
              " 0.9392276406288147,\n",
              " 0.9338384866714478,\n",
              " 0.928508996963501,\n",
              " 0.92323899269104,\n",
              " 0.918026864528656,\n",
              " 0.9128719568252563,\n",
              " 0.9077739715576172,\n",
              " 0.9027325510978699,\n",
              " 0.8977468609809875,\n",
              " 0.892815351486206,\n",
              " 0.8879366517066956,\n",
              " 0.883110761642456,\n",
              " 0.8783360123634338,\n",
              " 0.8736121654510498,\n",
              " 0.8689379096031189,\n",
              " 0.8643133044242859,\n",
              " 0.8597381114959717,\n",
              " 0.8552120923995972,\n",
              " 0.850732684135437,\n",
              " 0.846300482749939,\n",
              " 0.8419158458709717,\n",
              " 0.8375786542892456,\n",
              " 0.833286464214325,\n",
              " 0.8290395736694336,\n",
              " 0.8248370289802551,\n",
              " 0.8206787109375,\n",
              " 0.8165635466575623,\n",
              " 0.8124895691871643,\n",
              " 0.8084573149681091,\n",
              " 0.8044653534889221,\n",
              " 0.800514280796051,\n",
              " 0.7966026663780212,\n",
              " 0.7927297949790955,\n",
              " 0.7888954281806946,\n",
              " 0.7850998640060425,\n",
              " 0.7813429236412048,\n",
              " 0.7776229977607727,\n",
              " 0.7739412784576416,\n",
              " 0.7702955603599548,\n",
              " 0.7666857838630676,\n",
              " 0.763111412525177,\n",
              " 0.7595729231834412,\n",
              " 0.7560688257217407,\n",
              " 0.7525982856750488,\n",
              " 0.749161422252655,\n",
              " 0.7457594275474548,\n",
              " 0.74239182472229,\n",
              " 0.7390577793121338,\n",
              " 0.735756516456604,\n",
              " 0.7324875593185425,\n",
              " 0.7292520403862,\n",
              " 0.7260482311248779,\n",
              " 0.7228754758834839,\n",
              " 0.7197336554527283,\n",
              " 0.7166230082511902,\n",
              " 0.7135418653488159,\n",
              " 0.7104917764663696,\n",
              " 0.7074717879295349,\n",
              " 0.7044811844825745,\n",
              " 0.7015189528465271,\n",
              " 0.6985843777656555,\n",
              " 0.6956778168678284,\n",
              " 0.6927987337112427,\n",
              " 0.6899462342262268,\n",
              " 0.687119722366333,\n",
              " 0.684319257736206,\n",
              " 0.6815449595451355,\n",
              " 0.6787962913513184,\n",
              " 0.6760735511779785,\n",
              " 0.6733760237693787,\n",
              " 0.6707028150558472,\n",
              " 0.6680539846420288,\n",
              " 0.665428102016449,\n",
              " 0.6628255844116211,\n",
              " 0.6602463126182556,\n",
              " 0.6576905846595764,\n",
              " 0.6551597714424133,\n",
              " 0.6526507139205933,\n",
              " 0.6501637697219849,\n",
              " 0.6476990580558777,\n",
              " 0.6452566385269165,\n",
              " 0.6428361535072327,\n",
              " 0.6404366493225098,\n",
              " 0.6380587220191956,\n",
              " 0.6357019543647766,\n",
              " 0.6333653330802917,\n",
              " 0.6310486793518066,\n",
              " 0.6287519931793213,\n",
              " 0.6264748573303223,\n",
              " 0.62421715259552,\n",
              " 0.6219787001609802,\n",
              " 0.6197593808174133,\n",
              " 0.6175588369369507,\n",
              " 0.6153770685195923,\n",
              " 0.6132137775421143,\n",
              " 0.6110686659812927,\n",
              " 0.6089416146278381,\n",
              " 0.6068329811096191]"
            ]
          },
          "metadata": {},
          "execution_count": 55
        }
      ]
    },
    {
      "cell_type": "code",
      "metadata": {
        "colab": {
          "base_uri": "https://localhost:8080/"
        },
        "id": "6bUHsNPx3bLV",
        "outputId": "3b6e1f10-11d9-42d6-8ce4-bd5552fb427a"
      },
      "source": [
        "output = model.forward(X, A)\n",
        "test_x = torch.index_select(output, 0, test)\n",
        "test_y = torch.index_select(y, 0, test)"
      ],
      "execution_count": null,
      "outputs": [
        {
          "output_type": "stream",
          "name": "stderr",
          "text": [
            "/usr/local/lib/python3.7/dist-packages/ipykernel_launcher.py:56: UserWarning: Implicit dimension choice for log_softmax has been deprecated. Change the call to include dim=X as an argument.\n"
          ]
        }
      ]
    },
    {
      "cell_type": "code",
      "metadata": {
        "id": "VJW_m3bQ3fHu"
      },
      "source": [
        "predictions = torch.argmax(test_x, dim=1)"
      ],
      "execution_count": null,
      "outputs": []
    },
    {
      "cell_type": "code",
      "metadata": {
        "colab": {
          "base_uri": "https://localhost:8080/"
        },
        "id": "DkbHJ5ko3gmC",
        "outputId": "b9c1256d-7f48-4257-d8c3-b26760a7a61e"
      },
      "source": [
        "predictions.shape"
      ],
      "execution_count": null,
      "outputs": [
        {
          "output_type": "execute_result",
          "data": {
            "text/plain": [
              "torch.Size([1061])"
            ]
          },
          "metadata": {},
          "execution_count": 58
        }
      ]
    },
    {
      "cell_type": "code",
      "metadata": {
        "id": "ABPy_zTO3iQk"
      },
      "source": [
        "predictions, test_y = predictions.numpy(), test_y.numpy()"
      ],
      "execution_count": null,
      "outputs": []
    },
    {
      "cell_type": "code",
      "metadata": {
        "colab": {
          "base_uri": "https://localhost:8080/"
        },
        "id": "viZY3TOa3lBY",
        "outputId": "dcc1e0cd-310c-4ca7-87e6-a707ada861a8"
      },
      "source": [
        "acc = 0\n",
        "for i in range(len(test_y)):\n",
        "    if predictions[i] == test_y[i]:\n",
        "        acc += 1\n",
        "ic(acc/len(test_y)*100)"
      ],
      "execution_count": null,
      "outputs": [
        {
          "output_type": "stream",
          "name": "stderr",
          "text": [
            "ic| acc/len(test_y)*100: 82.4693685202639\n"
          ]
        },
        {
          "output_type": "execute_result",
          "data": {
            "text/plain": [
              "82.4693685202639"
            ]
          },
          "metadata": {},
          "execution_count": 60
        }
      ]
    },
    {
      "cell_type": "code",
      "metadata": {
        "colab": {
          "base_uri": "https://localhost:8080/"
        },
        "id": "9pHqenGv3nYr",
        "outputId": "48cc11ec-6a26-4d64-f3c3-b23cd41a9b1a"
      },
      "source": [
        "predictions"
      ],
      "execution_count": null,
      "outputs": [
        {
          "output_type": "execute_result",
          "data": {
            "text/plain": [
              "array([2, 2, 2, ..., 1, 0, 2])"
            ]
          },
          "metadata": {},
          "execution_count": 61
        }
      ]
    },
    {
      "cell_type": "code",
      "metadata": {
        "colab": {
          "base_uri": "https://localhost:8080/"
        },
        "id": "yc2_2dkW5TlK",
        "outputId": "5e8eea60-b59e-417c-d3e7-b9fdae4e442e"
      },
      "source": [
        "test_y"
      ],
      "execution_count": null,
      "outputs": [
        {
          "output_type": "execute_result",
          "data": {
            "text/plain": [
              "array([2, 2, 2, ..., 1, 0, 2])"
            ]
          },
          "metadata": {},
          "execution_count": 62
        }
      ]
    },
    {
      "cell_type": "code",
      "metadata": {
        "colab": {
          "base_uri": "https://localhost:8080/"
        },
        "id": "9zAsb94C5WVa",
        "outputId": "a6a57b7f-d090-4b9b-b5aa-f42c72145e77"
      },
      "source": [
        "from collections import Counter\n",
        "c = Counter(predictions)\n",
        "print(c)"
      ],
      "execution_count": null,
      "outputs": [
        {
          "output_type": "stream",
          "name": "stdout",
          "text": [
            "Counter({2: 461, 3: 216, 1: 166, 6: 129, 0: 53, 4: 24, 5: 12})\n"
          ]
        }
      ]
    },
    {
      "cell_type": "code",
      "metadata": {
        "colab": {
          "base_uri": "https://localhost:8080/"
        },
        "id": "ldi8jXEs5tB3",
        "outputId": "51c2d90c-c204-4b7f-d468-c0b169532070"
      },
      "source": [
        "from collections import Counter\n",
        "c = Counter(test_y)\n",
        "print(c)"
      ],
      "execution_count": null,
      "outputs": [
        {
          "output_type": "stream",
          "name": "stdout",
          "text": [
            "Counter({2: 568, 3: 176, 1: 168, 6: 101, 0: 48})\n"
          ]
        }
      ]
    },
    {
      "cell_type": "code",
      "metadata": {
        "id": "PVFU6qiI6aAK"
      },
      "source": [
        "import matplotlib.pyplot as plt"
      ],
      "execution_count": null,
      "outputs": []
    },
    {
      "cell_type": "code",
      "metadata": {
        "id": "5jINzT6S5wIk"
      },
      "source": [
        "def get_attention_matrices():    \n",
        "    X, y = dataset.getXY()\n",
        "    A = dataset.getMatrix()\n",
        "    \n",
        "    attention_matrices = None\n",
        "    with torch.no_grad():\n",
        "        attention_matrices = model.get_attention_matrices(yeet=True)\n",
        "    return attention_matrices\n",
        "\n",
        "attention_matrices = get_attention_matrices()\n",
        "\n",
        "# DEBUGGING INFORMATION\n",
        "# ic(X.shape)\n",
        "# ic(A.shape)\n",
        "# ic(output.shape)\n",
        "# ic(len(attention_matrices))\n",
        "# ic(attention_matrices[-1].shape)"
      ],
      "execution_count": null,
      "outputs": []
    },
    {
      "cell_type": "code",
      "metadata": {
        "id": "fOwjkpoX4K_z"
      },
      "source": [
        "def get_class_rows(matrix, class_label=1):\n",
        "    n = len(X)\n",
        "    indices = [int(y[i] == class_label) for i in range(n)]\n",
        "    return np.array(indices)"
      ],
      "execution_count": null,
      "outputs": []
    },
    {
      "cell_type": "code",
      "metadata": {
        "colab": {
          "base_uri": "https://localhost:8080/"
        },
        "id": "GP63XyhH4MWp",
        "outputId": "8b982a2d-7653-4330-bc53-9d55317dc2aa"
      },
      "source": [
        "def plot_matrix(matrix, label, filter_class=None):\n",
        "    start_point_x, start_point_y = 420, 420\n",
        "    end_point_x, end_point_y = 469, 469\n",
        "\n",
        "    # plt.figure(figsize=(200, 200))\n",
        "\n",
        "    if filter_class:\n",
        "        indices = get_class_rows(matrix, filter_class)\n",
        "        # print(indices)\n",
        "\n",
        "        new_mat = []\n",
        "        m, n = len(matrix), len(matrix[0])\n",
        "        for i in range(m):\n",
        "            if indices[i]:\n",
        "                new_row = []\n",
        "                for j in range(n):\n",
        "                    if indices[j]: \n",
        "                        new_row.append(matrix[i][j])\n",
        "                new_mat.append(np.array(new_row))\n",
        "        matrix = np.array(new_mat)\n",
        "    \n",
        "\n",
        "    # matrix = normalize(matrix, axis=1)\n",
        "    plt.matshow(matrix, cmap=plt.get_cmap(\"binary\"))\n",
        "    plt.title(label)\n",
        "    # plt.legend()\n",
        "    plt.show()\n",
        "\n",
        "plot_matrix(attention_matrices[0], \"first attention matrix\")\n",
        "plot_matrix(attention_matrices[-1], \"last attention matrix\")"
      ],
      "execution_count": null,
      "outputs": [
        {
          "output_type": "display_data",
          "data": {
            "image/png": "[encoded data removed]",
            "text/plain": [
              "<Figure size 288x288 with 1 Axes>"
            ]
          },
          "metadata": {
            "needs_background": "light"
          }
        },
        {
          "output_type": "display_data",
          "data": {
            "image/png": "[encoded data removed]",
            "text/plain": [
              "<Figure size 288x288 with 1 Axes>"
            ]
          },
          "metadata": {
            "needs_background": "light"
          }
        }
      ]
    },
    {
      "cell_type": "code",
      "metadata": {
        "id": "-UxpGWrc6YOz"
      },
      "source": [
        ""
      ],
      "execution_count": null,
      "outputs": []
    }
  ]
}
