{
  "nbformat": 4,
  "nbformat_minor": 0,
  "metadata": {
    "colab": {
      "name": "Final_GAT-2.ipynb",
      "provenance": [],
      "collapsed_sections": []
    },
    "kernelspec": {
      "name": "python3",
      "display_name": "Python 3"
    },
    "language_info": {
      "name": "python"
    },
    "widgets": {
      "application/vnd.jupyter.widget-state+json": {
        "3659b5b9f43143cca691629908f60269": {
          "model_module": "@jupyter-widgets/controls",
          "model_name": "HBoxModel",
          "model_module_version": "1.5.0",
          "state": {
            "_view_name": "HBoxView",
            "_dom_classes": [],
            "_model_name": "HBoxModel",
            "_view_module": "@jupyter-widgets/controls",
            "_model_module_version": "1.5.0",
            "_view_count": null,
            "_view_module_version": "1.5.0",
            "box_style": "",
            "layout": "IPY_MODEL_76e19451adf34ca09102eafe88cabb29",
            "_model_module": "@jupyter-widgets/controls",
            "children": [
              "IPY_MODEL_1445f14530fc438889c4e252750e51f2",
              "IPY_MODEL_149c477f918a4e1da33d7d579d9190a0",
              "IPY_MODEL_ebd4c6f832ea448789933e3a8a2e06b8"
            ]
          }
        },
        "76e19451adf34ca09102eafe88cabb29": {
          "model_module": "@jupyter-widgets/base",
          "model_name": "LayoutModel",
          "model_module_version": "1.2.0",
          "state": {
            "_view_name": "LayoutView",
            "grid_template_rows": null,
            "right": null,
            "justify_content": null,
            "_view_module": "@jupyter-widgets/base",
            "overflow": null,
            "_model_module_version": "1.2.0",
            "_view_count": null,
            "flex_flow": null,
            "width": null,
            "min_width": null,
            "border": null,
            "align_items": null,
            "bottom": null,
            "_model_module": "@jupyter-widgets/base",
            "top": null,
            "grid_column": null,
            "overflow_y": null,
            "overflow_x": null,
            "grid_auto_flow": null,
            "grid_area": null,
            "grid_template_columns": null,
            "flex": null,
            "_model_name": "LayoutModel",
            "justify_items": null,
            "grid_row": null,
            "max_height": null,
            "align_content": null,
            "visibility": null,
            "align_self": null,
            "height": null,
            "min_height": null,
            "padding": null,
            "grid_auto_rows": null,
            "grid_gap": null,
            "max_width": null,
            "order": null,
            "_view_module_version": "1.2.0",
            "grid_template_areas": null,
            "object_position": null,
            "object_fit": null,
            "grid_auto_columns": null,
            "margin": null,
            "display": null,
            "left": null
          }
        },
        "1445f14530fc438889c4e252750e51f2": {
          "model_module": "@jupyter-widgets/controls",
          "model_name": "HTMLModel",
          "model_module_version": "1.5.0",
          "state": {
            "_view_name": "HTMLView",
            "style": "IPY_MODEL_15271af65dc64ce28d1906113d613885",
            "_dom_classes": [],
            "description": "",
            "_model_name": "HTMLModel",
            "placeholder": "​",
            "_view_module": "@jupyter-widgets/controls",
            "_model_module_version": "1.5.0",
            "value": "100%",
            "_view_count": null,
            "_view_module_version": "1.5.0",
            "description_tooltip": null,
            "_model_module": "@jupyter-widgets/controls",
            "layout": "IPY_MODEL_538aa6e2cc574b6ea656aa422caf4c4e"
          }
        },
        "149c477f918a4e1da33d7d579d9190a0": {
          "model_module": "@jupyter-widgets/controls",
          "model_name": "FloatProgressModel",
          "model_module_version": "1.5.0",
          "state": {
            "_view_name": "ProgressView",
            "style": "IPY_MODEL_e34c7a5bd52b453cba9f84f5a7e4e3b9",
            "_dom_classes": [],
            "description": "",
            "_model_name": "FloatProgressModel",
            "bar_style": "success",
            "max": 500,
            "_view_module": "@jupyter-widgets/controls",
            "_model_module_version": "1.5.0",
            "value": 500,
            "_view_count": null,
            "_view_module_version": "1.5.0",
            "orientation": "horizontal",
            "min": 0,
            "description_tooltip": null,
            "_model_module": "@jupyter-widgets/controls",
            "layout": "IPY_MODEL_c18adc8511f840e181d85f1f60ceb572"
          }
        },
        "ebd4c6f832ea448789933e3a8a2e06b8": {
          "model_module": "@jupyter-widgets/controls",
          "model_name": "HTMLModel",
          "model_module_version": "1.5.0",
          "state": {
            "_view_name": "HTMLView",
            "style": "IPY_MODEL_7c762a5c6445472da8d45b27ad127340",
            "_dom_classes": [],
            "description": "",
            "_model_name": "HTMLModel",
            "placeholder": "​",
            "_view_module": "@jupyter-widgets/controls",
            "_model_module_version": "1.5.0",
            "value": " 500/500 [05:55&lt;00:00,  1.37it/s]",
            "_view_count": null,
            "_view_module_version": "1.5.0",
            "description_tooltip": null,
            "_model_module": "@jupyter-widgets/controls",
            "layout": "IPY_MODEL_df672275be6349b79502551b15d7b1cc"
          }
        },
        "15271af65dc64ce28d1906113d613885": {
          "model_module": "@jupyter-widgets/controls",
          "model_name": "DescriptionStyleModel",
          "model_module_version": "1.5.0",
          "state": {
            "_view_name": "StyleView",
            "_model_name": "DescriptionStyleModel",
            "description_width": "",
            "_view_module": "@jupyter-widgets/base",
            "_model_module_version": "1.5.0",
            "_view_count": null,
            "_view_module_version": "1.2.0",
            "_model_module": "@jupyter-widgets/controls"
          }
        },
        "538aa6e2cc574b6ea656aa422caf4c4e": {
          "model_module": "@jupyter-widgets/base",
          "model_name": "LayoutModel",
          "model_module_version": "1.2.0",
          "state": {
            "_view_name": "LayoutView",
            "grid_template_rows": null,
            "right": null,
            "justify_content": null,
            "_view_module": "@jupyter-widgets/base",
            "overflow": null,
            "_model_module_version": "1.2.0",
            "_view_count": null,
            "flex_flow": null,
            "width": null,
            "min_width": null,
            "border": null,
            "align_items": null,
            "bottom": null,
            "_model_module": "@jupyter-widgets/base",
            "top": null,
            "grid_column": null,
            "overflow_y": null,
            "overflow_x": null,
            "grid_auto_flow": null,
            "grid_area": null,
            "grid_template_columns": null,
            "flex": null,
            "_model_name": "LayoutModel",
            "justify_items": null,
            "grid_row": null,
            "max_height": null,
            "align_content": null,
            "visibility": null,
            "align_self": null,
            "height": null,
            "min_height": null,
            "padding": null,
            "grid_auto_rows": null,
            "grid_gap": null,
            "max_width": null,
            "order": null,
            "_view_module_version": "1.2.0",
            "grid_template_areas": null,
            "object_position": null,
            "object_fit": null,
            "grid_auto_columns": null,
            "margin": null,
            "display": null,
            "left": null
          }
        },
        "e34c7a5bd52b453cba9f84f5a7e4e3b9": {
          "model_module": "@jupyter-widgets/controls",
          "model_name": "ProgressStyleModel",
          "model_module_version": "1.5.0",
          "state": {
            "_view_name": "StyleView",
            "_model_name": "ProgressStyleModel",
            "description_width": "",
            "_view_module": "@jupyter-widgets/base",
            "_model_module_version": "1.5.0",
            "_view_count": null,
            "_view_module_version": "1.2.0",
            "bar_color": null,
            "_model_module": "@jupyter-widgets/controls"
          }
        },
        "c18adc8511f840e181d85f1f60ceb572": {
          "model_module": "@jupyter-widgets/base",
          "model_name": "LayoutModel",
          "model_module_version": "1.2.0",
          "state": {
            "_view_name": "LayoutView",
            "grid_template_rows": null,
            "right": null,
            "justify_content": null,
            "_view_module": "@jupyter-widgets/base",
            "overflow": null,
            "_model_module_version": "1.2.0",
            "_view_count": null,
            "flex_flow": null,
            "width": null,
            "min_width": null,
            "border": null,
            "align_items": null,
            "bottom": null,
            "_model_module": "@jupyter-widgets/base",
            "top": null,
            "grid_column": null,
            "overflow_y": null,
            "overflow_x": null,
            "grid_auto_flow": null,
            "grid_area": null,
            "grid_template_columns": null,
            "flex": null,
            "_model_name": "LayoutModel",
            "justify_items": null,
            "grid_row": null,
            "max_height": null,
            "align_content": null,
            "visibility": null,
            "align_self": null,
            "height": null,
            "min_height": null,
            "padding": null,
            "grid_auto_rows": null,
            "grid_gap": null,
            "max_width": null,
            "order": null,
            "_view_module_version": "1.2.0",
            "grid_template_areas": null,
            "object_position": null,
            "object_fit": null,
            "grid_auto_columns": null,
            "margin": null,
            "display": null,
            "left": null
          }
        },
        "7c762a5c6445472da8d45b27ad127340": {
          "model_module": "@jupyter-widgets/controls",
          "model_name": "DescriptionStyleModel",
          "model_module_version": "1.5.0",
          "state": {
            "_view_name": "StyleView",
            "_model_name": "DescriptionStyleModel",
            "description_width": "",
            "_view_module": "@jupyter-widgets/base",
            "_model_module_version": "1.5.0",
            "_view_count": null,
            "_view_module_version": "1.2.0",
            "_model_module": "@jupyter-widgets/controls"
          }
        },
        "df672275be6349b79502551b15d7b1cc": {
          "model_module": "@jupyter-widgets/base",
          "model_name": "LayoutModel",
          "model_module_version": "1.2.0",
          "state": {
            "_view_name": "LayoutView",
            "grid_template_rows": null,
            "right": null,
            "justify_content": null,
            "_view_module": "@jupyter-widgets/base",
            "overflow": null,
            "_model_module_version": "1.2.0",
            "_view_count": null,
            "flex_flow": null,
            "width": null,
            "min_width": null,
            "border": null,
            "align_items": null,
            "bottom": null,
            "_model_module": "@jupyter-widgets/base",
            "top": null,
            "grid_column": null,
            "overflow_y": null,
            "overflow_x": null,
            "grid_auto_flow": null,
            "grid_area": null,
            "grid_template_columns": null,
            "flex": null,
            "_model_name": "LayoutModel",
            "justify_items": null,
            "grid_row": null,
            "max_height": null,
            "align_content": null,
            "visibility": null,
            "align_self": null,
            "height": null,
            "min_height": null,
            "padding": null,
            "grid_auto_rows": null,
            "grid_gap": null,
            "max_width": null,
            "order": null,
            "_view_module_version": "1.2.0",
            "grid_template_areas": null,
            "object_position": null,
            "object_fit": null,
            "grid_auto_columns": null,
            "margin": null,
            "display": null,
            "left": null
          }
        }
      }
    }
  },
  "cells": [
    {
      "cell_type": "code",
      "metadata": {
        "colab": {
          "base_uri": "https://localhost:8080/"
        },
        "id": "zj_NycyMMBgd",
        "outputId": "7d066d55-1a07-4397-909b-1f6bedf9f1e5"
      },
      "source": [
        "%%shell\n",
        "pip install torch-scatter -f https://data.pyg.org/whl/torch-1.10.0+cpu.html\n",
        "pip install torch-sparse -f https://data.pyg.org/whl/torch-1.10.0+cpu.html\n",
        "pip install torch-geometric\n",
        "\n",
        "pip install networkx\n",
        "\n",
        "pip install icecream\n",
        "pip install tqdm"
      ],
      "execution_count": 39,
      "outputs": [
        {
          "output_type": "stream",
          "name": "stdout",
          "text": [
            "Looking in links: https://data.pyg.org/whl/torch-1.10.0+cpu.html\n",
            "Requirement already satisfied: torch-scatter in /usr/local/lib/python3.7/dist-packages (2.0.9)\n",
            "Looking in links: https://data.pyg.org/whl/torch-1.10.0+cpu.html\n",
            "Requirement already satisfied: torch-sparse in /usr/local/lib/python3.7/dist-packages (0.6.12)\n",
            "Requirement already satisfied: scipy in /usr/local/lib/python3.7/dist-packages (from torch-sparse) (1.4.1)\n",
            "Requirement already satisfied: numpy>=1.13.3 in /usr/local/lib/python3.7/dist-packages (from scipy->torch-sparse) (1.19.5)\n",
            "Requirement already satisfied: torch-geometric in /usr/local/lib/python3.7/dist-packages (2.0.2)\n",
            "Requirement already satisfied: pandas in /usr/local/lib/python3.7/dist-packages (from torch-geometric) (1.1.5)\n",
            "Requirement already satisfied: yacs in /usr/local/lib/python3.7/dist-packages (from torch-geometric) (0.1.8)\n",
            "Requirement already satisfied: rdflib in /usr/local/lib/python3.7/dist-packages (from torch-geometric) (6.0.2)\n",
            "Requirement already satisfied: networkx in /usr/local/lib/python3.7/dist-packages (from torch-geometric) (2.6.3)\n",
            "Requirement already satisfied: numpy in /usr/local/lib/python3.7/dist-packages (from torch-geometric) (1.19.5)\n",
            "Requirement already satisfied: PyYAML in /usr/local/lib/python3.7/dist-packages (from torch-geometric) (3.13)\n",
            "Requirement already satisfied: requests in /usr/local/lib/python3.7/dist-packages (from torch-geometric) (2.23.0)\n",
            "Requirement already satisfied: pyparsing in /usr/local/lib/python3.7/dist-packages (from torch-geometric) (3.0.6)\n",
            "Requirement already satisfied: scipy in /usr/local/lib/python3.7/dist-packages (from torch-geometric) (1.4.1)\n",
            "Requirement already satisfied: tqdm in /usr/local/lib/python3.7/dist-packages (from torch-geometric) (4.62.3)\n",
            "Requirement already satisfied: jinja2 in /usr/local/lib/python3.7/dist-packages (from torch-geometric) (2.11.3)\n",
            "Requirement already satisfied: scikit-learn in /usr/local/lib/python3.7/dist-packages (from torch-geometric) (1.0.1)\n",
            "Requirement already satisfied: googledrivedownloader in /usr/local/lib/python3.7/dist-packages (from torch-geometric) (0.4)\n",
            "Requirement already satisfied: MarkupSafe>=0.23 in /usr/local/lib/python3.7/dist-packages (from jinja2->torch-geometric) (2.0.1)\n",
            "Requirement already satisfied: pytz>=2017.2 in /usr/local/lib/python3.7/dist-packages (from pandas->torch-geometric) (2018.9)\n",
            "Requirement already satisfied: python-dateutil>=2.7.3 in /usr/local/lib/python3.7/dist-packages (from pandas->torch-geometric) (2.8.2)\n",
            "Requirement already satisfied: six>=1.5 in /usr/local/lib/python3.7/dist-packages (from python-dateutil>=2.7.3->pandas->torch-geometric) (1.15.0)\n",
            "Requirement already satisfied: isodate in /usr/local/lib/python3.7/dist-packages (from rdflib->torch-geometric) (0.6.0)\n",
            "Requirement already satisfied: setuptools in /usr/local/lib/python3.7/dist-packages (from rdflib->torch-geometric) (57.4.0)\n",
            "Requirement already satisfied: idna<3,>=2.5 in /usr/local/lib/python3.7/dist-packages (from requests->torch-geometric) (2.10)\n",
            "Requirement already satisfied: certifi>=2017.4.17 in /usr/local/lib/python3.7/dist-packages (from requests->torch-geometric) (2021.10.8)\n",
            "Requirement already satisfied: urllib3!=1.25.0,!=1.25.1,<1.26,>=1.21.1 in /usr/local/lib/python3.7/dist-packages (from requests->torch-geometric) (1.24.3)\n",
            "Requirement already satisfied: chardet<4,>=3.0.2 in /usr/local/lib/python3.7/dist-packages (from requests->torch-geometric) (3.0.4)\n",
            "Requirement already satisfied: joblib>=0.11 in /usr/local/lib/python3.7/dist-packages (from scikit-learn->torch-geometric) (1.1.0)\n",
            "Requirement already satisfied: threadpoolctl>=2.0.0 in /usr/local/lib/python3.7/dist-packages (from scikit-learn->torch-geometric) (3.0.0)\n",
            "Requirement already satisfied: networkx in /usr/local/lib/python3.7/dist-packages (2.6.3)\n",
            "Requirement already satisfied: icecream in /usr/local/lib/python3.7/dist-packages (2.1.1)\n",
            "Requirement already satisfied: executing>=0.3.1 in /usr/local/lib/python3.7/dist-packages (from icecream) (0.8.2)\n",
            "Requirement already satisfied: pygments>=2.2.0 in /usr/local/lib/python3.7/dist-packages (from icecream) (2.6.1)\n",
            "Requirement already satisfied: colorama>=0.3.9 in /usr/local/lib/python3.7/dist-packages (from icecream) (0.4.4)\n",
            "Requirement already satisfied: asttokens>=2.0.1 in /usr/local/lib/python3.7/dist-packages (from icecream) (2.0.5)\n",
            "Requirement already satisfied: six in /usr/local/lib/python3.7/dist-packages (from asttokens>=2.0.1->icecream) (1.15.0)\n",
            "Requirement already satisfied: tqdm in /usr/local/lib/python3.7/dist-packages (4.62.3)\n"
          ]
        },
        {
          "output_type": "execute_result",
          "data": {
            "text/plain": [
              ""
            ]
          },
          "metadata": {},
          "execution_count": 39
        }
      ]
    },
    {
      "cell_type": "code",
      "metadata": {
        "colab": {
          "base_uri": "https://localhost:8080/"
        },
        "id": "2famb6qVMD4o",
        "outputId": "4aec5246-dbc3-4cc5-f589-0f086d39c81d"
      },
      "source": [
        "import numpy as np\n",
        "import pandas as pd\n",
        "import random\n",
        "from collections import Counter\n",
        "from icecream import ic\n",
        "\n",
        "import torch\n",
        "import torch.nn as nn\n",
        "import torch.nn.functional as F\n",
        "import torch.optim as optim\n",
        "import torch_geometric\n",
        "\n",
        "import networkx as nx\n",
        "import scipy\n",
        "\n",
        "from sklearn.model_selection import train_test_split\n",
        "from sklearn.preprocessing import LabelEncoder\n",
        "from sklearn.preprocessing import normalize\n",
        "\n",
        "from tqdm.notebook import tqdm\n",
        "\n",
        "import matplotlib.pyplot as plt\n",
        "\n",
        "print(\"Torch version:\", torch.__version__)\n",
        "print(\"CUDA Present:\", torch.cuda.is_available())\n",
        "print(\"CUDA Version:\", torch.version.cuda)"
      ],
      "execution_count": 40,
      "outputs": [
        {
          "output_type": "stream",
          "name": "stdout",
          "text": [
            "Torch version: 1.10.0+cu111\n",
            "CUDA Present: False\n",
            "CUDA Version: 11.1\n"
          ]
        }
      ]
    },
    {
      "cell_type": "code",
      "metadata": {
        "colab": {
          "base_uri": "https://localhost:8080/"
        },
        "id": "uINhWl8yMGBu",
        "outputId": "3b75a04f-6047-4fc4-dd29-6a09f27fef48"
      },
      "source": [
        "CONFIG = {\n",
        "    'PATH': './cora',\n",
        "    'LIMIT': 250,\n",
        "    'HIDDEN_CHANNELS': 1024,\n",
        "    'NUM_LAYERS': 2,\n",
        "    'DROPOUT_RATE': 0,\n",
        "    'EPOCHS': 500\n",
        "}\n",
        "\n",
        "print(\"Here's the configuration: \")\n",
        "for k, v in CONFIG.items():\n",
        "    print(f\"{k} = {v}\")"
      ],
      "execution_count": 84,
      "outputs": [
        {
          "output_type": "stream",
          "name": "stdout",
          "text": [
            "Here's the configuration: \n",
            "PATH = ./cora\n",
            "LIMIT = 250\n",
            "HIDDEN_CHANNELS = 1024\n",
            "NUM_LAYERS = 2\n",
            "DROPOUT_RATE = 0\n",
            "EPOCHS = 500\n"
          ]
        }
      ]
    },
    {
      "cell_type": "code",
      "metadata": {
        "colab": {
          "base_uri": "https://localhost:8080/"
        },
        "id": "FpcmwB-OXzwB",
        "outputId": "aa2509b5-1e50-4e7d-866a-f1d56af3b240"
      },
      "source": [
        "import nltk\n",
        "nltk.download('punkt')"
      ],
      "execution_count": 42,
      "outputs": [
        {
          "output_type": "stream",
          "name": "stdout",
          "text": [
            "[nltk_data] Downloading package punkt to /root/nltk_data...\n",
            "[nltk_data]   Package punkt is already up-to-date!\n"
          ]
        },
        {
          "output_type": "execute_result",
          "data": {
            "text/plain": [
              "True"
            ]
          },
          "metadata": {},
          "execution_count": 42
        }
      ]
    },
    {
      "cell_type": "code",
      "metadata": {
        "id": "hkpB5pl8Xtpx",
        "colab": {
          "base_uri": "https://localhost:8080/"
        },
        "outputId": "744facde-1a1a-464a-eb46-7050557480e6"
      },
      "source": [
        "text = \"\"\" When I wake up, the other side of the bed is cold. My fingers stretch out, seeking Prims warmth but finding only the rough canvas cover of the mattress. She must have had bad dreams and climbed in with our mother. Of course, she did. This is the day of the reaping. I prop myself up on one elbow. Theres enough light in the bedroom to see them. My little sister, Prim, curled up on her side, cocooned in my mothers body, their cheeks pressed together. In sleep, my mother looks younger, still worn but not so beaten-down. Prims face is as fresh as a raindrop, as lovely as the primrose for which she was named. My mother was very beautiful once, too. Or so\n",
        "\n",
        "they tell me. Sitting at Prims knees, guarding her, is the worlds ugliest cat. Mashed-in nose, half of one ear missing, eyes the color of rotting squash. Prim named him Buttercup, insisting that his muddy yellow coat matched the bright flower. I he hates me. Or at least distrusts me. Even though it was years ago, I think he still remembers how I tried to drown him in a bucket when Prim brought him home. Scrawny kitten, belly swollen with worms, crawling with fleas. The last thing I needed was another mouth to feed. But Prim begged so hard, cried even, I had to let him stay. It turned out okay. My mother got rid of the vermin and hes a born mouser. Even catches the occasional rat. Sometimes, when I clean a kill, I feed Buttercup the entrails. He has stopped hissing at me. Entrails. No hissing. This is the closest we will ever come to love. I swing my legs off the bed and slide into my hunting boots. Supple leather that has molded to my feet. I pull on trousers, a shirt, tuck my long dark braid up into a cap, and grab my forage bag. On the table, under a wooden bowl to protect it from hungry rats and cats alike, sits a perfect little goat cheese wrapped in basil leaves. Prims gift to me on reaping day. I put the cheese carefully in my pocket as I slip outside. Our part of District 12, nicknamed the Seam, is usually crawling with coal miners heading out to the morning shift at this hour. Men and women with hunched shoulders, swollen knuckles, many who have long since stopped trying to scrub the coal dust out of their broken nails, the lines of their sunken faces. But today the black cinder streets are empty. Shutters on the squat gray houses are closed. The reaping isnt until two. May as well sleep in. If you can. Our house is almost at the edge of the Seam. I only have to pass a few gates to reach the scruffy field called the Meadow. Separating the Meadow from the woods, in fact enclosing all of District 12, is a high chain-link fence topped with barbed-wire loops. In theory, its supposed to be electrified twenty-four hours a day as a deterrent to the predators that live in the woods packs of wild dogs, lone cougars, bears that used to threaten our streets. But since were lucky to get two or three hours of electricity in the evenings, its\n",
        "\n",
        "usually safe to touch. Even so, I always take a moment to listen carefully for the hum that means the fence is live. Right now, its silent as a stone. Concealed by a clump of bushes, I flatten out on my belly and slide under a two-foot stretch thats\n",
        "\n",
        "been loose for years. There are several other weak spots in the fence, but this one is so close to home I almost always enter the woods here. As soon as Im in the trees, I retrieve a bow and sheath of arrows from a hollow log. Electrified or not, the fence has been successful at keeping the flesh-eaters out of District 12. Inside the woods they roam freely, and there are added concerns like venomous snakes, rabid animals, and no real paths to follow. But theres also food if you know how to find it. My father knew and he taught me some before he was blown to bits in a mine explosion. There was nothing even to bury. I was eleven then. Five years later, I still wake up screaming for him to run. Even though trespassing in the woods is illegal and poaching carries the severest of penalties, more people would risk it if they had weapons. But most are not bold enough to venture out with just a knife. My bow is a rarity, crafted by my father along with a few others that I keep well hidden in the woods, carefully wrapped in waterproof covers. My father could have made good money selling them, but if the officials found out he would have been publicly executed for inciting a rebellion. Most of the Peacekeepers turn a blind eye to the few of us who hunt because theyre as hungry for fresh meat as anybody is. In fact, theyre among our best customers. But the idea that someone might be arming the Seam would never have been allowed. In the fall, a few brave souls sneak into the woods to harvest apples. But always in sight of the Meadow. Always close enough to run back to the safety of District 12 if trouble arises. District Twelve. Where you can starve to death in safety, I mutter. Then I glance quickly over my shoulder. Even here, even in the middle of nowhere, you worry someone might overhear you. When I was younger, I scared my mother to death, the things I would blurt out about District 12, about the people who rule our country, Panem, from the far-off city called the Capitol. Eventually I understood this would only lead us to more trouble. So I learned to hold my tongue and to turn my features into an indifferent mask so that no one could ever read my thoughts. Do my work quietly in school. Make only polite small talk in the public market. Discuss little more than trades in the Hob, which is the black market where I make most of my money. Even at home, where I am less pleasant, I avoid discussing tricky topics. Like the reaping, or food shortages, or the Hunger Games. Prim might begin to repeat my words and then where would we be? In the woods waits the only person with whom I can be myself. Gale. I can feel the\n",
        "\n",
        "muscles in my face relaxing, my pace quickening as I climb the hills to our place, a rock ledge\n",
        "\n",
        "overlooking a valley. A thicket of berry bushes protects it from unwanted eyes. The sight of him waiting there brings on a smile. Gale says I never smile except in the woods. Hey, Catnip, says Gale. My real name is Katniss, but when I first told him, I had barely whispered it. So he thought Id said Catnip. Then when this crazy lynx started following me around the woods looking for handouts, it became his official nickname for me. I finally had to kill the lynx because he scared off game. I almost regretted it because he wasnt bad company. But I got a decent price for his pelt. Look what I shot, Gale holds up a loaf of bread with an arrow stuck in it, and I laugh. Its real bakery bread, not the flat, dense loaves we make from our grain rations. I take it in my hands, pull out the arrow, and hold the puncture in the crust to my nose, inhaling the fragrance that makes my mouth flood with saliva. Fine bread like this is for special occasions. Mm, still warm, I say. He must have been at the bakery at the crack of dawn to trade for it. What did it cost you? Just a squirrel. Think the old man was feeling sentimental this morning, says Gale. Even wished me luck. Well, we all feel a little closer today, dont we? I say, not even bothering to roll my eyes. Prim left us a cheese. I pull it out. His expression brightens at the treat. Thank you, Prim. Well have a real feast. Suddenly he falls into a Capitol accent as he mimics Effie Trinket, the maniacally upbeat woman who arrives once a year to read out the names at the leaping. I almost forgot! Happy Hunger Games! He plucks a few blackberries from the bushes around us. And may the odds He tosses a berry in a high arc toward me. I catch it in my mouth and break the delicate skin with my teeth. The sweet tartness explodes across my tongue. Be ever in your favor! I finish with equal verve. We have to joke about it because the alternative is to be scared out of your wits. Besides, the Capitol accent is so affected, almost anything sounds funny in it. I watch as Gale pulls out his knife and slices the bread. He could be my brother. Straight black hair, olive skin, we even have the same gray eyes. But were not related, at least not closely. Most of the families who work the mines resemble one another this way. Thats why my mother and Prim, with their light hair and blue eyes, always look out of place. They are. My mothers parents were part of the small merchant class that\n",
        "\n",
        "caters to officials, Peacekeepers, and the occasional Seam customer. They ran an apothecary shop in the nicer part of District 12. Since almost no one can afford doctors, apothecaries are our healers. My father got to know my mother because on his hunts he would sometimes collect medicinal herbs and sell them to her shop to be brewed into remedies. She must have really loved him to leave her home for the Seam. I try to remember that when all I can see is the woman who sat by, blank and unreachable, while her children turned to skin and bones. I\n",
        "\n",
        "try to forgive her for my fathers sake. But to be honest, Im not the forgiving type. Gale spreads the bread slices with the soft goat cheese, carefully placing a basil leaf on each while I strip the bushes of their berries. We settle back in a nook in the rocks. From this place, we are invisible but have a clear view of the valley, which is teeming with summer life, greens to gather, roots to dig, fish iridescent in the sunlight. The day is glorious, with a blue sky and soft breeze. The foods wonderful, with the cheese seeping into the warm bread and the berries bursting in our mouths. Everything would be perfect if this really was a holiday, if all the day off meant was roaming the mountains with Gale, hunting for tonights supper. But instead we have to be standing in the square at two oclock waiting for the names to be called out. We could do it, you know, Gale says quietly. What? I ask. Leave the district. Run off. Live in the woods. You and I, we could make it, says Gale. I dont know how to respond. The idea is so preposterous. If we didnt have so many kids, he adds quickly. Theyre not our kids, of course. But they might as well be. Gales two little brothers and a sister. Prim. And you may as well throw in our mothers, too, because how would they live without us? Who would fill those mouths that are always asking for more? With both of us hunting daily, there are still nights when game has to be swapped for lard or shoelaces or wool, still nights when we go to bed with our stomachs growling. I never want to have kids, I say. I might. If I didnt live here, says Gale. But you do, I say, irritated. Forget it, he snaps back. The conversation feels all wrong. Leave? How could I leave Prim, who is the only person in the world Im certain I love? And Gale is devoted to his family. We cant leave, so why bother talking about it? And even if we did . . . Even if we did . . . Where did this stuff about having kids come from? Theres never been anything romantic between Gale and me. When we met, I was a skinny\n",
        "\n",
        "twelve-year-old, and although he was only two years older, he already looked like a man. It took a long time for us to even become friends, to stop haggling over every trade and begin helping each other out. Besides, if he wants kids, Gale wont have any trouble finding a wife. Hes good-looking, hes strong enough to handle the work in the mines, and he can hunt. You can tell by the way the girls whisper about him when he walks by in school that they want him. It makes me jealous but not for the reason people would think. Good hunting partners are hard to find. What do you want to do? I ask. We can hunt, fish, or gather. Lets fish at the lake. We can leave our poles and gather in the woods. Get something nice for tonight, he says. Tonight. After the reaping, everyone is supposed to celebrate. And a lot of people do, out of relief that their children have been spared for another year. But at least two families will pull their shutters, lock their doors,\n",
        "\n",
        "and try to figure out how they will survive the painful weeks to come. We make out well. The predators ignore us on a day when easier, tastier prey abounds. By late morning, we have a dozen fish, a bag of greens and, best of all, a gallon of strawberries. I found the patch a few years ago, but Gale had the idea to string mesh nets around it to keep out the animals. On the way home, we swing by the Hob, the black market that operates in an abandoned warehouse that once held coal. When they came up with a more efficient system that transported the coal directly from the mines to the trains, the Hob gradually took over the space. Most businesses are closed by this time on reaping day, but the black markets still fairly busy. We easily trade six of the fish for good bread, the other two for salt. Greasy Sae, the bony old woman who sells bowls of hot soup from a large kettle, takes half the greens off our hands in exchange for a couple of chunks of paraffin. We might do a tad better elsewhere, but we make an effort to keep on good terms with Greasy Sae. Shes the only one who can consistently be counted on to buy wild dog. We dont hunt them on purpose, but if youre attacked and you take out a dog or two, well, meat is meat. Once its in the soup, Ill call it beef, Greasy Sae says with a wink. No one in the Seam would turn up their nose at a good leg of wild dog, but the Peacekeepers who come to the Hob can afford to be a little choosier. When we finish our business at the market, we go to the back door of the mayors house to sell half the strawberries, knowing he has\n",
        "\n",
        "a particular fondness for them and can afford our price. The mayors daughter, Madge, opens the door. Shes in my year at school. Being the mayors daughter, youd expect her to be a snob, but shes all right. She just keeps to herself. Like me. Since neither of us really has a group of friends, we seem to end up together a lot at school. Eating lunch, sitting next to each other at assemblies, partnering for sports activities. We rarely talk, which suits us both just fine. Today her drab school outfit has been replaced by an expensive white dress, and her blonde hair is done up with a pink ribbon. Reaping clothes. Pretty dress, says Gale. Madge shoots him a look, trying to see if its a genuine compliment or if hes just being ironic. It is a pretty dress, but she would never be wearing it ordinarily. She presses her lips together and then smiles. Well, if I end up going to the Capitol, I want to look nice, dont I? Now its Gales turn to be confused. Does she mean it? Or is she messing with him? Im guessing the second. You wont be going to the Capitol, says Gale coolly. His eyes land on a small, circular pin that adorns her dress. Real gold. Beautifully crafted. It could keep a family in bread for months. What can you have? Five entries? I had six when I was just twelve years old. Thats not her fault, I say. No, its no ones fault. Just the way it is, says Gale. Madges face has become closed off.\n",
        "\n",
        "She puts the money for the berries in my hand. Good luck, Katniss. You, too, I say, and the door closes. We walk toward the Seam in silence. I dont like that Gale took a dig at Madge, but hes right, of course. The reaping system is unfair, with the poor getting the worst of it. You become eligible for the reaping the day you turn twelve. That year, your name is entered once. At thirteen, twice. And so on and so on until you reach the age of eighteen, the final year of eligibility, when your name goes into the pool seven times. Thats true for every citizen in all twelve districts in the entire country of Panem. But heres the catch. Say you are poor and starving as we were. You can opt to add your name more times in exchange for tesserae. Each tessera is worth a meager years supply of grain and oil for one person. You may do this for each of your family members as well. So, at the age of twelve, I had my name entered four times. Once, because I had to, and three times for tesserae for grain and oil for myself, Prim, and my mother. In fact, every year I have needed to do this. And the entries are cumulative. So now, at the age of sixteen, my name will be in the\n",
        "\n",
        "reaping twenty times. Gale, who is eighteen and has been either helping or single-handedly feeding a family of five for seven years, will have his name in forty-two times. You can see why someone like Madge, who has never been at risk of needing a tessera, can set him off. The chance of her name being drawn is very slim compared to those of us who live in the Seam. Not impossible, but slim. And even though the rules were set up by the Capitol, not the districts, certainly not Madges family, its hard not to resent those who dont have to sign up for tesserae. Gale knows his anger at Madge is misdirected. On other days, deep in the woods, Ive listened to him rant about how the tesserae are just another tool to cause misery in our district. A way to plant hatred between the starving workers of the Seam and those who can generally count on supper and thereby ensure we will never trust one another. Its to the Capitols advantage to have us divided among ourselves, he might say if there were no ears to hear but mine. If it wasnt reaping day. If a girl with a gold pin and no tesserae had not made what Im sure she thought was a harmless comment. As we walk, I glance over at Gales face, still smoldering underneath his stony expression. His rages seem pointless to me, although I never say so. Its not that I dont agree with him. I do. But what good is yelling about the Capitol in the middle of the woods? It doesnt change anything. It doesnt make things fair. It doesnt fill our stomachs. In fact, it scares off the nearby game. I let him yell though. Better he does it in the woods than in the district. Gale and I divide our spoils, leaving two fish, a couple of loaves of good bread, greens, a quart of strawberries, salt, paraffin, and a bit of money for each. See you in the square, I say. Wear something\n",
        "\n",
        "pretty, he says flatly. At home, I find my mother and sister are ready to go. My mother wears a fine dress from her apothecary days. Prim is in my first reaping outfit, a skirt and ruffled blouse. Its a bit big on her, but my mother has made it stay with pins. Even so, shes having trouble keeping the blouse tucked in at the back. A tub of warm water waits for me. I scrub off the dirt and sweat from the woods and even wash my hair. To my surprise, my mother has laid out one of her own lovely dresses for me. A soft blue thing with matching shoes. Are you sure? I ask. Im trying to get past rejecting offers of help from her. For a while, I was so angry, I wouldnt allow her to do anything for me. And this is something special. Her clothes from her\n",
        "\n",
        "past are very precious to her. Of course. Lets put your hair up, too, she says. I let her towel-dry it and braid it up on my head. I can hardly recognize myself in the cracked mirror that leans against the wall. You look beautiful, says Prim in a hushed voice. And nothing like myself, I say. I hug her, because I know these next few hours will be terrible for her. Her first reaping. Shes about as safe as you can get, since shes only entered once. I wouldnt let her take out any tesserae. But shes worried about me. That the unthinkable might happen. I protect Prim in every way I can, but Im powerless against the reaping. The anguish I always feel when shes in pain wells up in my chest and threatens to register on my (ace. I notice her blouse has pulled out of her skirt in the back again and force myself to stay calm. Tuck your tail in, little duck, I say, smoothing the blouse back in place. Prim giggles and gives me a small Quack. Quack yourself, I say with a light laugh. The kind only Prim can draw out of me. Come on, lets eat, I say and plant a quick kiss on the top of her head. The fish and greens are already cooking in a stew, but that will be for supper. We decide to save the strawberries and bakery bread for this evenings meal, to make it special we say. Instead we drink milk from Prims goat, Lady, and eat the rough bread made from the tessera grain, although no one has much appetite anyway. At one oclock, we head for the square. Attendance is mandatory unless you are on deaths door. This evening, officials will come around and check to see if this is the case. If not, youll be imprisoned. Its too bad, really, that they hold the reaping in the square one of the few places in District 12 that can be pleasant. The squares surrounded by shops, and on public market days, especially if theres good weather, it has a holiday feel to it. But today, despite the bright banners hanging on the buildings, theres an air of grimness. The camera crews, perched like buzzards on rooftops, only add to the effect. People file in silently and sign in. The reaping is a good opportunity for the Capitol to keep tabs on the population as well. Twelve- through eighteen-year-olds are herded into roped areas marked off by ages, the\n",
        "\n",
        "oldest in the front, the young ones, like Prim, toward the back. Family members line up around the perimeter, holding tightly to one anothers hands. But there are others, too, who have no one they love at stake, or who no longer care, who slip among the crowd, taking bets on the two kids whose names will be drawn. Odds are\n",
        "\n",
        "given on their ages, whether theyre Seam or merchant, if they will break down and weep. Most refuse dealing with the racketeers but carefully, carefully. These same people tend to be informers, and who hasnt broken the law? I could be shot on a daily basis for hunting, but the appetites of those in charge protect me. Not everyone can claim the same. Anyway, Gale and I agree that if we have to choose between dying of hunger and a bullet in the head, the bullet would be much quicker. The space gets tighter, more claustrophobic as people arrive. The squares quite large, but not enough to hold District 12s population of about eight thousand. Latecomers are directed to the adjacent streets, where they can watch the event on screens as its televised live by the state. I find myself standing in a clump of sixteens from the Seam. We all exchange terse nods then focus our attention on the temporary stage that is set up before the Justice Building. It holds three chairs, a podium, and two large glass balls, one for the boys and one for the girls. I stare at the paper slips in the girls ball. Twenty of them have Katniss Everdeen written on them in careful handwriting. Two of the three chairs fill with Madges father, Mayor Undersee, whos a tall, balding man, and Effie Trinket, District 12s escort, fresh from the Capitol with her scary white grin, pinkish hair, and spring green suit. They murmur to each other and then look with concern at the empty seat. Just as the town clock strikes two, the mayor steps up to the podium and begins to read. Its the same story every year. He tells of the history of Panem, the country that rose up out of the ashes of a place that was once called North America. He lists the disasters, the droughts, the storms, the fires, the encroaching seas that swallowed up so much of the land, the brutal war for what little sustenance remained. The result was Panem, a shining Capitol ringed by thirteen districts, which brought peace and prosperity to its citizens. Then came the Dark Days, the uprising of the districts against the Capitol. Twelve were defeated, the thirteenth obliterated. The Treaty of Treason gave us the new laws to guarantee peace and, as our yearly reminder that the Dark Days must never be repeated, it gave us the Hunger Games. The rules of the Hunger Games are simple. In punishment for the uprising, each of the twelve districts must provide one girl and one boy, called tributes, to participate. The twenty-four tributes will be imprisoned in a vast outdoor arena that could hold anything from a burning desert to a frozen wasteland. Over a period of several weeks, the competitors must fight to the death.\n",
        "\n",
        "The last tribute standing wins. Taking the kids from our districts, forcing them to kill one another while we watch this is the Capitols way of reminding us how totally we are at their mercy. How little chance we would stand of surviving another rebellion. Whatever words they use, the real message is clear. Look how we take your children and sacrifice them and theres nothing you can do. If you lift a finger, we will destroy every last one of you. Just as we did in District Thirteen. To make it humiliating as well as torturous, the Capitol requires us to treat the Hunger Games as a festivity, a sporting event pitting every district against the others. The last tribute alive receives a life of ease back home, and their district will be showered with prizes, largely consisting of food. All year, the Capitol will show the winning district gifts of grain and oil and even delicacies like sugar while the rest of us battle starvation. It is both a time for repentance and a time for thanks, intones the mayor. Then he reads the list of past District 12 victors. In seventy-four years, we have had exactly two. Only one is still alive. Haymitch Abernathy, a paunchy, middle-aged man, who at this moment appears hollering something unintelligible, staggers onto the stage, and falls into the third chair. Hes drunk. Very. The crowd responds with its token applause, but hes confused and tries to give Effie Trinket a big hug, which she barely manages to fend off. The mayor looks distressed. Since all of this is being televised, right now District 12 is the laughingstock of Panem, and he knows it. He quickly tries to pull the attention back to the reaping by introducing Effie Trinket. Bright and bubbly as ever, Effie Trinket trots to the podium and gives her signature, Happy Hunger Games! And may the odds be ever in your favor! Her pink hair must be a wig because her curls have shifted slightly off-center since her encounter with Haymitch. She goes on a bit about what an honor it is to be here, although everyone knows shes just aching to get bumped up to a better district where they have proper victors, not drunks who molest you in front of the entire nation. Through the crowd, I spot Gale looking back at me with a ghost of a smile. As reapings go, this one at least has a slight entertainment factor. But suddenly I am thinking of Gale and his forty-two names in that big glass ball and how the odds are not in his favor. Not compared to a lot of the boys. And maybe hes thinking the same thing about me because his face darkens and he turns away. But there are still thousands of slips, I wish I could whisper to him. Its time for the drawing. Effie Trinket says as she always does, Ladies first! and crosses to\n",
        "\n",
        "the glass ball with the girls names. She reaches in, digs her hand deep into the ball, and pulls out a slip of paper. The crowd draws in a collective breath and then you can hear a pin drop, and Im feeling nauseous and so desperately hoping that its not me, that its\n",
        "\n",
        "not me, that its not me. Effie Trinket crosses back to the podium, smoothes the slip of paper, and reads out the name in a clear voice. And its not me. Its Primrose Everdeen. \"\"\"\n",
        "\n",
        "text = ''.join([c for c in text.lower() if 'a' <= c <='z' or c == ' '])\n",
        "\n",
        "print(text)"
      ],
      "execution_count": 43,
      "outputs": [
        {
          "output_type": "stream",
          "name": "stdout",
          "text": [
            " when i wake up the other side of the bed is cold my fingers stretch out seeking prims warmth but finding only the rough canvas cover of the mattress she must have had bad dreams and climbed in with our mother of course she did this is the day of the reaping i prop myself up on one elbow theres enough light in the bedroom to see them my little sister prim curled up on her side cocooned in my mothers body their cheeks pressed together in sleep my mother looks younger still worn but not so beatendown prims face is as fresh as a raindrop as lovely as the primrose for which she was named my mother was very beautiful once too or sothey tell me sitting at prims knees guarding her is the worlds ugliest cat mashedin nose half of one ear missing eyes the color of rotting squash prim named him buttercup insisting that his muddy yellow coat matched the bright flower i he hates me or at least distrusts me even though it was years ago i think he still remembers how i tried to drown him in a bucket when prim brought him home scrawny kitten belly swollen with worms crawling with fleas the last thing i needed was another mouth to feed but prim begged so hard cried even i had to let him stay it turned out okay my mother got rid of the vermin and hes a born mouser even catches the occasional rat sometimes when i clean a kill i feed buttercup the entrails he has stopped hissing at me entrails no hissing this is the closest we will ever come to love i swing my legs off the bed and slide into my hunting boots supple leather that has molded to my feet i pull on trousers a shirt tuck my long dark braid up into a cap and grab my forage bag on the table under a wooden bowl to protect it from hungry rats and cats alike sits a perfect little goat cheese wrapped in basil leaves prims gift to me on reaping day i put the cheese carefully in my pocket as i slip outside our part of district  nicknamed the seam is usually crawling with coal miners heading out to the morning shift at this hour men and women with hunched shoulders swollen knuckles many who have long since stopped trying to scrub the coal dust out of their broken nails the lines of their sunken faces but today the black cinder streets are empty shutters on the squat gray houses are closed the reaping isnt until two may as well sleep in if you can our house is almost at the edge of the seam i only have to pass a few gates to reach the scruffy field called the meadow separating the meadow from the woods in fact enclosing all of district  is a high chainlink fence topped with barbedwire loops in theory its supposed to be electrified twentyfour hours a day as a deterrent to the predators that live in the woods packs of wild dogs lone cougars bears that used to threaten our streets but since were lucky to get two or three hours of electricity in the evenings itsusually safe to touch even so i always take a moment to listen carefully for the hum that means the fence is live right now its silent as a stone concealed by a clump of bushes i flatten out on my belly and slide under a twofoot stretch thatsbeen loose for years there are several other weak spots in the fence but this one is so close to home i almost always enter the woods here as soon as im in the trees i retrieve a bow and sheath of arrows from a hollow log electrified or not the fence has been successful at keeping the flesheaters out of district  inside the woods they roam freely and there are added concerns like venomous snakes rabid animals and no real paths to follow but theres also food if you know how to find it my father knew and he taught me some before he was blown to bits in a mine explosion there was nothing even to bury i was eleven then five years later i still wake up screaming for him to run even though trespassing in the woods is illegal and poaching carries the severest of penalties more people would risk it if they had weapons but most are not bold enough to venture out with just a knife my bow is a rarity crafted by my father along with a few others that i keep well hidden in the woods carefully wrapped in waterproof covers my father could have made good money selling them but if the officials found out he would have been publicly executed for inciting a rebellion most of the peacekeepers turn a blind eye to the few of us who hunt because theyre as hungry for fresh meat as anybody is in fact theyre among our best customers but the idea that someone might be arming the seam would never have been allowed in the fall a few brave souls sneak into the woods to harvest apples but always in sight of the meadow always close enough to run back to the safety of district  if trouble arises district twelve where you can starve to death in safety i mutter then i glance quickly over my shoulder even here even in the middle of nowhere you worry someone might overhear you when i was younger i scared my mother to death the things i would blurt out about district  about the people who rule our country panem from the faroff city called the capitol eventually i understood this would only lead us to more trouble so i learned to hold my tongue and to turn my features into an indifferent mask so that no one could ever read my thoughts do my work quietly in school make only polite small talk in the public market discuss little more than trades in the hob which is the black market where i make most of my money even at home where i am less pleasant i avoid discussing tricky topics like the reaping or food shortages or the hunger games prim might begin to repeat my words and then where would we be in the woods waits the only person with whom i can be myself gale i can feel themuscles in my face relaxing my pace quickening as i climb the hills to our place a rock ledgeoverlooking a valley a thicket of berry bushes protects it from unwanted eyes the sight of him waiting there brings on a smile gale says i never smile except in the woods hey catnip says gale my real name is katniss but when i first told him i had barely whispered it so he thought id said catnip then when this crazy lynx started following me around the woods looking for handouts it became his official nickname for me i finally had to kill the lynx because he scared off game i almost regretted it because he wasnt bad company but i got a decent price for his pelt look what i shot gale holds up a loaf of bread with an arrow stuck in it and i laugh its real bakery bread not the flat dense loaves we make from our grain rations i take it in my hands pull out the arrow and hold the puncture in the crust to my nose inhaling the fragrance that makes my mouth flood with saliva fine bread like this is for special occasions mm still warm i say he must have been at the bakery at the crack of dawn to trade for it what did it cost you just a squirrel think the old man was feeling sentimental this morning says gale even wished me luck well we all feel a little closer today dont we i say not even bothering to roll my eyes prim left us a cheese i pull it out his expression brightens at the treat thank you prim well have a real feast suddenly he falls into a capitol accent as he mimics effie trinket the maniacally upbeat woman who arrives once a year to read out the names at the leaping i almost forgot happy hunger games he plucks a few blackberries from the bushes around us and may the odds he tosses a berry in a high arc toward me i catch it in my mouth and break the delicate skin with my teeth the sweet tartness explodes across my tongue be ever in your favor i finish with equal verve we have to joke about it because the alternative is to be scared out of your wits besides the capitol accent is so affected almost anything sounds funny in it i watch as gale pulls out his knife and slices the bread he could be my brother straight black hair olive skin we even have the same gray eyes but were not related at least not closely most of the families who work the mines resemble one another this way thats why my mother and prim with their light hair and blue eyes always look out of place they are my mothers parents were part of the small merchant class thatcaters to officials peacekeepers and the occasional seam customer they ran an apothecary shop in the nicer part of district  since almost no one can afford doctors apothecaries are our healers my father got to know my mother because on his hunts he would sometimes collect medicinal herbs and sell them to her shop to be brewed into remedies she must have really loved him to leave her home for the seam i try to remember that when all i can see is the woman who sat by blank and unreachable while her children turned to skin and bones itry to forgive her for my fathers sake but to be honest im not the forgiving type gale spreads the bread slices with the soft goat cheese carefully placing a basil leaf on each while i strip the bushes of their berries we settle back in a nook in the rocks from this place we are invisible but have a clear view of the valley which is teeming with summer life greens to gather roots to dig fish iridescent in the sunlight the day is glorious with a blue sky and soft breeze the foods wonderful with the cheese seeping into the warm bread and the berries bursting in our mouths everything would be perfect if this really was a holiday if all the day off meant was roaming the mountains with gale hunting for tonights supper but instead we have to be standing in the square at two oclock waiting for the names to be called out we could do it you know gale says quietly what i ask leave the district run off live in the woods you and i we could make it says gale i dont know how to respond the idea is so preposterous if we didnt have so many kids he adds quickly theyre not our kids of course but they might as well be gales two little brothers and a sister prim and you may as well throw in our mothers too because how would they live without us who would fill those mouths that are always asking for more with both of us hunting daily there are still nights when game has to be swapped for lard or shoelaces or wool still nights when we go to bed with our stomachs growling i never want to have kids i say i might if i didnt live here says gale but you do i say irritated forget it he snaps back the conversation feels all wrong leave how could i leave prim who is the only person in the world im certain i love and gale is devoted to his family we cant leave so why bother talking about it and even if we did    even if we did    where did this stuff about having kids come from theres never been anything romantic between gale and me when we met i was a skinnytwelveyearold and although he was only two years older he already looked like a man it took a long time for us to even become friends to stop haggling over every trade and begin helping each other out besides if he wants kids gale wont have any trouble finding a wife hes goodlooking hes strong enough to handle the work in the mines and he can hunt you can tell by the way the girls whisper about him when he walks by in school that they want him it makes me jealous but not for the reason people would think good hunting partners are hard to find what do you want to do i ask we can hunt fish or gather lets fish at the lake we can leave our poles and gather in the woods get something nice for tonight he says tonight after the reaping everyone is supposed to celebrate and a lot of people do out of relief that their children have been spared for another year but at least two families will pull their shutters lock their doorsand try to figure out how they will survive the painful weeks to come we make out well the predators ignore us on a day when easier tastier prey abounds by late morning we have a dozen fish a bag of greens and best of all a gallon of strawberries i found the patch a few years ago but gale had the idea to string mesh nets around it to keep out the animals on the way home we swing by the hob the black market that operates in an abandoned warehouse that once held coal when they came up with a more efficient system that transported the coal directly from the mines to the trains the hob gradually took over the space most businesses are closed by this time on reaping day but the black markets still fairly busy we easily trade six of the fish for good bread the other two for salt greasy sae the bony old woman who sells bowls of hot soup from a large kettle takes half the greens off our hands in exchange for a couple of chunks of paraffin we might do a tad better elsewhere but we make an effort to keep on good terms with greasy sae shes the only one who can consistently be counted on to buy wild dog we dont hunt them on purpose but if youre attacked and you take out a dog or two well meat is meat once its in the soup ill call it beef greasy sae says with a wink no one in the seam would turn up their nose at a good leg of wild dog but the peacekeepers who come to the hob can afford to be a little choosier when we finish our business at the market we go to the back door of the mayors house to sell half the strawberries knowing he hasa particular fondness for them and can afford our price the mayors daughter madge opens the door shes in my year at school being the mayors daughter youd expect her to be a snob but shes all right she just keeps to herself like me since neither of us really has a group of friends we seem to end up together a lot at school eating lunch sitting next to each other at assemblies partnering for sports activities we rarely talk which suits us both just fine today her drab school outfit has been replaced by an expensive white dress and her blonde hair is done up with a pink ribbon reaping clothes pretty dress says gale madge shoots him a look trying to see if its a genuine compliment or if hes just being ironic it is a pretty dress but she would never be wearing it ordinarily she presses her lips together and then smiles well if i end up going to the capitol i want to look nice dont i now its gales turn to be confused does she mean it or is she messing with him im guessing the second you wont be going to the capitol says gale coolly his eyes land on a small circular pin that adorns her dress real gold beautifully crafted it could keep a family in bread for months what can you have five entries i had six when i was just twelve years old thats not her fault i say no its no ones fault just the way it is says gale madges face has become closed offshe puts the money for the berries in my hand good luck katniss you too i say and the door closes we walk toward the seam in silence i dont like that gale took a dig at madge but hes right of course the reaping system is unfair with the poor getting the worst of it you become eligible for the reaping the day you turn twelve that year your name is entered once at thirteen twice and so on and so on until you reach the age of eighteen the final year of eligibility when your name goes into the pool seven times thats true for every citizen in all twelve districts in the entire country of panem but heres the catch say you are poor and starving as we were you can opt to add your name more times in exchange for tesserae each tessera is worth a meager years supply of grain and oil for one person you may do this for each of your family members as well so at the age of twelve i had my name entered four times once because i had to and three times for tesserae for grain and oil for myself prim and my mother in fact every year i have needed to do this and the entries are cumulative so now at the age of sixteen my name will be in thereaping twenty times gale who is eighteen and has been either helping or singlehandedly feeding a family of five for seven years will have his name in fortytwo times you can see why someone like madge who has never been at risk of needing a tessera can set him off the chance of her name being drawn is very slim compared to those of us who live in the seam not impossible but slim and even though the rules were set up by the capitol not the districts certainly not madges family its hard not to resent those who dont have to sign up for tesserae gale knows his anger at madge is misdirected on other days deep in the woods ive listened to him rant about how the tesserae are just another tool to cause misery in our district a way to plant hatred between the starving workers of the seam and those who can generally count on supper and thereby ensure we will never trust one another its to the capitols advantage to have us divided among ourselves he might say if there were no ears to hear but mine if it wasnt reaping day if a girl with a gold pin and no tesserae had not made what im sure she thought was a harmless comment as we walk i glance over at gales face still smoldering underneath his stony expression his rages seem pointless to me although i never say so its not that i dont agree with him i do but what good is yelling about the capitol in the middle of the woods it doesnt change anything it doesnt make things fair it doesnt fill our stomachs in fact it scares off the nearby game i let him yell though better he does it in the woods than in the district gale and i divide our spoils leaving two fish a couple of loaves of good bread greens a quart of strawberries salt paraffin and a bit of money for each see you in the square i say wear somethingpretty he says flatly at home i find my mother and sister are ready to go my mother wears a fine dress from her apothecary days prim is in my first reaping outfit a skirt and ruffled blouse its a bit big on her but my mother has made it stay with pins even so shes having trouble keeping the blouse tucked in at the back a tub of warm water waits for me i scrub off the dirt and sweat from the woods and even wash my hair to my surprise my mother has laid out one of her own lovely dresses for me a soft blue thing with matching shoes are you sure i ask im trying to get past rejecting offers of help from her for a while i was so angry i wouldnt allow her to do anything for me and this is something special her clothes from herpast are very precious to her of course lets put your hair up too she says i let her toweldry it and braid it up on my head i can hardly recognize myself in the cracked mirror that leans against the wall you look beautiful says prim in a hushed voice and nothing like myself i say i hug her because i know these next few hours will be terrible for her her first reaping shes about as safe as you can get since shes only entered once i wouldnt let her take out any tesserae but shes worried about me that the unthinkable might happen i protect prim in every way i can but im powerless against the reaping the anguish i always feel when shes in pain wells up in my chest and threatens to register on my ace i notice her blouse has pulled out of her skirt in the back again and force myself to stay calm tuck your tail in little duck i say smoothing the blouse back in place prim giggles and gives me a small quack quack yourself i say with a light laugh the kind only prim can draw out of me come on lets eat i say and plant a quick kiss on the top of her head the fish and greens are already cooking in a stew but that will be for supper we decide to save the strawberries and bakery bread for this evenings meal to make it special we say instead we drink milk from prims goat lady and eat the rough bread made from the tessera grain although no one has much appetite anyway at one oclock we head for the square attendance is mandatory unless you are on deaths door this evening officials will come around and check to see if this is the case if not youll be imprisoned its too bad really that they hold the reaping in the square one of the few places in district  that can be pleasant the squares surrounded by shops and on public market days especially if theres good weather it has a holiday feel to it but today despite the bright banners hanging on the buildings theres an air of grimness the camera crews perched like buzzards on rooftops only add to the effect people file in silently and sign in the reaping is a good opportunity for the capitol to keep tabs on the population as well twelve through eighteenyearolds are herded into roped areas marked off by ages theoldest in the front the young ones like prim toward the back family members line up around the perimeter holding tightly to one anothers hands but there are others too who have no one they love at stake or who no longer care who slip among the crowd taking bets on the two kids whose names will be drawn odds aregiven on their ages whether theyre seam or merchant if they will break down and weep most refuse dealing with the racketeers but carefully carefully these same people tend to be informers and who hasnt broken the law i could be shot on a daily basis for hunting but the appetites of those in charge protect me not everyone can claim the same anyway gale and i agree that if we have to choose between dying of hunger and a bullet in the head the bullet would be much quicker the space gets tighter more claustrophobic as people arrive the squares quite large but not enough to hold district s population of about eight thousand latecomers are directed to the adjacent streets where they can watch the event on screens as its televised live by the state i find myself standing in a clump of sixteens from the seam we all exchange terse nods then focus our attention on the temporary stage that is set up before the justice building it holds three chairs a podium and two large glass balls one for the boys and one for the girls i stare at the paper slips in the girls ball twenty of them have katniss everdeen written on them in careful handwriting two of the three chairs fill with madges father mayor undersee whos a tall balding man and effie trinket district s escort fresh from the capitol with her scary white grin pinkish hair and spring green suit they murmur to each other and then look with concern at the empty seat just as the town clock strikes two the mayor steps up to the podium and begins to read its the same story every year he tells of the history of panem the country that rose up out of the ashes of a place that was once called north america he lists the disasters the droughts the storms the fires the encroaching seas that swallowed up so much of the land the brutal war for what little sustenance remained the result was panem a shining capitol ringed by thirteen districts which brought peace and prosperity to its citizens then came the dark days the uprising of the districts against the capitol twelve were defeated the thirteenth obliterated the treaty of treason gave us the new laws to guarantee peace and as our yearly reminder that the dark days must never be repeated it gave us the hunger games the rules of the hunger games are simple in punishment for the uprising each of the twelve districts must provide one girl and one boy called tributes to participate the twentyfour tributes will be imprisoned in a vast outdoor arena that could hold anything from a burning desert to a frozen wasteland over a period of several weeks the competitors must fight to the deaththe last tribute standing wins taking the kids from our districts forcing them to kill one another while we watch this is the capitols way of reminding us how totally we are at their mercy how little chance we would stand of surviving another rebellion whatever words they use the real message is clear look how we take your children and sacrifice them and theres nothing you can do if you lift a finger we will destroy every last one of you just as we did in district thirteen to make it humiliating as well as torturous the capitol requires us to treat the hunger games as a festivity a sporting event pitting every district against the others the last tribute alive receives a life of ease back home and their district will be showered with prizes largely consisting of food all year the capitol will show the winning district gifts of grain and oil and even delicacies like sugar while the rest of us battle starvation it is both a time for repentance and a time for thanks intones the mayor then he reads the list of past district  victors in seventyfour years we have had exactly two only one is still alive haymitch abernathy a paunchy middleaged man who at this moment appears hollering something unintelligible staggers onto the stage and falls into the third chair hes drunk very the crowd responds with its token applause but hes confused and tries to give effie trinket a big hug which she barely manages to fend off the mayor looks distressed since all of this is being televised right now district  is the laughingstock of panem and he knows it he quickly tries to pull the attention back to the reaping by introducing effie trinket bright and bubbly as ever effie trinket trots to the podium and gives her signature happy hunger games and may the odds be ever in your favor her pink hair must be a wig because her curls have shifted slightly offcenter since her encounter with haymitch she goes on a bit about what an honor it is to be here although everyone knows shes just aching to get bumped up to a better district where they have proper victors not drunks who molest you in front of the entire nation through the crowd i spot gale looking back at me with a ghost of a smile as reapings go this one at least has a slight entertainment factor but suddenly i am thinking of gale and his fortytwo names in that big glass ball and how the odds are not in his favor not compared to a lot of the boys and maybe hes thinking the same thing about me because his face darkens and he turns away but there are still thousands of slips i wish i could whisper to him its time for the drawing effie trinket says as she always does ladies first and crosses tothe glass ball with the girls names she reaches in digs her hand deep into the ball and pulls out a slip of paper the crowd draws in a collective breath and then you can hear a pin drop and im feeling nauseous and so desperately hoping that its not me that itsnot me that its not me effie trinket crosses back to the podium smoothes the slip of paper and reads out the name in a clear voice and its not me its primrose everdeen \n"
          ]
        }
      ]
    },
    {
      "cell_type": "code",
      "metadata": {
        "colab": {
          "base_uri": "https://localhost:8080/"
        },
        "id": "-wBBRX4mX7yB",
        "outputId": "c78c5f0e-52fa-4366-a257-136c34504ca7"
      },
      "source": [
        "from google.colab import drive\n",
        "drive._mount('/content/drive')"
      ],
      "execution_count": null,
      "outputs": [
        {
          "output_type": "stream",
          "name": "stdout",
          "text": [
            "Mounted at /content/drive\n"
          ]
        }
      ]
    },
    {
      "cell_type": "code",
      "metadata": {
        "id": "JNMTyh9RMHcl"
      },
      "source": [
        "from nltk import tokenize\n",
        "from gensim.test.utils import datapath, get_tmpfile\n",
        "from gensim.models import KeyedVectors\n",
        "from gensim.scripts.glove2word2vec import glove2word2vec\n",
        "\n",
        "class Graph():\n",
        "\n",
        "  def createHelperStructs(self):\n",
        "    tokens = tokenize.word_tokenize(self.text)\n",
        "\n",
        "    self.vocab = list(set(tokens))\n",
        "\n",
        "    self.word2id = dict((j,i) for i,j in enumerate(self.vocab))\n",
        "    self.id2word = dict((i,j) for i,j in enumerate(self.vocab))\n",
        "\n",
        "    self.vocab_len = len(self.vocab)+2\n",
        "\n",
        "    self.word2id[\"SOS\"] = self.vocab_len-1\n",
        "    self.word2id[\"EOS\"] = self.vocab_len-2\n",
        "    self.id2word[self.vocab_len-1] = \"SOS\"\n",
        "    self.id2word[self.vocab_len-2] = \"EOS\"\n",
        "\n",
        "  def findAdjacencyMatrix(self):\n",
        "\n",
        "    sentences = tokenize.sent_tokenize(self.text)\n",
        "\n",
        "    self.adjacency_matrix = []\n",
        "\n",
        "    for _ in range(self.vocab_len):\n",
        "      temp_list = []\n",
        "      for _ in range(self.vocab_len):\n",
        "        temp_list.append(0)\n",
        "      self.adjacency_matrix.append(temp_list)\n",
        "\n",
        "    for sentence in sentences:\n",
        "      tokens = sentence.split()\n",
        "\n",
        "      self.adjacency_matrix[self.word2id[\"SOS\"]][self.word2id[tokens[0]]] = 1\n",
        "      self.adjacency_matrix[self.word2id[tokens[0]]][self.word2id[\"SOS\"]] = 1\n",
        "\n",
        "      for i in range(len(tokens)-1):\n",
        "        self.adjacency_matrix[self.word2id[tokens[i]]][self.word2id[tokens[i+1]]] = 1\n",
        "        self.adjacency_matrix[self.word2id[tokens[i+1]]][self.word2id[tokens[i]]] = 1\n",
        "\n",
        "      self.adjacency_matrix[self.word2id[tokens[len(tokens)-1]]][self.word2id[\"EOS\"]] = 1\n",
        "      self.adjacency_matrix[self.word2id[\"EOS\"]][self.word2id[tokens[len(tokens)-1]]] = 1\n",
        "\n",
        "    self.adjacency_matrix = torch.FloatTensor(self.adjacency_matrix)\n",
        "    print(self.adjacency_matrix)\n",
        "  \n",
        "  def findFeatureMatrix(self):\n",
        "\n",
        "    glove_file = datapath('/content/drive/MyDrive/glove.6B.50d.txt')\n",
        "    word2vec_glove_file = get_tmpfile(\"glove.6B.50d.txt\")\n",
        "    glove2word2vec(glove_file, word2vec_glove_file)\n",
        "\n",
        "    model = KeyedVectors.load_word2vec_format(word2vec_glove_file)\n",
        "\n",
        "    self.feature_matrix = []\n",
        "    self.y = []\n",
        "\n",
        "    self.glove_indices = random.sample(range(0, self.vocab_len-2), int(0.25*(self.vocab_len-2)))\n",
        "    temp_glove = set(self.glove_indices)\n",
        "\n",
        "    for _ in range(self.vocab_len):\n",
        "      temp_list = []\n",
        "      for _ in range(50):\n",
        "        temp_list.append(0)\n",
        "      self.feature_matrix.append(temp_list)\n",
        "    \n",
        "    for _ in range(self.vocab_len):\n",
        "      temp_list = []\n",
        "      for _ in range(50):\n",
        "        temp_list.append(random.uniform(-1, 1))\n",
        "      self.y.append(temp_list)\n",
        "\n",
        "    for word in self.vocab:\n",
        "      if word in model:\n",
        "        if self.word2id[word] in temp_glove:\n",
        "          self.feature_matrix[self.word2id[word]] = model[word]\n",
        "        self.y[self.word2id[word]] = model[word]\n",
        "\n",
        "    self.feature_matrix = torch.FloatTensor(self.feature_matrix)\n",
        "    self.y = torch.FloatTensor(self.y)\n",
        "    \n",
        "    exclude = []\n",
        "    for i in range(self.vocab_len-2):\n",
        "      if i not in temp_glove:\n",
        "        exclude.append(i)\n",
        "    self.test = random.sample(exclude, int(0.5*(self.vocab_len-2)))\n",
        "\n",
        "    temp_test = set(self.test)\n",
        "\n",
        "    for i in range(self.vocab_len-2):\n",
        "      if i not in temp_test and i not in temp_glove:\n",
        "        self.train.append(i)\n",
        "\n",
        "  def printAdj(self):\n",
        "    for i in range(self.vocab_len):\n",
        "      for j in range(self.vocab_len):\n",
        "        print(self.id2word[i], self.id2word[j], self.adjacency_matrix[i][j])\n",
        "  \n",
        "  def testFeatureofNode(self, x):\n",
        "    print(x, self.feature_matrix[self.word2id[x]])\n",
        "\n",
        "  def getIndices(self):\n",
        "        self.train = torch.LongTensor(self.train)\n",
        "        self.test = torch.LongTensor(self.test)\n",
        "        return self.train, self.test\n",
        "\n",
        "  def getMatrix(self):\n",
        "        return self.adjacency_matrix\n",
        "  \n",
        "  def getXY(self):\n",
        "        return self.feature_matrix, self.y\n",
        "\n",
        "  def __init__(self, text):\n",
        "    text = text.lower()\n",
        "    self.text = text\n",
        "\n",
        "    self.glove_indices = []\n",
        "    self.train = []\n",
        "    self.test = []\n",
        "\n",
        "\n",
        "    self.createHelperStructs()\n",
        "    self.findAdjacencyMatrix()\n",
        "\n",
        "    \n"
      ],
      "execution_count": 44,
      "outputs": []
    },
    {
      "cell_type": "code",
      "metadata": {
        "id": "49KCP6LeMJYT"
      },
      "source": [
        "class MyGATLayer(nn.Module):\n",
        "    def __init__(self, in_channels, out_channels):\n",
        "        \"\"\"\n",
        "        in_channels: #features in the input\n",
        "        out_channels: #features in the output\n",
        "        these layers have their *own* independent weights and biases\n",
        "        \"\"\"\n",
        "        super().__init__()\n",
        "        self.out_channels = out_channels\n",
        "        \n",
        "        # W = FxH\n",
        "        self.W = nn.Parameter(torch.empty(in_channels, out_channels))\n",
        "        nn.init.xavier_uniform_(self.W, gain=1.414)\n",
        "\n",
        "        # a = 2Hx1 (So its essentially concating features of 2 nodes)\n",
        "        # Note: torch.empty does random assignments of value\n",
        "        self.a = nn.Parameter(torch.empty(size=(2*out_channels, 1)))\n",
        "        nn.init.xavier_uniform_(self.a, gain=1.414)\n",
        "\n",
        "        self.leaky = nn.LeakyReLU()\n",
        "        self.attention = None\n",
        "\n",
        "    def forward(self, X, A):\n",
        "        \"\"\"\n",
        "        does the neat math on *symmetrically normalized* A\n",
        "        \"\"\"\n",
        "\n",
        "        # Normal feature calculation, Wh = NxH\n",
        "        wh = torch.mm(X, self.W)\n",
        "\n",
        "        # wh = NxH, a = 2Hx1, halfA = Hx1\n",
        "        # both half = NxH * Hx1 = Nx1\n",
        "        first_half = wh@self.a[self.out_channels:, :]\n",
        "        second_half = wh@self.a[:self.out_channels, :]\n",
        "\n",
        "        # Attention matrix formed by combining both halfs\n",
        "        after = second_half + first_half.T\n",
        "        after = self.leaky(after)\n",
        "\n",
        "        # Combining adj matrix and attention matrix\n",
        "        # Attention should only be a number if connection between nodes exist\n",
        "        zmat = -1e17*torch.ones_like(after)\n",
        "        attention = torch.where(A>0, after, zmat)\n",
        "        attention = F.softmax(attention, dim=1)\n",
        "\n",
        "        # Multiplication of features with attention\n",
        "        hprime = torch.matmul(attention, wh)\n",
        "\n",
        "        # storing for visualisation reasons\n",
        "        self.attention = attention\n",
        "\n",
        "        return F.elu(hprime)"
      ],
      "execution_count": 45,
      "outputs": []
    },
    {
      "cell_type": "code",
      "metadata": {
        "id": "vj_AM_h-MfGy"
      },
      "source": [
        "class MyGAT(nn.Module):\n",
        "    def __init__(\n",
        "            self, \n",
        "            in_channels, \n",
        "            hidden_channels, \n",
        "            num_layers, \n",
        "            out_channels, \n",
        "            dropout_rate,\n",
        "            attention_channels,\n",
        "        ):\n",
        "        super().__init__()\n",
        "        self.in_channels = in_channels\n",
        "        self.hidden_channels = hidden_channels\n",
        "        self.num_layers = num_layers\n",
        "        self.out_channels = out_channels\n",
        "        self.dropout_rate = dropout_rate\n",
        "        \n",
        "        self.MyGATLayers = []\n",
        "        self.MyGATLayers.append(\n",
        "            MyGATLayer(self.in_channels, self.hidden_channels)\n",
        "        )\n",
        "        self.outputLayers = MyGATLayer(self.hidden_channels, self.out_channels)\n",
        "\n",
        "        for _ in range(1, self.num_layers):\n",
        "            self.MyGATLayers.append(\n",
        "                MyGATLayer(self.hidden_channels, self.hidden_channels)\n",
        "            )\n",
        "\n",
        "    def sdMul(self, X, Y):\n",
        "        i = X._indices()\n",
        "        v = X._values()\n",
        "        dv = Y[i[0,:], i[1,:]]\n",
        "        return torch.sparse.FloatTensor(i, v*dv, X.size())\n",
        "\n",
        "    def get_attention_matrices(self, yeet=False):\n",
        "        attention_matrices = [\n",
        "            layer.attention.detach().numpy() for layer in self.MyGATLayers\n",
        "        ]\n",
        "        if yeet: return attention_matrices\n",
        "        \n",
        "        I = np.eye(attention_matrices[0].shape[0], attention_matrices[0].shape[1])\n",
        "\n",
        "        return [\n",
        "            np.subtract(matrix, I) for matrix in attention_matrices\n",
        "        ]\n",
        "    \n",
        "    def forward(self, X, A):\n",
        "        \"\"\"\n",
        "        math done on *symmetrically normalized* A\n",
        "        \"\"\"\n",
        "        for layer in self.MyGATLayers:\n",
        "            X = layer.forward(X, A)\n",
        "        X = F.relu(X)\n",
        "        X = F.dropout(X, p=self.dropout_rate, training=self.training)\n",
        "        X = self.outputLayers.forward(X, A)\n",
        "        return F.log_softmax(X)"
      ],
      "execution_count": 46,
      "outputs": []
    },
    {
      "cell_type": "code",
      "metadata": {
        "colab": {
          "base_uri": "https://localhost:8080/"
        },
        "id": "WzQyZ0ubNiVa",
        "outputId": "f923e8cd-7e86-40c6-99d4-f89d877d22a8"
      },
      "source": [
        "# dataset = Data(CONFIG['PATH'])\n",
        "# dataset.handle()\n",
        "\n",
        "dataset = Graph(text)\n",
        "dataset.findFeatureMatrix()\n",
        "\n",
        "X, y = dataset.getXY()\n",
        "train, test = dataset.getIndices()\n",
        "A = dataset.getMatrix()\n",
        "ic(X.shape, y.shape)\n",
        "ic(train.shape, test.shape)"
      ],
      "execution_count": 47,
      "outputs": [
        {
          "output_type": "stream",
          "name": "stdout",
          "text": [
            "tensor([[0., 0., 0.,  ..., 0., 0., 0.],\n",
            "        [0., 0., 0.,  ..., 0., 0., 0.],\n",
            "        [0., 0., 0.,  ..., 0., 0., 0.],\n",
            "        ...,\n",
            "        [0., 0., 0.,  ..., 0., 0., 0.],\n",
            "        [0., 0., 0.,  ..., 0., 0., 0.],\n",
            "        [0., 0., 0.,  ..., 0., 0., 0.]])\n"
          ]
        },
        {
          "output_type": "stream",
          "name": "stderr",
          "text": [
            "ic| X.shape: torch.Size([1469, 50]), y.shape: torch.Size([1469, 50])\n",
            "ic| train.shape: torch.Size([368]), test.shape: torch.Size([733])\n"
          ]
        },
        {
          "output_type": "execute_result",
          "data": {
            "text/plain": [
              "(torch.Size([368]), torch.Size([733]))"
            ]
          },
          "metadata": {},
          "execution_count": 47
        }
      ]
    },
    {
      "cell_type": "code",
      "metadata": {
        "id": "nWuktd-wNjnF"
      },
      "source": [
        "model = MyGAT(\n",
        "    in_channels=X.shape[1],\n",
        "    hidden_channels=CONFIG['HIDDEN_CHANNELS'],\n",
        "    num_layers=CONFIG['NUM_LAYERS'],\n",
        "    out_channels=50,\n",
        "    dropout_rate=CONFIG['DROPOUT_RATE'],\n",
        "    attention_channels=A.shape[1]\n",
        ")\n",
        "\n",
        "loss = nn.MSELoss()\n",
        "optimizer = optim.Adam(model.parameters())"
      ],
      "execution_count": 85,
      "outputs": []
    },
    {
      "cell_type": "code",
      "metadata": {
        "id": "EzvsoTH1YYxp"
      },
      "source": [
        "def my_loss(output, target):\n",
        "    loss = torch.mean((output - target)**2)\n",
        "    return loss"
      ],
      "execution_count": 50,
      "outputs": []
    },
    {
      "cell_type": "code",
      "metadata": {
        "id": "KY-Bd9VlNlvX",
        "colab": {
          "base_uri": "https://localhost:8080/",
          "height": 86,
          "referenced_widgets": [
            "3659b5b9f43143cca691629908f60269",
            "76e19451adf34ca09102eafe88cabb29",
            "1445f14530fc438889c4e252750e51f2",
            "149c477f918a4e1da33d7d579d9190a0",
            "ebd4c6f832ea448789933e3a8a2e06b8",
            "15271af65dc64ce28d1906113d613885",
            "538aa6e2cc574b6ea656aa422caf4c4e",
            "e34c7a5bd52b453cba9f84f5a7e4e3b9",
            "c18adc8511f840e181d85f1f60ceb572",
            "7c762a5c6445472da8d45b27ad127340",
            "df672275be6349b79502551b15d7b1cc"
          ]
        },
        "outputId": "ee019c12-2f1e-4115-f5ba-36b192e7ba9b"
      },
      "source": [
        "losses = []\n",
        "for _ in tqdm(range(CONFIG['EPOCHS'])):\n",
        "    optimizer.zero_grad()\n",
        "    output = model.forward(X, A)\n",
        "    train_x = torch.index_select(output, 0, train)\n",
        "    train_y = torch.index_select(y, 0, train)\n",
        "    l = my_loss(output, y)\n",
        "    l.backward()\n",
        "    losses.append(l.item())\n",
        "    optimizer.step()"
      ],
      "execution_count": 86,
      "outputs": [
        {
          "output_type": "display_data",
          "data": {
            "application/vnd.jupyter.widget-view+json": {
              "model_id": "3659b5b9f43143cca691629908f60269",
              "version_minor": 0,
              "version_major": 2
            },
            "text/plain": [
              "  0%|          | 0/500 [00:00<?, ?it/s]"
            ]
          },
          "metadata": {}
        },
        {
          "output_type": "stream",
          "name": "stderr",
          "text": [
            "/usr/local/lib/python3.7/dist-packages/ipykernel_launcher.py:56: UserWarning: Implicit dimension choice for log_softmax has been deprecated. Change the call to include dim=X as an argument.\n"
          ]
        }
      ]
    },
    {
      "cell_type": "code",
      "metadata": {
        "id": "bGT-dfa7N21o",
        "colab": {
          "base_uri": "https://localhost:8080/"
        },
        "outputId": "d36e7e09-fc89-4939-b145-8096f78cd6ed"
      },
      "source": [
        "losses # benchmark"
      ],
      "execution_count": 87,
      "outputs": [
        {
          "output_type": "execute_result",
          "data": {
            "text/plain": [
              "[16.051902770996094,\n",
              " 16.032337188720703,\n",
              " 16.01961326599121,\n",
              " 16.012191772460938,\n",
              " 16.00840187072754,\n",
              " 16.007009506225586,\n",
              " 16.00695037841797,\n",
              " 16.007341384887695,\n",
              " 16.007638931274414,\n",
              " 16.007678985595703,\n",
              " 16.007448196411133,\n",
              " 16.006933212280273,\n",
              " 16.006147384643555,\n",
              " 16.005176544189453,\n",
              " 16.004152297973633,\n",
              " 16.003183364868164,\n",
              " 16.002355575561523,\n",
              " 16.00173568725586,\n",
              " 16.00133514404297,\n",
              " 16.001102447509766,\n",
              " 16.000951766967773,\n",
              " 16.00080680847168,\n",
              " 16.00063133239746,\n",
              " 16.00040054321289,\n",
              " 16.0001163482666,\n",
              " 15.999794006347656,\n",
              " 15.999468803405762,\n",
              " 15.99917984008789,\n",
              " 15.998941421508789,\n",
              " 15.998754501342773,\n",
              " 15.998611450195312,\n",
              " 15.998494148254395,\n",
              " 15.998381614685059,\n",
              " 15.998258590698242,\n",
              " 15.99812126159668,\n",
              " 15.997967720031738,\n",
              " 15.997804641723633,\n",
              " 15.997644424438477,\n",
              " 15.997498512268066,\n",
              " 15.997368812561035,\n",
              " 15.997260093688965,\n",
              " 15.997166633605957,\n",
              " 15.997081756591797,\n",
              " 15.996997833251953,\n",
              " 15.996906280517578,\n",
              " 15.996810913085938,\n",
              " 15.996715545654297,\n",
              " 15.996624946594238,\n",
              " 15.996541976928711,\n",
              " 15.996465682983398,\n",
              " 15.996392250061035,\n",
              " 15.996318817138672,\n",
              " 15.99624252319336,\n",
              " 15.996169090270996,\n",
              " 15.996095657348633,\n",
              " 15.996026039123535,\n",
              " 15.995963096618652,\n",
              " 15.995902061462402,\n",
              " 15.995841979980469,\n",
              " 15.995784759521484,\n",
              " 15.995726585388184,\n",
              " 15.995667457580566,\n",
              " 15.995611190795898,\n",
              " 15.99555492401123,\n",
              " 15.995498657226562,\n",
              " 15.99544620513916,\n",
              " 15.995392799377441,\n",
              " 15.995342254638672,\n",
              " 15.995294570922852,\n",
              " 15.995244979858398,\n",
              " 15.995199203491211,\n",
              " 15.995153427124023,\n",
              " 15.995105743408203,\n",
              " 15.995060920715332,\n",
              " 15.995015144348145,\n",
              " 15.994969367980957,\n",
              " 15.994925498962402,\n",
              " 15.994882583618164,\n",
              " 15.994839668273926,\n",
              " 15.994799613952637,\n",
              " 15.994760513305664,\n",
              " 15.994719505310059,\n",
              " 15.994680404663086,\n",
              " 15.994641304016113,\n",
              " 15.99460220336914,\n",
              " 15.994564056396484,\n",
              " 15.994523048400879,\n",
              " 15.994485855102539,\n",
              " 15.9944486618042,\n",
              " 15.994414329528809,\n",
              " 15.994377136230469,\n",
              " 15.994342803955078,\n",
              " 15.994309425354004,\n",
              " 15.99427318572998,\n",
              " 15.99423885345459,\n",
              " 15.994205474853516,\n",
              " 15.994171142578125,\n",
              " 15.994136810302734,\n",
              " 15.99410343170166,\n",
              " 15.994073867797852,\n",
              " 15.994040489196777,\n",
              " 15.994009971618652,\n",
              " 15.993978500366211,\n",
              " 15.99394702911377,\n",
              " 15.993914604187012,\n",
              " 15.993885040283203,\n",
              " 15.993854522705078,\n",
              " 15.993824005126953,\n",
              " 15.993795394897461,\n",
              " 15.993765830993652,\n",
              " 15.993735313415527,\n",
              " 15.993706703186035,\n",
              " 15.993678092956543,\n",
              " 15.99365234375,\n",
              " 15.993621826171875,\n",
              " 15.9935941696167,\n",
              " 15.993565559387207,\n",
              " 15.993537902832031,\n",
              " 15.993511199951172,\n",
              " 15.993485450744629,\n",
              " 15.993456840515137,\n",
              " 15.993431091308594,\n",
              " 15.993403434753418,\n",
              " 15.993376731872559,\n",
              " 15.993350982666016,\n",
              " 15.993327140808105,\n",
              " 15.993301391601562,\n",
              " 15.993274688720703,\n",
              " 15.99324893951416,\n",
              " 15.99322509765625,\n",
              " 15.993199348449707,\n",
              " 15.993175506591797,\n",
              " 15.993149757385254,\n",
              " 15.993124961853027,\n",
              " 15.993102073669434,\n",
              " 15.993078231811523,\n",
              " 15.993054389953613,\n",
              " 15.993032455444336,\n",
              " 15.993006706237793,\n",
              " 15.992982864379883,\n",
              " 15.992960929870605,\n",
              " 15.992937088012695,\n",
              " 15.992913246154785,\n",
              " 15.992891311645508,\n",
              " 15.99286937713623,\n",
              " 15.992847442626953,\n",
              " 15.992825508117676,\n",
              " 15.992802619934082,\n",
              " 15.992778778076172,\n",
              " 15.992758750915527,\n",
              " 15.99273681640625,\n",
              " 15.992714881896973,\n",
              " 15.992693901062012,\n",
              " 15.992673873901367,\n",
              " 15.99265193939209,\n",
              " 15.99262809753418,\n",
              " 15.992609024047852,\n",
              " 15.99258804321289,\n",
              " 15.992566108703613,\n",
              " 15.992546081542969,\n",
              " 15.99252700805664,\n",
              " 15.992505073547363,\n",
              " 15.992485046386719,\n",
              " 15.992464065551758,\n",
              " 15.992444038391113,\n",
              " 15.992424964904785,\n",
              " 15.99240493774414,\n",
              " 15.99238395690918,\n",
              " 15.992365837097168,\n",
              " 15.992344856262207,\n",
              " 15.992324829101562,\n",
              " 15.992307662963867,\n",
              " 15.992287635803223,\n",
              " 15.992270469665527,\n",
              " 15.992249488830566,\n",
              " 15.992229461669922,\n",
              " 15.992212295532227,\n",
              " 15.992192268371582,\n",
              " 15.992175102233887,\n",
              " 15.992156028747559,\n",
              " 15.992136001586914,\n",
              " 15.992118835449219,\n",
              " 15.99209976196289,\n",
              " 15.992081642150879,\n",
              " 15.992064476013184,\n",
              " 15.992045402526855,\n",
              " 15.992027282714844,\n",
              " 15.992010116577148,\n",
              " 15.991992950439453,\n",
              " 15.991975784301758,\n",
              " 15.99195671081543,\n",
              " 15.991938591003418,\n",
              " 15.991923332214355,\n",
              " 15.991904258728027,\n",
              " 15.991887092590332,\n",
              " 15.99186897277832,\n",
              " 15.991851806640625,\n",
              " 15.99183464050293,\n",
              " 15.991817474365234,\n",
              " 15.991800308227539,\n",
              " 15.991783142089844,\n",
              " 15.991766929626465,\n",
              " 15.991750717163086,\n",
              " 15.991732597351074,\n",
              " 15.991717338562012,\n",
              " 15.991700172424316,\n",
              " 15.991684913635254,\n",
              " 15.991667747497559,\n",
              " 15.991652488708496,\n",
              " 15.991633415222168,\n",
              " 15.991620063781738,\n",
              " 15.99160099029541,\n",
              " 15.991585731506348,\n",
              " 15.991570472717285,\n",
              " 15.99155330657959,\n",
              " 15.991538047790527,\n",
              " 15.991521835327148,\n",
              " 15.991507530212402,\n",
              " 15.991490364074707,\n",
              " 15.991474151611328,\n",
              " 15.991458892822266,\n",
              " 15.991443634033203,\n",
              " 15.991427421569824,\n",
              " 15.991412162780762,\n",
              " 15.991395950317383,\n",
              " 15.991381645202637,\n",
              " 15.991364479064941,\n",
              " 15.991349220275879,\n",
              " 15.99133586883545,\n",
              " 15.991320610046387,\n",
              " 15.991305351257324,\n",
              " 15.991290092468262,\n",
              " 15.9912748336792,\n",
              " 15.991259574890137,\n",
              " 15.99124526977539,\n",
              " 15.991230010986328,\n",
              " 15.991214752197266,\n",
              " 15.991199493408203,\n",
              " 15.991186141967773,\n",
              " 15.991170883178711,\n",
              " 15.991157531738281,\n",
              " 15.991142272949219,\n",
              " 15.991127967834473,\n",
              " 15.99111270904541,\n",
              " 15.99109935760498,\n",
              " 15.991084098815918,\n",
              " 15.991068840026855,\n",
              " 15.991055488586426,\n",
              " 15.99104118347168,\n",
              " 15.99102783203125,\n",
              " 15.99101448059082,\n",
              " 15.990999221801758,\n",
              " 15.990984916687012,\n",
              " 15.99096965789795,\n",
              " 15.99095630645752,\n",
              " 15.99094295501709,\n",
              " 15.99092960357666,\n",
              " 15.990915298461914,\n",
              " 15.990901947021484,\n",
              " 15.990888595581055,\n",
              " 15.990874290466309,\n",
              " 15.990860939025879,\n",
              " 15.990845680236816,\n",
              " 15.99083423614502,\n",
              " 15.990818977355957,\n",
              " 15.990804672241211,\n",
              " 15.990793228149414,\n",
              " 15.990779876708984,\n",
              " 15.990765571594238,\n",
              " 15.990752220153809,\n",
              " 15.990738868713379,\n",
              " 15.990726470947266,\n",
              " 15.990713119506836,\n",
              " 15.990699768066406,\n",
              " 15.99068546295166,\n",
              " 15.990674018859863,\n",
              " 15.990660667419434,\n",
              " 15.990646362304688,\n",
              " 15.99063491821289,\n",
              " 15.990621566772461,\n",
              " 15.990609169006348,\n",
              " 15.990595817565918,\n",
              " 15.990583419799805,\n",
              " 15.990568161010742,\n",
              " 15.990556716918945,\n",
              " 15.990544319152832,\n",
              " 15.99052906036377,\n",
              " 15.990517616271973,\n",
              " 15.99050521850586,\n",
              " 15.990493774414062,\n",
              " 15.990479469299316,\n",
              " 15.990466117858887,\n",
              " 15.990455627441406,\n",
              " 15.990442276000977,\n",
              " 15.99043083190918,\n",
              " 15.990416526794434,\n",
              " 15.990405082702637,\n",
              " 15.990392684936523,\n",
              " 15.990379333496094,\n",
              " 15.990367889404297,\n",
              " 15.99035358428955,\n",
              " 15.990344047546387,\n",
              " 15.990331649780273,\n",
              " 15.990318298339844,\n",
              " 15.99030590057373,\n",
              " 15.990294456481934,\n",
              " 15.99028205871582,\n",
              " 15.990270614624023,\n",
              " 15.99025821685791,\n",
              " 15.99024486541748,\n",
              " 15.990235328674316,\n",
              " 15.99022102355957,\n",
              " 15.990209579467773,\n",
              " 15.99019718170166,\n",
              " 15.990185737609863,\n",
              " 15.99017333984375,\n",
              " 15.990163803100586,\n",
              " 15.99014949798584,\n",
              " 15.990139961242676,\n",
              " 15.990127563476562,\n",
              " 15.990116119384766,\n",
              " 15.990103721618652,\n",
              " 15.990092277526855,\n",
              " 15.990081787109375,\n",
              " 15.990068435668945,\n",
              " 15.990057945251465,\n",
              " 15.990045547485352,\n",
              " 15.990034103393555,\n",
              " 15.990021705627441,\n",
              " 15.990010261535645,\n",
              " 15.989999771118164,\n",
              " 15.989986419677734,\n",
              " 15.989975929260254,\n",
              " 15.98996639251709,\n",
              " 15.989952087402344,\n",
              " 15.98994255065918,\n",
              " 15.989928245544434,\n",
              " 15.98991870880127,\n",
              " 15.989906311035156,\n",
              " 15.989895820617676,\n",
              " 15.989884376525879,\n",
              " 15.989873886108398,\n",
              " 15.989863395690918,\n",
              " 15.989850044250488,\n",
              " 15.989838600158691,\n",
              " 15.989828109741211,\n",
              " 15.98981761932373,\n",
              " 15.9898042678833,\n",
              " 15.98979377746582,\n",
              " 15.989784240722656,\n",
              " 15.989771842956543,\n",
              " 15.989761352539062,\n",
              " 15.989751815795898,\n",
              " 15.989739418029785,\n",
              " 15.989727973937988,\n",
              " 15.989717483520508,\n",
              " 15.98970890045166,\n",
              " 15.989697456359863,\n",
              " 15.98968505859375,\n",
              " 15.989673614501953,\n",
              " 15.989663124084473,\n",
              " 15.989652633666992,\n",
              " 15.989639282226562,\n",
              " 15.989630699157715,\n",
              " 15.989620208740234,\n",
              " 15.98961067199707,\n",
              " 15.989598274230957,\n",
              " 15.989587783813477,\n",
              " 15.989578247070312,\n",
              " 15.9895658493042,\n",
              " 15.989555358886719,\n",
              " 15.989545822143555,\n",
              " 15.989533424377441,\n",
              " 15.989523887634277,\n",
              " 15.989513397216797,\n",
              " 15.98950481414795,\n",
              " 15.98949146270752,\n",
              " 15.989482879638672,\n",
              " 15.989472389221191,\n",
              " 15.989460945129395,\n",
              " 15.989450454711914,\n",
              " 15.989439964294434,\n",
              " 15.989429473876953,\n",
              " 15.989419937133789,\n",
              " 15.989409446716309,\n",
              " 15.989398956298828,\n",
              " 15.989387512207031,\n",
              " 15.98937702178955,\n",
              " 15.989368438720703,\n",
              " 15.989356994628906,\n",
              " 15.989344596862793,\n",
              " 15.989336013793945,\n",
              " 15.989326477050781,\n",
              " 15.989314079284668,\n",
              " 15.98930549621582,\n",
              " 15.98929500579834,\n",
              " 15.989285469055176,\n",
              " 15.989274978637695,\n",
              " 15.989264488220215,\n",
              " 15.98925495147705,\n",
              " 15.98924446105957,\n",
              " 15.98923397064209,\n",
              " 15.989225387573242,\n",
              " 15.989213943481445,\n",
              " 15.989203453063965,\n",
              " 15.989194869995117,\n",
              " 15.989184379577637,\n",
              " 15.989174842834473,\n",
              " 15.989164352416992,\n",
              " 15.989153861999512,\n",
              " 15.989142417907715,\n",
              " 15.989133834838867,\n",
              " 15.989123344421387,\n",
              " 15.989113807678223,\n",
              " 15.989105224609375,\n",
              " 15.989094734191895,\n",
              " 15.989084243774414,\n",
              " 15.989073753356934,\n",
              " 15.989066123962402,\n",
              " 15.989055633544922,\n",
              " 15.989043235778809,\n",
              " 15.989034652709961,\n",
              " 15.989025115966797,\n",
              " 15.989014625549316,\n",
              " 15.989006042480469,\n",
              " 15.988997459411621,\n",
              " 15.988986015319824,\n",
              " 15.988975524902344,\n",
              " 15.988966941833496,\n",
              " 15.988958358764648,\n",
              " 15.988947868347168,\n",
              " 15.988938331604004,\n",
              " 15.988929748535156,\n",
              " 15.988917350769043,\n",
              " 15.988908767700195,\n",
              " 15.988899230957031,\n",
              " 15.988892555236816,\n",
              " 15.988880157470703,\n",
              " 15.988871574401855,\n",
              " 15.988861083984375,\n",
              " 15.988851547241211,\n",
              " 15.988842964172363,\n",
              " 15.988834381103516,\n",
              " 15.988821983337402,\n",
              " 15.988813400268555,\n",
              " 15.988805770874023,\n",
              " 15.988795280456543,\n",
              " 15.988786697387695,\n",
              " 15.988776206970215,\n",
              " 15.988765716552734,\n",
              " 15.988758087158203,\n",
              " 15.988749504089355,\n",
              " 15.988739013671875,\n",
              " 15.988728523254395,\n",
              " 15.988719940185547,\n",
              " 15.9887113571167,\n",
              " 15.988701820373535,\n",
              " 15.988691329956055,\n",
              " 15.988682746887207,\n",
              " 15.988672256469727,\n",
              " 15.988662719726562,\n",
              " 15.988654136657715,\n",
              " 15.988645553588867,\n",
              " 15.98863697052002,\n",
              " 15.988626480102539,\n",
              " 15.988617897033691,\n",
              " 15.988609313964844,\n",
              " 15.98859977722168,\n",
              " 15.988591194152832,\n",
              " 15.988580703735352,\n",
              " 15.988572120666504,\n",
              " 15.988561630249023,\n",
              " 15.988553047180176,\n",
              " 15.988544464111328,\n",
              " 15.988536834716797,\n",
              " 15.988526344299316,\n",
              " 15.988517761230469,\n",
              " 15.988507270812988,\n",
              " 15.98849868774414,\n",
              " 15.988489151000977,\n",
              " 15.988480567932129,\n",
              " 15.988471984863281,\n",
              " 15.988463401794434,\n",
              " 15.988454818725586,\n",
              " 15.988444328308105,\n",
              " 15.988435745239258,\n",
              " 15.988426208496094,\n",
              " 15.988417625427246,\n",
              " 15.988407135009766,\n",
              " 15.98840045928955,\n",
              " 15.98838996887207,\n",
              " 15.988383293151855,\n",
              " 15.988372802734375,\n",
              " 15.988363265991211,\n",
              " 15.988354682922363,\n",
              " 15.988346099853516,\n",
              " 15.988337516784668,\n",
              " 15.98832893371582,\n",
              " 15.98831844329834,\n",
              " 15.988309860229492]"
            ]
          },
          "metadata": {},
          "execution_count": 87
        }
      ]
    },
    {
      "cell_type": "code",
      "metadata": {
        "colab": {
          "base_uri": "https://localhost:8080/",
          "height": 483
        },
        "id": "hr4Bf7RoSCzn",
        "outputId": "6f25a806-d8d9-4d0d-a01e-d797f4dd7f4c"
      },
      "source": [
        "plt.figure(figsize=(16,8))\n",
        "plt.plot(losses)\n",
        "plt.grid(alpha=0.5)\n",
        "plt.show()"
      ],
      "execution_count": 88,
      "outputs": [
        {
          "output_type": "display_data",
          "data": {
            "image/png": "[encoded data removed]",
            "text/plain": [
              "<Figure size 1152x576 with 1 Axes>"
            ]
          },
          "metadata": {
            "needs_background": "light"
          }
        }
      ]
    },
    {
      "cell_type": "code",
      "metadata": {
        "colab": {
          "base_uri": "https://localhost:8080/"
        },
        "id": "6bUHsNPx3bLV",
        "outputId": "4b0c4345-a8d5-4169-8d2d-d81604bed668"
      },
      "source": [
        "output = model.forward(X, A)\n",
        "test_x = torch.index_select(output, 0, test)\n",
        "test_y = torch.index_select(y, 0, test)"
      ],
      "execution_count": 89,
      "outputs": [
        {
          "output_type": "stream",
          "name": "stderr",
          "text": [
            "/usr/local/lib/python3.7/dist-packages/ipykernel_launcher.py:56: UserWarning: Implicit dimension choice for log_softmax has been deprecated. Change the call to include dim=X as an argument.\n"
          ]
        }
      ]
    },
    {
      "cell_type": "code",
      "metadata": {
        "id": "VJW_m3bQ3fHu"
      },
      "source": [
        "predictions = test_x"
      ],
      "execution_count": 90,
      "outputs": []
    },
    {
      "cell_type": "code",
      "metadata": {
        "colab": {
          "base_uri": "https://localhost:8080/"
        },
        "id": "DkbHJ5ko3gmC",
        "outputId": "a7e12251-8460-4b12-8b61-35d352506868"
      },
      "source": [
        "predictions.shape"
      ],
      "execution_count": 91,
      "outputs": [
        {
          "output_type": "execute_result",
          "data": {
            "text/plain": [
              "torch.Size([733, 50])"
            ]
          },
          "metadata": {},
          "execution_count": 91
        }
      ]
    },
    {
      "cell_type": "code",
      "metadata": {
        "id": "ABPy_zTO3iQk"
      },
      "source": [
        "predictions, test_y = predictions.detach().numpy(), test_y.numpy()"
      ],
      "execution_count": 92,
      "outputs": []
    },
    {
      "cell_type": "code",
      "metadata": {
        "colab": {
          "base_uri": "https://localhost:8080/"
        },
        "id": "3X95tJNRY80q",
        "outputId": "1153cc47-2800-4caa-cdad-54dd4ddc9135"
      },
      "source": [
        "king_index = dataset.word2id[\"father\"]\n",
        "queen_index = dataset.word2id[\"mother\"]\n",
        "man_index = dataset.word2id[\"man\"]\n",
        "woman_index = dataset.word2id[\"woman\"]\n",
        "\n",
        "check_words = [\"think\", \"apples\", \"guarding\", \"ugliest\", \"cat\", \"sixteen\"]\n",
        "\n",
        "print(\"FATHER : MOTHER, MAN : WOMAN\", my_loss(output[king_index]-output[queen_index]+output[woman_index], output[man_index]))\n",
        "\n",
        "for check_word in check_words:\n",
        "  pal_index = dataset.word2id[check_word]\n",
        "  print(\"FATHER : MOTHER,\", check_word.upper(), \": WOMAN\", my_loss(output[king_index]-output[queen_index]+output[woman_index], output[pal_index]))"
      ],
      "execution_count": 93,
      "outputs": [
        {
          "output_type": "stream",
          "name": "stdout",
          "text": [
            "FATHER : MOTHER, MAN : WOMAN tensor(0.0013, grad_fn=<MeanBackward0>)\n",
            "FATHER : MOTHER, THINK : WOMAN tensor(0.0034, grad_fn=<MeanBackward0>)\n",
            "FATHER : MOTHER, APPLES : WOMAN tensor(0.0101, grad_fn=<MeanBackward0>)\n",
            "FATHER : MOTHER, GUARDING : WOMAN tensor(0.0033, grad_fn=<MeanBackward0>)\n",
            "FATHER : MOTHER, UGLIEST : WOMAN tensor(0.0035, grad_fn=<MeanBackward0>)\n",
            "FATHER : MOTHER, CAT : WOMAN tensor(0.0048, grad_fn=<MeanBackward0>)\n",
            "FATHER : MOTHER, SIXTEEN : WOMAN tensor(0.0035, grad_fn=<MeanBackward0>)\n"
          ]
        }
      ]
    },
    {
      "cell_type": "code",
      "metadata": {
        "colab": {
          "base_uri": "https://localhost:8080/"
        },
        "id": "9pHqenGv3nYr",
        "outputId": "d02b5a65-e9a6-4814-a7b3-0bfd0ebff497"
      },
      "source": [
        "predictions"
      ],
      "execution_count": 60,
      "outputs": [
        {
          "output_type": "execute_result",
          "data": {
            "text/plain": [
              "array([[-3.8874028, -3.9144146, -3.9151976, ..., -3.9412432, -3.9247687,\n",
              "        -3.9310842],\n",
              "       [-3.862108 , -3.9054132, -3.902246 , ..., -3.9593568, -3.942761 ,\n",
              "        -3.9140882],\n",
              "       [-3.8953662, -3.9359124, -3.9097242, ..., -3.9356287, -3.9172006,\n",
              "        -3.932076 ],\n",
              "       ...,\n",
              "       [-3.9009593, -3.9066858, -3.91652  , ..., -3.946815 , -3.9259293,\n",
              "        -3.9364119],\n",
              "       [-3.8927913, -3.9120317, -3.9114685, ..., -3.943454 , -3.9173236,\n",
              "        -3.9345565],\n",
              "       [-3.929905 , -3.9006195, -3.9140084, ..., -3.9650657, -3.8719184,\n",
              "        -3.9757655]], dtype=float32)"
            ]
          },
          "metadata": {},
          "execution_count": 60
        }
      ]
    },
    {
      "cell_type": "code",
      "metadata": {
        "colab": {
          "base_uri": "https://localhost:8080/"
        },
        "id": "yc2_2dkW5TlK",
        "outputId": "db22106b-4984-4059-9466-02ebb71a388c"
      },
      "source": [
        "test_y"
      ],
      "execution_count": 61,
      "outputs": [
        {
          "output_type": "execute_result",
          "data": {
            "text/plain": [
              "array([[ 0.63739 ,  0.77755 , -0.22085 , ...,  0.04419 , -0.58178 ,\n",
              "        -0.72936 ],\n",
              "       [-0.84112 ,  0.1684  , -0.99527 , ..., -1.2238  , -0.75549 ,\n",
              "        -0.61587 ],\n",
              "       [-0.76786 , -0.27021 , -0.1327  , ...,  0.59087 ,  0.1901  ,\n",
              "        -0.083729],\n",
              "       ...,\n",
              "       [ 0.40075 ,  0.11277 ,  0.15286 , ..., -0.50696 ,  0.33447 ,\n",
              "        -0.32037 ],\n",
              "       [ 0.4545  ,  0.44867 ,  0.25098 , ..., -0.018729,  0.54854 ,\n",
              "         0.77098 ],\n",
              "       [-1.0443  ,  0.49202 , -0.75978 , ..., -1.0889  , -0.20867 ,\n",
              "        -0.052605]], dtype=float32)"
            ]
          },
          "metadata": {},
          "execution_count": 61
        }
      ]
    },
    {
      "cell_type": "code",
      "metadata": {
        "colab": {
          "base_uri": "https://localhost:8080/"
        },
        "id": "9zAsb94C5WVa",
        "outputId": "97323d57-8e6e-4026-d6d0-680531fdae27"
      },
      "source": [
        "from collections import Counter\n",
        "c = Counter(predictions)\n",
        "print(c)"
      ],
      "execution_count": null,
      "outputs": [
        {
          "output_type": "stream",
          "name": "stdout",
          "text": [
            "Counter({2: 468, 3: 207, 1: 162, 6: 132, 0: 64, 4: 17, 5: 11})\n"
          ]
        }
      ]
    },
    {
      "cell_type": "code",
      "metadata": {
        "colab": {
          "base_uri": "https://localhost:8080/"
        },
        "id": "ldi8jXEs5tB3",
        "outputId": "739813a1-ff46-4bc1-d4c3-f86bea05ffc8"
      },
      "source": [
        "from collections import Counter\n",
        "c = Counter(test_y)\n",
        "print(c)"
      ],
      "execution_count": null,
      "outputs": [
        {
          "output_type": "stream",
          "name": "stdout",
          "text": [
            "Counter({2: 568, 3: 176, 1: 168, 6: 101, 0: 48})\n"
          ]
        }
      ]
    },
    {
      "cell_type": "code",
      "metadata": {
        "id": "PVFU6qiI6aAK"
      },
      "source": [
        "import matplotlib.pyplot as plt"
      ],
      "execution_count": 94,
      "outputs": []
    },
    {
      "cell_type": "code",
      "metadata": {
        "id": "5jINzT6S5wIk"
      },
      "source": [
        "def get_attention_matrices():    \n",
        "    X, y = dataset.getXY()\n",
        "    A = dataset.getMatrix()\n",
        "    \n",
        "    attention_matrices = None\n",
        "    with torch.no_grad():\n",
        "        attention_matrices = model.get_attention_matrices(yeet=True)\n",
        "    return attention_matrices\n",
        "\n",
        "attention_matrices = get_attention_matrices()\n",
        "\n",
        "# DEBUGGING INFORMATION\n",
        "# ic(X.shape)\n",
        "# ic(A.shape)\n",
        "# ic(output.shape)\n",
        "# ic(len(attention_matrices))\n",
        "# ic(attention_matrices[-1].shape)"
      ],
      "execution_count": 95,
      "outputs": []
    },
    {
      "cell_type": "code",
      "metadata": {
        "id": "-UxpGWrc6YOz",
        "colab": {
          "base_uri": "https://localhost:8080/",
          "height": 515
        },
        "outputId": "ff4f4159-8d73-4a63-93f4-b85a6306acbc"
      },
      "source": [
        "matrix = [[-1], [0], [1]]\n",
        "plt.figure(figsize=(8,8))\n",
        "plt.matshow(matrix, fignum=1, cmap=plt.get_cmap(\"viridis\"))"
      ],
      "execution_count": 96,
      "outputs": [
        {
          "output_type": "execute_result",
          "data": {
            "text/plain": [
              "<matplotlib.image.AxesImage at 0x7fb61474f1d0>"
            ]
          },
          "metadata": {},
          "execution_count": 96
        },
        {
          "output_type": "display_data",
          "data": {
            "image/png": "[encoded data removed]",
            "text/plain": [
              "<Figure size 576x576 with 1 Axes>"
            ]
          },
          "metadata": {
            "needs_background": "light"
          }
        }
      ]
    },
    {
      "cell_type": "code",
      "metadata": {
        "id": "fOwjkpoX4K_z"
      },
      "source": [
        "def get_class_rows(matrix, class_label=1):\n",
        "    n = len(X)\n",
        "    indices = [int(y[i] == class_label) for i in range(n)]\n",
        "    return np.array(indices)"
      ],
      "execution_count": 97,
      "outputs": []
    },
    {
      "cell_type": "code",
      "metadata": {
        "id": "GP63XyhH4MWp"
      },
      "source": [
        "def plot_matrix_class(matrix, label, filter_class=None):\n",
        "    start_point_x, start_point_y = 0, 0\n",
        "    end_point_x, end_point_y = 42, 42\n",
        "\n",
        "    if filter_class is not None:\n",
        "        indices = get_class_rows(matrix, filter_class)\n",
        "        # print(indices)\n",
        "\n",
        "        new_mat = []\n",
        "        m, n = len(matrix), len(matrix[0])\n",
        "        for i in range(m):\n",
        "            if indices[i]:\n",
        "                new_row = []\n",
        "                for j in range(n):\n",
        "                    if indices[j]: \n",
        "                        new_row.append(matrix[i][j])\n",
        "                new_mat.append(np.array(new_row)[start_point_y:end_point_y])\n",
        "        matrix = np.array(new_mat)[start_point_x:end_point_x]\n",
        "    \n",
        "\n",
        "    matrix = normalize(matrix, axis=1)\n",
        "    # print(matrix.shape)\n",
        "    plt.figure(figsize=(20,20))\n",
        "    plt.matshow(matrix, fignum=1, cmap=plt.get_cmap(\"viridis\"))\n",
        "    # plt.title(label)\n",
        "    # plt.legend()\n",
        "    plt.show()\n",
        "\n",
        "# plot_matrix(attention_matrices[0], \"first attention matrix\", filter_class=None)\n",
        "# plot_matrix(attention_matrices[-1], \"last attention matrix\", filter_class=None)\n",
        "# for i in range(7):\n",
        "#     plot_matrix_class(np.subtract(attention_matrices[-1], attention_matrices[0]), \"\", filter_class=i)"
      ],
      "execution_count": 98,
      "outputs": []
    },
    {
      "cell_type": "code",
      "metadata": {
        "colab": {
          "base_uri": "https://localhost:8080/",
          "height": 1000
        },
        "id": "lM4sgiscrflR",
        "outputId": "9f1b2688-1967-4de9-b611-50e2072efcca"
      },
      "source": [
        "def plot_attention_matrix_row(A, i):\n",
        "    full_attention_matrix = np.subtract(attention_matrices[-1], attention_matrices[0])\n",
        "    m, n = len(full_attention_matrix), len(full_attention_matrix[0])\n",
        "    \n",
        "    # neighbours = get_neighbours(A, i)\n",
        "    filtered_row = []\n",
        "    indices = []\n",
        "    for j in range(n):\n",
        "        if not A[i][j]: continue\n",
        "        filtered_row.append(full_attention_matrix[i][j])\n",
        "        indices.append(j)\n",
        "    filtered_row = (np.array(filtered_row))\n",
        "\n",
        "    # print(filtered_row.shape)\n",
        "    print(f\"input index: {i} :: neighbouring_indices: {indices}\")\n",
        "    for w_in in indices:\n",
        "      print(dataset.id2word[w_in])\n",
        "    filtered_row = normalize(filtered_row.reshape(1, -1))\n",
        "    plt.figure(figsize=(20,20))\n",
        "    plt.matshow(filtered_row, fignum=1, cmap=plt.get_cmap(\"viridis\"))\n",
        "    plt.show()\n",
        "\n",
        "check_words = [\"woman\", \"think\", \"apples\", \"guarding\", \"ugliest\", \"cat\", \"sixteen\"]\n",
        "\n",
        "for check_word in check_words:\n",
        "  print(check_word)\n",
        "  plot_attention_matrix_row(A, dataset.word2id[check_word])\n",
        "  print(\"---------------------------------------------------\")\n",
        "# plot_attention_matrix_row(A, 3)\n",
        "# plot_attention_matrix_row(A, 5)\n",
        "\n",
        "\"\"\"\n",
        "hello shivansh, \n",
        "\n",
        "in case you are reading this, good morning.\n",
        "\n",
        "the input to the plot_attention_matrix_row is a single index (of a word)\n",
        "the output is a list of neighbours (taken from the adjacency matrix)\n",
        "these list of neighbours are also indices\n",
        "\n",
        "i already plot their colors\n",
        "\n",
        "what you have to do: map the indices to words.\n",
        "create a dict or smth \n",
        "so we can explain this shit better using linguistic analysis. \n",
        "\n",
        "thanks, \n",
        "Tanishq.\n",
        "\"\"\""
      ],
      "execution_count": 100,
      "outputs": [
        {
          "output_type": "stream",
          "name": "stdout",
          "text": [
            "woman\n",
            "input index: 993 :: neighbouring_indices: [1, 1107, 1344, 1440]\n",
            "who\n",
            "the\n",
            "upbeat\n",
            "old\n"
          ]
        },
        {
          "output_type": "display_data",
          "data": {
            "image/png": "[encoded data removed]",
            "text/plain": [
              "<Figure size 1440x1440 with 1 Axes>"
            ]
          },
          "metadata": {
            "needs_background": "light"
          }
        },
        {
          "output_type": "stream",
          "name": "stdout",
          "text": [
            "---------------------------------------------------\n",
            "think\n",
            "input index: 338 :: neighbouring_indices: [3, 89, 550, 896, 1107, 1426]\n",
            "i\n",
            "good\n",
            "would\n",
            "he\n",
            "the\n",
            "squirrel\n"
          ]
        },
        {
          "output_type": "display_data",
          "data": {
            "image/png": "[encoded data removed]",
            "text/plain": [
              "<Figure size 1440x1440 with 1 Axes>"
            ]
          },
          "metadata": {
            "needs_background": "light"
          }
        },
        {
          "output_type": "stream",
          "name": "stdout",
          "text": [
            "---------------------------------------------------\n",
            "apples\n",
            "input index: 1116 :: neighbouring_indices: [1048, 1328]\n",
            "harvest\n",
            "but\n"
          ]
        },
        {
          "output_type": "display_data",
          "data": {
            "image/png": "[encoded data removed]",
            "text/plain": [
              "<Figure size 1440x1440 with 1 Axes>"
            ]
          },
          "metadata": {
            "needs_background": "light"
          }
        },
        {
          "output_type": "stream",
          "name": "stdout",
          "text": [
            "---------------------------------------------------\n",
            "guarding\n",
            "input index: 388 :: neighbouring_indices: [860, 1065]\n",
            "her\n",
            "knees\n"
          ]
        },
        {
          "output_type": "display_data",
          "data": {
            "image/png": "[encoded data removed]",
            "text/plain": [
              "<Figure size 1440x1440 with 1 Axes>"
            ]
          },
          "metadata": {
            "needs_background": "light"
          }
        },
        {
          "output_type": "stream",
          "name": "stdout",
          "text": [
            "---------------------------------------------------\n",
            "ugliest\n",
            "input index: 40 :: neighbouring_indices: [370, 1083]\n",
            "worlds\n",
            "cat\n"
          ]
        },
        {
          "output_type": "display_data",
          "data": {
            "image/png": "[encoded data removed]",
            "text/plain": [
              "<Figure size 1440x1440 with 1 Axes>"
            ]
          },
          "metadata": {
            "needs_background": "light"
          }
        },
        {
          "output_type": "stream",
          "name": "stdout",
          "text": [
            "---------------------------------------------------\n",
            "cat\n",
            "input index: 1083 :: neighbouring_indices: [40, 941]\n",
            "ugliest\n",
            "mashedin\n"
          ]
        },
        {
          "output_type": "display_data",
          "data": {
            "image/png": "[encoded data removed]",
            "text/plain": [
              "<Figure size 1440x1440 with 1 Axes>"
            ]
          },
          "metadata": {
            "needs_background": "light"
          }
        },
        {
          "output_type": "stream",
          "name": "stdout",
          "text": [
            "---------------------------------------------------\n",
            "sixteen\n",
            "input index: 386 :: neighbouring_indices: [299, 735]\n",
            "of\n",
            "my\n"
          ]
        },
        {
          "output_type": "display_data",
          "data": {
            "image/png": "[encoded data removed]",
            "text/plain": [
              "<Figure size 1440x1440 with 1 Axes>"
            ]
          },
          "metadata": {
            "needs_background": "light"
          }
        },
        {
          "output_type": "stream",
          "name": "stdout",
          "text": [
            "---------------------------------------------------\n"
          ]
        },
        {
          "output_type": "execute_result",
          "data": {
            "application/vnd.google.colaboratory.intrinsic+json": {
              "type": "string"
            },
            "text/plain": [
              "'\\nhello shivansh, \\n\\nin case you are reading this, good morning.\\n\\nthe input to the plot_attention_matrix_row is a single index (of a word)\\nthe output is a list of neighbours (taken from the adjacency matrix)\\nthese list of neighbours are also indices\\n\\ni already plot their colors\\n\\nwhat you have to do: map the indices to words.\\ncreate a dict or smth \\nso we can explain this shit better using linguistic analysis. \\n\\nthanks, \\nTanishq.\\n'"
            ]
          },
          "metadata": {},
          "execution_count": 100
        }
      ]
    },
    {
      "cell_type": "code",
      "metadata": {
        "colab": {
          "base_uri": "https://localhost:8080/"
        },
        "id": "gKXmJTk99j7D",
        "outputId": "146989cd-605e-4df0-d47b-bc7d3c457838"
      },
      "source": [
        "nltk.download('stopwords')"
      ],
      "execution_count": 76,
      "outputs": [
        {
          "output_type": "stream",
          "name": "stdout",
          "text": [
            "[nltk_data] Downloading package stopwords to /root/nltk_data...\n",
            "[nltk_data]   Unzipping corpora/stopwords.zip.\n"
          ]
        },
        {
          "output_type": "execute_result",
          "data": {
            "text/plain": [
              "True"
            ]
          },
          "metadata": {},
          "execution_count": 76
        }
      ]
    },
    {
      "cell_type": "code",
      "metadata": {
        "colab": {
          "base_uri": "https://localhost:8080/"
        },
        "id": "NytUz8AG5SF0",
        "outputId": "cc51a260-57fc-40f3-daee-3e9b79cee7bc"
      },
      "source": [
        "from nltk.corpus import stopwords\n",
        "\n",
        "stopwords = set(stopwords.words('english'))\n",
        " \n",
        "print(Counter([word for word in text.split() if word not in stopwords]))"
      ],
      "execution_count": 77,
      "outputs": [
        {
          "output_type": "stream",
          "name": "stdout",
          "text": [
            "Counter({'gale': 25, 'one': 24, 'district': 20, 'even': 19, 'prim': 17, 'us': 17, 'reaping': 16, 'woods': 16, 'would': 15, 'says': 15, 'say': 15, 'two': 14, 'capitol': 13, 'mother': 12, 'well': 12, 'back': 12, 'seam': 11, 'like': 11, 'bread': 11, 'still': 10, 'could': 10, 'good': 10, 'day': 9, 'little': 9, 'years': 9, 'never': 9, 'make': 9, 'name': 9, 'shes': 9, 'hes': 8, 'always': 8, 'im': 8, 'might': 8, 'twelve': 8, 'year': 8, 'must': 7, 'home': 7, 'another': 7, 'since': 7, 'live': 7, 'people': 7, 'hunger': 7, 'look': 7, 'dont': 7, 'effie': 7, 'trinket': 7, 'hair': 7, 'way': 7, 'fish': 7, 'kids': 7, 'every': 7, 'theres': 6, 'see': 6, 'eyes': 6, 'come': 6, 'carefully': 6, 'almost': 6, 'real': 6, 'games': 6, 'leave': 6, 'family': 6, 'times': 6, 'districts': 6, 'tesserae': 6, 'prims': 5, 'enough': 5, 'face': 5, 'ever': 5, 'hunting': 5, 'pull': 5, 'cheese': 5, 'black': 5, 'may': 5, 'called': 5, 'get': 5, 'take': 5, 'know': 5, 'father': 5, 'keep': 5, 'turn': 5, 'panem': 5, 'hold': 5, 'school': 5, 'market': 5, 'place': 5, 'around': 5, 'grain': 5, 'names': 5, 'anything': 5, 'greens': 5, 'time': 5, 'madge': 5, 'dress': 5, 'days': 5, 'course': 4, 'least': 4, 'though': 4, 'last': 4, 'let': 4, 'slip': 4, 'coal': 4, 'today': 4, 'fact': 4, 'fence': 4, 'three': 4, 'right': 4, 'bushes': 4, 'find': 4, 'made': 4, 'money': 4, 'hunt': 4, 'theyre': 4, 'trouble': 4, 'small': 4, 'hob': 4, 'feel': 4, 'first': 4, 'man': 4, 'odds': 4, 'really': 4, 'square': 4, 'go': 4, 'want': 4, 'although': 4, 'girls': 4, 'strawberries': 4, 'door': 4, 'blouse': 4, 'head': 4, 'crowd': 4, 'podium': 4, 'ball': 4, 'mayor': 4, 'bed': 3, 'bad': 3, 'light': 3, 'sister': 3, 'mothers': 3, 'together': 3, 'fresh': 3, 'nose': 3, 'half': 3, 'bright': 3, 'think': 3, 'thing': 3, 'mouth': 3, 'hard': 3, 'stay': 3, 'got': 3, 'kill': 3, 'love': 3, 'long': 3, 'dark': 3, 'protect': 3, 'goat': 3, 'part': 3, 'morning': 3, 'trying': 3, 'streets': 3, 'closed': 3, 'meadow': 3, 'hours': 3, 'wild': 3, 'food': 3, 'nothing': 3, 'five': 3, 'run': 3, 'others': 3, 'officials': 3, 'peacekeepers': 3, 'meat': 3, 'among': 3, 'idea': 3, 'someone': 3, 'quickly': 3, 'scared': 3, 'country': 3, 'read': 3, 'work': 3, 'person': 3, 'smile': 3, 'katniss': 3, 'game': 3, 'bakery': 3, 'hands': 3, 'fine': 3, 'special': 3, 'warm': 3, 'trade': 3, 'old': 3, 'woman': 3, 'toward': 3, 'skin': 3, 'favor': 3, 'watch': 3, 'mines': 3, 'thats': 3, 'blue': 3, 'afford': 3, 'children': 3, 'soft': 3, 'berries': 3, 'clear': 3, 'gather': 3, 'supper': 3, 'standing': 3, 'ask': 3, 'gales': 3, 'fill': 3, 'took': 3, 'become': 3, 'lets': 3, 'something': 3, 'everyone': 3, 'lot': 3, 'greasy': 3, 'sae': 3, 'large': 3, 'exchange': 3, 'better': 3, 'dog': 3, 'mayors': 3, 'pin': 3, 'madges': 3, 'entered': 3, 'thirteen': 3, 'age': 3, 'tessera': 3, 'oil': 3, 'set': 3, 'knows': 3, 'doesnt': 3, 'bit': 3, 'big': 3, 'much': 3, 'glass': 3, 'paper': 3, 'wake': 2, 'side': 2, 'stretch': 2, 'finding': 2, 'rough': 2, 'sleep': 2, 'looks': 2, 'younger': 2, 'lovely': 2, 'primrose': 2, 'named': 2, 'beautiful': 2, 'tell': 2, 'sitting': 2, 'buttercup': 2, 'ago': 2, 'brought': 2, 'belly': 2, 'swollen': 2, 'crawling': 2, 'needed': 2, 'feed': 2, 'turned': 2, 'occasional': 2, 'sometimes': 2, 'entrails': 2, 'stopped': 2, 'hissing': 2, 'swing': 2, 'slide': 2, 'tuck': 2, 'braid': 2, 'bag': 2, 'hungry': 2, 'perfect': 2, 'wrapped': 2, 'basil': 2, 'put': 2, 'many': 2, 'scrub': 2, 'broken': 2, 'empty': 2, 'shutters': 2, 'gray': 2, 'house': 2, 'reach': 2, 'high': 2, 'supposed': 2, 'electrified': 2, 'twentyfour': 2, 'predators': 2, 'evenings': 2, 'safe': 2, 'moment': 2, 'clump': 2, 'several': 2, 'close': 2, 'bow': 2, 'keeping': 2, 'animals': 2, 'mine': 2, 'risk': 2, 'knife': 2, 'crafted': 2, 'found': 2, 'rebellion': 2, 'best': 2, 'sight': 2, 'safety': 2, 'death': 2, 'glance': 2, 'middle': 2, 'things': 2, 'tongue': 2, 'quietly': 2, 'talk': 2, 'public': 2, 'pleasant': 2, 'begin': 2, 'words': 2, 'waits': 2, 'valley': 2, 'berry': 2, 'waiting': 2, 'catnip': 2, 'barely': 2, 'thought': 2, 'lynx': 2, 'looking': 2, 'wasnt': 2, 'price': 2, 'shot': 2, 'holds': 2, 'arrow': 2, 'laugh': 2, 'loaves': 2, 'makes': 2, 'feeling': 2, 'luck': 2, 'expression': 2, 'treat': 2, 'suddenly': 2, 'falls': 2, 'accent': 2, 'happy': 2, 'catch': 2, 'break': 2, 'finish': 2, 'besides': 2, 'pulls': 2, 'slices': 2, 'families': 2, 'merchant': 2, 'apothecary': 2, 'shop': 2, 'sell': 2, 'try': 2, 'life': 2, 'dig': 2, 'mouths': 2, 'holiday': 2, 'instead': 2, 'oclock': 2, 'didnt': 2, 'daily': 2, 'nights': 2, 'stomachs': 2, 'already': 2, 'friends': 2, 'helping': 2, 'wont': 2, 'whisper': 2, 'nice': 2, 'tonight': 2, 'weeks': 2, 'came': 2, 'system': 2, 'space': 2, 'six': 2, 'salt': 2, 'soup': 2, 'couple': 2, 'paraffin': 2, 'daughter': 2, 'seem': 2, 'end': 2, 'next': 2, 'outfit': 2, 'white': 2, 'pink': 2, 'clothes': 2, 'pretty': 2, 'going': 2, 'confused': 2, 'land': 2, 'gold': 2, 'entries': 2, 'fault': 2, 'ones': 2, 'hand': 2, 'walk': 2, 'poor': 2, 'eighteen': 2, 'goes': 2, 'seven': 2, 'entire': 2, 'starving': 2, 'add': 2, 'members': 2, 'twenty': 2, 'fortytwo': 2, 'chance': 2, 'drawn': 2, 'slim': 2, 'compared': 2, 'rules': 2, 'sign': 2, 'deep': 2, 'plant': 2, 'capitols': 2, 'hear': 2, 'girl': 2, 'sure': 2, 'agree': 2, 'skirt': 2, 'past': 2, 'wouldnt': 2, 'voice': 2, 'hug': 2, 'gives': 2, 'quack': 2, 'eat': 2, 'anyway': 2, 'imprisoned': 2, 'squares': 2, 'population': 2, 'ages': 2, 'front': 2, 'taking': 2, 'bullet': 2, 'event': 2, 'televised': 2, 'attention': 2, 'stage': 2, 'chairs': 2, 'boys': 2, 'slips': 2, 'everdeen': 2, 'peace': 2, 'uprising': 2, 'gave': 2, 'tributes': 2, 'tribute': 2, 'alive': 2, 'reads': 2, 'victors': 2, 'haymitch': 2, 'tries': 2, 'thinking': 2, 'crosses': 2, 'cold': 1, 'fingers': 1, 'seeking': 1, 'warmth': 1, 'canvas': 1, 'cover': 1, 'mattress': 1, 'dreams': 1, 'climbed': 1, 'prop': 1, 'elbow': 1, 'bedroom': 1, 'curled': 1, 'cocooned': 1, 'body': 1, 'cheeks': 1, 'pressed': 1, 'worn': 1, 'beatendown': 1, 'raindrop': 1, 'sothey': 1, 'knees': 1, 'guarding': 1, 'worlds': 1, 'ugliest': 1, 'cat': 1, 'mashedin': 1, 'ear': 1, 'missing': 1, 'color': 1, 'rotting': 1, 'squash': 1, 'insisting': 1, 'muddy': 1, 'yellow': 1, 'coat': 1, 'matched': 1, 'flower': 1, 'hates': 1, 'distrusts': 1, 'remembers': 1, 'tried': 1, 'drown': 1, 'bucket': 1, 'scrawny': 1, 'kitten': 1, 'worms': 1, 'fleas': 1, 'begged': 1, 'cried': 1, 'okay': 1, 'rid': 1, 'vermin': 1, 'born': 1, 'mouser': 1, 'catches': 1, 'rat': 1, 'clean': 1, 'closest': 1, 'legs': 1, 'boots': 1, 'supple': 1, 'leather': 1, 'molded': 1, 'feet': 1, 'trousers': 1, 'shirt': 1, 'cap': 1, 'grab': 1, 'forage': 1, 'table': 1, 'wooden': 1, 'bowl': 1, 'rats': 1, 'cats': 1, 'alike': 1, 'sits': 1, 'leaves': 1, 'gift': 1, 'pocket': 1, 'outside': 1, 'nicknamed': 1, 'usually': 1, 'miners': 1, 'heading': 1, 'shift': 1, 'hour': 1, 'men': 1, 'women': 1, 'hunched': 1, 'shoulders': 1, 'knuckles': 1, 'dust': 1, 'nails': 1, 'lines': 1, 'sunken': 1, 'faces': 1, 'cinder': 1, 'squat': 1, 'houses': 1, 'isnt': 1, 'edge': 1, 'pass': 1, 'gates': 1, 'scruffy': 1, 'field': 1, 'separating': 1, 'enclosing': 1, 'chainlink': 1, 'topped': 1, 'barbedwire': 1, 'loops': 1, 'theory': 1, 'deterrent': 1, 'packs': 1, 'dogs': 1, 'lone': 1, 'cougars': 1, 'bears': 1, 'used': 1, 'threaten': 1, 'lucky': 1, 'electricity': 1, 'itsusually': 1, 'touch': 1, 'listen': 1, 'hum': 1, 'means': 1, 'silent': 1, 'stone': 1, 'concealed': 1, 'flatten': 1, 'twofoot': 1, 'thatsbeen': 1, 'loose': 1, 'weak': 1, 'spots': 1, 'enter': 1, 'soon': 1, 'trees': 1, 'retrieve': 1, 'sheath': 1, 'arrows': 1, 'hollow': 1, 'log': 1, 'successful': 1, 'flesheaters': 1, 'inside': 1, 'roam': 1, 'freely': 1, 'added': 1, 'concerns': 1, 'venomous': 1, 'snakes': 1, 'rabid': 1, 'paths': 1, 'follow': 1, 'also': 1, 'knew': 1, 'taught': 1, 'blown': 1, 'bits': 1, 'explosion': 1, 'bury': 1, 'eleven': 1, 'later': 1, 'screaming': 1, 'trespassing': 1, 'illegal': 1, 'poaching': 1, 'carries': 1, 'severest': 1, 'penalties': 1, 'weapons': 1, 'bold': 1, 'venture': 1, 'rarity': 1, 'along': 1, 'hidden': 1, 'waterproof': 1, 'covers': 1, 'selling': 1, 'publicly': 1, 'executed': 1, 'inciting': 1, 'blind': 1, 'eye': 1, 'anybody': 1, 'customers': 1, 'arming': 1, 'allowed': 1, 'fall': 1, 'brave': 1, 'souls': 1, 'sneak': 1, 'harvest': 1, 'apples': 1, 'arises': 1, 'starve': 1, 'mutter': 1, 'shoulder': 1, 'nowhere': 1, 'worry': 1, 'overhear': 1, 'blurt': 1, 'rule': 1, 'faroff': 1, 'city': 1, 'eventually': 1, 'understood': 1, 'lead': 1, 'learned': 1, 'features': 1, 'indifferent': 1, 'mask': 1, 'thoughts': 1, 'polite': 1, 'discuss': 1, 'trades': 1, 'less': 1, 'avoid': 1, 'discussing': 1, 'tricky': 1, 'topics': 1, 'shortages': 1, 'repeat': 1, 'themuscles': 1, 'relaxing': 1, 'pace': 1, 'quickening': 1, 'climb': 1, 'hills': 1, 'rock': 1, 'ledgeoverlooking': 1, 'thicket': 1, 'protects': 1, 'unwanted': 1, 'brings': 1, 'except': 1, 'hey': 1, 'told': 1, 'whispered': 1, 'id': 1, 'said': 1, 'crazy': 1, 'started': 1, 'following': 1, 'handouts': 1, 'became': 1, 'official': 1, 'nickname': 1, 'finally': 1, 'regretted': 1, 'company': 1, 'decent': 1, 'pelt': 1, 'loaf': 1, 'stuck': 1, 'flat': 1, 'dense': 1, 'rations': 1, 'puncture': 1, 'crust': 1, 'inhaling': 1, 'fragrance': 1, 'flood': 1, 'saliva': 1, 'occasions': 1, 'mm': 1, 'crack': 1, 'dawn': 1, 'cost': 1, 'squirrel': 1, 'sentimental': 1, 'wished': 1, 'closer': 1, 'bothering': 1, 'roll': 1, 'left': 1, 'brightens': 1, 'thank': 1, 'feast': 1, 'mimics': 1, 'maniacally': 1, 'upbeat': 1, 'arrives': 1, 'leaping': 1, 'forgot': 1, 'plucks': 1, 'blackberries': 1, 'tosses': 1, 'arc': 1, 'delicate': 1, 'teeth': 1, 'sweet': 1, 'tartness': 1, 'explodes': 1, 'across': 1, 'equal': 1, 'verve': 1, 'joke': 1, 'alternative': 1, 'wits': 1, 'affected': 1, 'sounds': 1, 'funny': 1, 'brother': 1, 'straight': 1, 'olive': 1, 'related': 1, 'closely': 1, 'resemble': 1, 'parents': 1, 'class': 1, 'thatcaters': 1, 'customer': 1, 'ran': 1, 'nicer': 1, 'doctors': 1, 'apothecaries': 1, 'healers': 1, 'hunts': 1, 'collect': 1, 'medicinal': 1, 'herbs': 1, 'brewed': 1, 'remedies': 1, 'loved': 1, 'remember': 1, 'sat': 1, 'blank': 1, 'unreachable': 1, 'bones': 1, 'itry': 1, 'forgive': 1, 'fathers': 1, 'sake': 1, 'honest': 1, 'forgiving': 1, 'type': 1, 'spreads': 1, 'placing': 1, 'leaf': 1, 'strip': 1, 'settle': 1, 'nook': 1, 'rocks': 1, 'invisible': 1, 'view': 1, 'teeming': 1, 'summer': 1, 'roots': 1, 'iridescent': 1, 'sunlight': 1, 'glorious': 1, 'sky': 1, 'breeze': 1, 'foods': 1, 'wonderful': 1, 'seeping': 1, 'bursting': 1, 'everything': 1, 'meant': 1, 'roaming': 1, 'mountains': 1, 'tonights': 1, 'respond': 1, 'preposterous': 1, 'adds': 1, 'brothers': 1, 'throw': 1, 'without': 1, 'asking': 1, 'swapped': 1, 'lard': 1, 'shoelaces': 1, 'wool': 1, 'growling': 1, 'irritated': 1, 'forget': 1, 'snaps': 1, 'conversation': 1, 'feels': 1, 'wrong': 1, 'world': 1, 'certain': 1, 'devoted': 1, 'cant': 1, 'bother': 1, 'talking': 1, 'stuff': 1, 'romantic': 1, 'met': 1, 'skinnytwelveyearold': 1, 'older': 1, 'looked': 1, 'stop': 1, 'haggling': 1, 'wants': 1, 'wife': 1, 'goodlooking': 1, 'strong': 1, 'handle': 1, 'walks': 1, 'jealous': 1, 'reason': 1, 'partners': 1, 'lake': 1, 'poles': 1, 'celebrate': 1, 'relief': 1, 'spared': 1, 'lock': 1, 'doorsand': 1, 'figure': 1, 'survive': 1, 'painful': 1, 'ignore': 1, 'easier': 1, 'tastier': 1, 'prey': 1, 'abounds': 1, 'late': 1, 'dozen': 1, 'gallon': 1, 'patch': 1, 'string': 1, 'mesh': 1, 'nets': 1, 'operates': 1, 'abandoned': 1, 'warehouse': 1, 'held': 1, 'efficient': 1, 'transported': 1, 'directly': 1, 'trains': 1, 'gradually': 1, 'businesses': 1, 'markets': 1, 'fairly': 1, 'busy': 1, 'easily': 1, 'bony': 1, 'sells': 1, 'bowls': 1, 'hot': 1, 'kettle': 1, 'takes': 1, 'chunks': 1, 'tad': 1, 'elsewhere': 1, 'effort': 1, 'terms': 1, 'consistently': 1, 'counted': 1, 'buy': 1, 'purpose': 1, 'youre': 1, 'attacked': 1, 'ill': 1, 'call': 1, 'beef': 1, 'wink': 1, 'leg': 1, 'choosier': 1, 'business': 1, 'knowing': 1, 'hasa': 1, 'particular': 1, 'fondness': 1, 'opens': 1, 'youd': 1, 'expect': 1, 'snob': 1, 'keeps': 1, 'neither': 1, 'group': 1, 'eating': 1, 'lunch': 1, 'assemblies': 1, 'partnering': 1, 'sports': 1, 'activities': 1, 'rarely': 1, 'suits': 1, 'drab': 1, 'replaced': 1, 'expensive': 1, 'blonde': 1, 'done': 1, 'ribbon': 1, 'shoots': 1, 'genuine': 1, 'compliment': 1, 'ironic': 1, 'wearing': 1, 'ordinarily': 1, 'presses': 1, 'lips': 1, 'smiles': 1, 'mean': 1, 'messing': 1, 'guessing': 1, 'second': 1, 'coolly': 1, 'circular': 1, 'adorns': 1, 'beautifully': 1, 'months': 1, 'offshe': 1, 'puts': 1, 'closes': 1, 'silence': 1, 'unfair': 1, 'getting': 1, 'worst': 1, 'eligible': 1, 'twice': 1, 'final': 1, 'eligibility': 1, 'pool': 1, 'true': 1, 'citizen': 1, 'heres': 1, 'opt': 1, 'worth': 1, 'meager': 1, 'supply': 1, 'four': 1, 'cumulative': 1, 'sixteen': 1, 'thereaping': 1, 'either': 1, 'singlehandedly': 1, 'feeding': 1, 'needing': 1, 'impossible': 1, 'certainly': 1, 'resent': 1, 'anger': 1, 'misdirected': 1, 'ive': 1, 'listened': 1, 'rant': 1, 'tool': 1, 'cause': 1, 'misery': 1, 'hatred': 1, 'workers': 1, 'generally': 1, 'count': 1, 'thereby': 1, 'ensure': 1, 'trust': 1, 'advantage': 1, 'divided': 1, 'ears': 1, 'harmless': 1, 'comment': 1, 'smoldering': 1, 'underneath': 1, 'stony': 1, 'rages': 1, 'pointless': 1, 'yelling': 1, 'change': 1, 'fair': 1, 'scares': 1, 'nearby': 1, 'yell': 1, 'divide': 1, 'spoils': 1, 'leaving': 1, 'quart': 1, 'wear': 1, 'somethingpretty': 1, 'flatly': 1, 'ready': 1, 'wears': 1, 'ruffled': 1, 'pins': 1, 'tucked': 1, 'tub': 1, 'water': 1, 'dirt': 1, 'sweat': 1, 'wash': 1, 'surprise': 1, 'laid': 1, 'dresses': 1, 'matching': 1, 'shoes': 1, 'rejecting': 1, 'offers': 1, 'help': 1, 'angry': 1, 'allow': 1, 'herpast': 1, 'precious': 1, 'toweldry': 1, 'hardly': 1, 'recognize': 1, 'cracked': 1, 'mirror': 1, 'leans': 1, 'wall': 1, 'hushed': 1, 'terrible': 1, 'worried': 1, 'unthinkable': 1, 'happen': 1, 'powerless': 1, 'anguish': 1, 'pain': 1, 'wells': 1, 'chest': 1, 'threatens': 1, 'register': 1, 'ace': 1, 'notice': 1, 'pulled': 1, 'force': 1, 'calm': 1, 'tail': 1, 'duck': 1, 'smoothing': 1, 'giggles': 1, 'kind': 1, 'draw': 1, 'quick': 1, 'kiss': 1, 'top': 1, 'cooking': 1, 'stew': 1, 'decide': 1, 'save': 1, 'meal': 1, 'drink': 1, 'milk': 1, 'lady': 1, 'appetite': 1, 'attendance': 1, 'mandatory': 1, 'unless': 1, 'deaths': 1, 'evening': 1, 'check': 1, 'case': 1, 'youll': 1, 'places': 1, 'surrounded': 1, 'shops': 1, 'especially': 1, 'weather': 1, 'despite': 1, 'banners': 1, 'hanging': 1, 'buildings': 1, 'air': 1, 'grimness': 1, 'camera': 1, 'crews': 1, 'perched': 1, 'buzzards': 1, 'rooftops': 1, 'effect': 1, 'file': 1, 'silently': 1, 'opportunity': 1, 'tabs': 1, 'eighteenyearolds': 1, 'herded': 1, 'roped': 1, 'areas': 1, 'marked': 1, 'theoldest': 1, 'young': 1, 'line': 1, 'perimeter': 1, 'holding': 1, 'tightly': 1, 'anothers': 1, 'stake': 1, 'longer': 1, 'care': 1, 'bets': 1, 'whose': 1, 'aregiven': 1, 'whether': 1, 'weep': 1, 'refuse': 1, 'dealing': 1, 'racketeers': 1, 'tend': 1, 'informers': 1, 'hasnt': 1, 'law': 1, 'basis': 1, 'appetites': 1, 'charge': 1, 'claim': 1, 'choose': 1, 'dying': 1, 'quicker': 1, 'gets': 1, 'tighter': 1, 'claustrophobic': 1, 'arrive': 1, 'quite': 1, 'eight': 1, 'thousand': 1, 'latecomers': 1, 'directed': 1, 'adjacent': 1, 'screens': 1, 'state': 1, 'sixteens': 1, 'terse': 1, 'nods': 1, 'focus': 1, 'temporary': 1, 'justice': 1, 'building': 1, 'balls': 1, 'stare': 1, 'written': 1, 'careful': 1, 'handwriting': 1, 'undersee': 1, 'whos': 1, 'tall': 1, 'balding': 1, 'escort': 1, 'scary': 1, 'grin': 1, 'pinkish': 1, 'spring': 1, 'green': 1, 'suit': 1, 'murmur': 1, 'concern': 1, 'seat': 1, 'town': 1, 'clock': 1, 'strikes': 1, 'steps': 1, 'begins': 1, 'story': 1, 'tells': 1, 'history': 1, 'rose': 1, 'ashes': 1, 'north': 1, 'america': 1, 'lists': 1, 'disasters': 1, 'droughts': 1, 'storms': 1, 'fires': 1, 'encroaching': 1, 'seas': 1, 'swallowed': 1, 'brutal': 1, 'war': 1, 'sustenance': 1, 'remained': 1, 'result': 1, 'shining': 1, 'ringed': 1, 'prosperity': 1, 'citizens': 1, 'defeated': 1, 'thirteenth': 1, 'obliterated': 1, 'treaty': 1, 'treason': 1, 'new': 1, 'laws': 1, 'guarantee': 1, 'yearly': 1, 'reminder': 1, 'repeated': 1, 'simple': 1, 'punishment': 1, 'provide': 1, 'boy': 1, 'participate': 1, 'vast': 1, 'outdoor': 1, 'arena': 1, 'burning': 1, 'desert': 1, 'frozen': 1, 'wasteland': 1, 'period': 1, 'competitors': 1, 'fight': 1, 'deaththe': 1, 'wins': 1, 'forcing': 1, 'reminding': 1, 'totally': 1, 'mercy': 1, 'stand': 1, 'surviving': 1, 'whatever': 1, 'use': 1, 'message': 1, 'sacrifice': 1, 'lift': 1, 'finger': 1, 'destroy': 1, 'humiliating': 1, 'torturous': 1, 'requires': 1, 'festivity': 1, 'sporting': 1, 'pitting': 1, 'receives': 1, 'ease': 1, 'showered': 1, 'prizes': 1, 'largely': 1, 'consisting': 1, 'show': 1, 'winning': 1, 'gifts': 1, 'delicacies': 1, 'sugar': 1, 'rest': 1, 'battle': 1, 'starvation': 1, 'repentance': 1, 'thanks': 1, 'intones': 1, 'list': 1, 'seventyfour': 1, 'exactly': 1, 'abernathy': 1, 'paunchy': 1, 'middleaged': 1, 'appears': 1, 'hollering': 1, 'unintelligible': 1, 'staggers': 1, 'onto': 1, 'third': 1, 'chair': 1, 'drunk': 1, 'responds': 1, 'token': 1, 'applause': 1, 'give': 1, 'manages': 1, 'fend': 1, 'distressed': 1, 'laughingstock': 1, 'introducing': 1, 'bubbly': 1, 'trots': 1, 'signature': 1, 'wig': 1, 'curls': 1, 'shifted': 1, 'slightly': 1, 'offcenter': 1, 'encounter': 1, 'honor': 1, 'aching': 1, 'bumped': 1, 'proper': 1, 'drunks': 1, 'molest': 1, 'nation': 1, 'spot': 1, 'ghost': 1, 'reapings': 1, 'slight': 1, 'entertainment': 1, 'factor': 1, 'maybe': 1, 'darkens': 1, 'turns': 1, 'away': 1, 'thousands': 1, 'wish': 1, 'drawing': 1, 'ladies': 1, 'tothe': 1, 'reaches': 1, 'digs': 1, 'draws': 1, 'collective': 1, 'breath': 1, 'drop': 1, 'nauseous': 1, 'desperately': 1, 'hoping': 1, 'itsnot': 1, 'smoothes': 1})\n"
          ]
        }
      ]
    },
    {
      "cell_type": "code",
      "metadata": {
        "colab": {
          "base_uri": "https://localhost:8080/",
          "height": 379
        },
        "id": "cOJeZ-yW9zeS",
        "outputId": "fc438a4a-c4fe-4d10-bbfc-50d8b929ce58"
      },
      "source": [
        "plot_attention_matrix_row(A, dataset.word2id[\"hunger\"])"
      ],
      "execution_count": 101,
      "outputs": [
        {
          "output_type": "stream",
          "name": "stdout",
          "text": [
            "input index: 754 :: neighbouring_indices: [6, 299, 400, 848, 1107]\n",
            "and\n",
            "of\n",
            "happy\n",
            "games\n",
            "the\n"
          ]
        },
        {
          "output_type": "display_data",
          "data": {
            "image/png": "[encoded data removed]",
            "text/plain": [
              "<Figure size 1440x1440 with 1 Axes>"
            ]
          },
          "metadata": {
            "needs_background": "light"
          }
        }
      ]
    }
  ]
}